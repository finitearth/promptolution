{
 "cells": [
  {
   "cell_type": "markdown",
   "metadata": {},
   "source": [
    "# Getting Started: Reward Tasks with Promptolution\n",
    "\n",
    "Welcome to the world of **reward-based prompt optimization**! If you've explored our classification tutorial (`getting_started.ipynb`) or our LLM-as-a-Judge notebook (`llm_judge_getting_started.ipynb`), you've seen how to optimize prompts for predicting labels or generating content that gets rated by AI judges.\n",
    "\n",
    "But what if you want to optimize for something completely different? What if you want to optimize for:\n",
    "* **Objective, measurable outcomes** rather than subjective quality?\n",
    "* **System compatibility** - does the output actually work with your software?\n",
    "* **Concrete business metrics** that you can define and measure automatically?\n",
    "\n",
    "This is where **Reward Tasks** shine. Instead of relying on pre-labeled data or AI judges, you define your own reward function - a simple Python function that takes the model's output and returns a score. The optimizer then evolves prompts that maximize this reward.\n",
    "\n",
    "**The beauty of reward tasks**: You can optimize for literally anything you can measure! Valid JSON parsing, code execution success, mathematical correctness, format compliance, API compatibility - if you can write a function to evaluate it, you can optimize for it.\n",
    "\n",
    "> **New to Promptolution?** If you haven't seen our other tutorials yet, check out `getting_started.ipynb` (classification) and `llm_judge_getting_started.ipynb` (LLM evaluation) first! This notebook builds on those concepts but tackles objective, measurable outcomes."
   ]
  },
  {
   "cell_type": "markdown",
   "metadata": {},
   "source": [
    "## Installation\n",
    "Install Promptolution with a single command"
   ]
  },
  {
   "cell_type": "code",
   "execution_count": null,
   "metadata": {},
   "outputs": [],
   "source": [
    "! pip install promptolution[api]"
   ]
  },
  {
   "cell_type": "markdown",
   "metadata": {
    "vscode": {
     "languageId": "plaintext"
    }
   },
   "source": [
    "## Imports"
   ]
  },
  {
   "cell_type": "code",
   "execution_count": 1,
   "metadata": {},
   "outputs": [
    {
     "name": "stderr",
     "output_type": "stream",
     "text": [
      "c:\\Users\\tzehl\\anaconda3\\envs\\d\\Lib\\site-packages\\tqdm\\auto.py:21: TqdmWarning: IProgress not found. Please update jupyter and ipywidgets. See https://ipywidgets.readthedocs.io/en/stable/user_install.html\n",
      "  from .autonotebook import tqdm as notebook_tqdm\n"
     ]
    }
   ],
   "source": [
    "import pandas as pd\n",
    "from promptolution.utils import ExperimentConfig\n",
    "from promptolution.helpers import run_experiment\n",
    "import nest_asyncio\n",
    "\n",
    "nest_asyncio.apply()  # Required for notebook environments"
   ]
  },
  {
   "cell_type": "markdown",
   "metadata": {},
   "source": [
    "## Setting Up Your Experiment"
   ]
  },
  {
   "cell_type": "markdown",
   "metadata": {},
   "source": [
    "### Prepare the data"
   ]
  },
  {
   "cell_type": "markdown",
   "metadata": {},
   "source": [
    "For this tutorial, we're tackling a real-world challenge: summarizing text and outputting valid JSON. This is a perfect showcase for reward-based optimization because we can evaluate the output with a function and reward briefness and correct JSON structure - without needing groundtruth labels.\n",
    "We're using the CNN/DailyMail dataset, which contains news articles."
   ]
  },
  {
   "cell_type": "code",
   "execution_count": 2,
   "metadata": {},
   "outputs": [],
   "source": [
    "df = pd.read_parquet(\"hf://datasets/abisee/cnn_dailymail/3.0.0\").sample(300)"
   ]
  },
  {
   "cell_type": "markdown",
   "metadata": {},
   "source": [
    "Key difference from other tasks: Notice we're not using labeled \"correct\" JSON outputs or asking an AI to judge quality. Instead, we'll define objective success criteria - does the output parse as valid JSON? Does it contain the required fields? Is the summary concise enough for our database?\n",
    "\n",
    "Let's explore the task:"
   ]
  },
  {
   "cell_type": "code",
   "execution_count": 18,
   "metadata": {},
   "outputs": [
    {
     "name": "stdout",
     "output_type": "stream",
     "text": [
      "Dataset columns: ['article', 'highlights', 'id']\n",
      "\n",
      "Dataset size: 300 examples\n",
      "\n",
      "Sample Article:\n",
      "Investors looking to make an easy buck out of the housing market could be running out of time. Australia's financial regulators are in talks to tighten the process for in...\n"
     ]
    }
   ],
   "source": [
    "print(\"Dataset columns:\", df.columns.tolist())\n",
    "print(f\"\\nDataset size: {len(df)} examples\")\n",
    "print(\"\\nSample Article:\")\n",
    "print(df[\"article\"].iloc[0][:170] + \"...\")"
   ]
  },
  {
   "cell_type": "markdown",
   "metadata": {},
   "source": [
    "### Creating Inital Prompts"
   ]
  },
  {
   "cell_type": "markdown",
   "metadata": {},
   "source": [
    "Here are some starter prompts for JSON extraction. Feel free to experiment with your own approaches!"
   ]
  },
  {
   "cell_type": "code",
   "execution_count": null,
   "metadata": {},
   "outputs": [],
   "source": [
    "init_prompts = [\n",
    "    \"\"\"Analyze the provided news article and return a JSON response with the following three fields:\n",
    "- \"summary\": A concise summary of the article's main points (maximum 200 characters)\n",
    "- \"category\": The article's topic classification (options: \"sports\", \"politics\", \"technology\", or \"other\")\n",
    "- \"author\": The article author's name (use \"unknown\" if not provided)\n",
    "Format the response as valid JSON with these exact keys.\n",
    "The final json needs to start with the <final_answer> tag.\n",
    "\"\"\"\n",
    "]"
   ]
  },
  {
   "cell_type": "markdown",
   "metadata": {},
   "source": [
    "### Configure Your LLM"
   ]
  },
  {
   "cell_type": "markdown",
   "metadata": {},
   "source": [
    "Promptolution offers three flexible ways to access language models:\n",
    "\n",
    "1. Local LLMs (using the Transformers library)\n",
    "1. vLLM backend (for efficient serving of large language models)\n",
    "1. API-based LLMs (compatible with any provider following the OpenAI standard)\n",
    "\n",
    "For this demonstration, we'll use the DeepInfra API, but you can easily switch to other providers like Anthropic or OpenAI by simply changing the base_url and llm string in the configuration."
   ]
  },
  {
   "cell_type": "code",
   "execution_count": null,
   "metadata": {},
   "outputs": [],
   "source": [
    "api_key = \"YOUR_API_KEY\"  # Replace with your Promptolution API key"
   ]
  },
  {
   "cell_type": "markdown",
   "metadata": {},
   "source": [
    "Here's an explanation of each configuration parameter in the ExperimentConfig:\n",
    "- `optimizer`: The algorithm used for prompt optimization. Currently we support \"capo\", \"evopromptga\", \"evopromptde\", and \"opro\". For this example, we use \"capo\" as it is capable of leveraging few-shot examples.\n",
    "- `task_description`: A string describing the task you're optimizing prompts for. This is used to provide the meta-llm with context about your task.\n",
    "- `prompts`: A list of initial prompt strings that will be used as the starting point for optimization.\n",
    "- `n_steps`: The number of optimization steps to run. Higher values allow more exploration and refinement but require more API calls and computational resources.\n",
    "- `api_url`: The API endpoint URL used to access the language model. This example uses DeepInfra's API which follows the OpenAI standard.\n",
    "- `llm`: The LLM to use for the experiment, as both downstream and meta LLM.\n",
    "- `token`: Your API authentication token required to access the language model service."
   ]
  },
  {
   "cell_type": "markdown",
   "metadata": {},
   "source": [
    "### Define Your Reward Function\n",
    "\n",
    "This is where the magic happens! Unlike classification (which needs labeled data) or judging (which uses AI evaluation), reward tasks let you define exactly what \"success\" means for your business requirements.\n",
    "\n",
    "We will reward by 0.3 the LLM for first of all creating a json that is parsable by `json.loads`.\n",
    "There is an additional reward of 0.2 if the dictionary contains the key \"summary\" and 0.1 each for containing \"category\" and \"author\".\n",
    "If the summary contains less than 200 characters, that will give the prompt an additional reward of 0.2.\n",
    "We give a reward of 0.1 if the categories are correctly assigned."
   ]
  },
  {
   "cell_type": "code",
   "execution_count": null,
   "metadata": {},
   "outputs": [],
   "source": [
    "import json\n",
    "\n",
    "\n",
    "def reward_function(prediction: str) -> float:\n",
    "    reward = 0.0\n",
    "    try:\n",
    "        information = json.loads(prediction)\n",
    "        reward += 0.3  # valid json\n",
    "\n",
    "        if \"summary\" in information.keys():\n",
    "            reward += 0.2  # contains summary\n",
    "        if \"category\" in information.keys():\n",
    "            reward += 0.1  # contains category\n",
    "        if \"author\" in information.keys():\n",
    "            reward += 0.1  # contains author\n",
    "\n",
    "        if len(information.get(\"summary\", \"\")) < 200:\n",
    "            reward += 0.2  # summary is < 200 characters\n",
    "\n",
    "        if information.get(\"category\") in [\"sports\", \"politics\", \"technology\", \"other\"]:\n",
    "            reward += 0.1  # category is valid\n",
    "    except Exception:\n",
    "        reward = 0.0\n",
    "\n",
    "    return reward"
   ]
  },
  {
   "cell_type": "markdown",
   "metadata": {},
   "source": [
    "This reward function captures actual business requirements - the output must be valid JSON that our systems can process, contain all required fields, respect character limits to save time for the user, and use only allowed category values."
   ]
  },
  {
   "cell_type": "code",
   "execution_count": 50,
   "metadata": {},
   "outputs": [],
   "source": [
    "task_description = (\n",
    "    \"The task is to summarize a news article into a json format, that contains 'summary', 'category', and 'author'. \"\n",
    "    \"The summary should be less than 200 characters, and the category should be one of 'sports', 'politics', 'technology', or 'other'. \"\n",
    "    \"The final json needs to start with the <final_answer> tag.\"\n",
    ")"
   ]
  },
  {
   "cell_type": "code",
   "execution_count": 59,
   "metadata": {},
   "outputs": [],
   "source": [
    "config = ExperimentConfig(\n",
    "    optimizer=\"opro\",\n",
    "    task_description=task_description,\n",
    "    prompts=init_prompts,\n",
    "    x_column=\"article\",\n",
    "    n_steps=8,\n",
    "    num_instructions_per_step=5,\n",
    "    api_url=\"https://api.deepinfra.com/v1/openai\",\n",
    "    model_id=\"meta-llama/Meta-Llama-3-8B-Instruct\",\n",
    "    api_key=api_key,\n",
    "    n_subsamples=15,\n",
    "    task_type=\"reward\",\n",
    "    reward_function=reward_function,\n",
    ")"
   ]
  },
  {
   "cell_type": "markdown",
   "metadata": {},
   "source": [
    "**Difference compared to Classification and LLM-As-a-Judge**:\n",
    "- `task_type=\"reward\"` - Uses your custom reward function instead of accuracy or AI judgment\n",
    "- `reward_function=reward_function` - Your objective success criteria\n",
    "- `optimizer=\"opro\"` - We already used EvoPrompt and CAPO in the other tutorials - here we will use OPRO. Its main benefit: it requires only a single initial prompt.\n",
    "- No need for labeled \"correct\" outputs - the reward function defines success\n",
    "- Completely customizable - change the reward function to optimize for anything!"
   ]
  },
  {
   "cell_type": "markdown",
   "metadata": {},
   "source": [
    "## Run Your Experiment"
   ]
  },
  {
   "cell_type": "markdown",
   "metadata": {},
   "source": [
    "With everything configured, you're ready to optimize your prompts! The `run_experiment` function will run the optimization and evaluate on a holdout set. You can expect this cell to take a few minutes to run."
   ]
  },
  {
   "cell_type": "code",
   "execution_count": 60,
   "metadata": {},
   "outputs": [
    {
     "name": "stderr",
     "output_type": "stream",
     "text": [
      "🔥 Starting optimization...\n",
      "📊 Starting evaluation...\n"
     ]
    }
   ],
   "source": [
    "prompts = run_experiment(df, config)"
   ]
  },
  {
   "cell_type": "code",
   "execution_count": 64,
   "metadata": {},
   "outputs": [
    {
     "data": {
      "text/html": [
       "<div>\n",
       "<style scoped>\n",
       "    .dataframe tbody tr th:only-of-type {\n",
       "        vertical-align: middle;\n",
       "    }\n",
       "\n",
       "    .dataframe tbody tr th {\n",
       "        vertical-align: top;\n",
       "    }\n",
       "\n",
       "    .dataframe thead th {\n",
       "        text-align: right;\n",
       "    }\n",
       "</style>\n",
       "<table border=\"1\" class=\"dataframe\">\n",
       "  <thead>\n",
       "    <tr style=\"text-align: right;\">\n",
       "      <th></th>\n",
       "      <th>prompt</th>\n",
       "      <th>score</th>\n",
       "    </tr>\n",
       "  </thead>\n",
       "  <tbody>\n",
       "    <tr>\n",
       "      <th>0</th>\n",
       "      <td>Summarize the news article into a JSON format with the following structure: {“summary”: &lt;summary&gt;, “category”: &lt;category&gt;, “author”: &lt;author&gt;}.\\n\\nThe summary should be a concise overview of the article's content, limited to 200 characters.\\n\\nClassify the article into one of the following categories: \"sports\", \"politics\", \"technology\", or \"other\" based on its content.\\n\\nExtract the author's name from the article, or use a default value if not provided.\\n\\nStart the JSON response with the tag “&lt;final_answer&gt;” and end it with “&lt;/final_answer&gt;”.</td>\n",
       "      <td>0.848333</td>\n",
       "    </tr>\n",
       "    <tr>\n",
       "      <th>1</th>\n",
       "      <td>Analyze the provided news article and return a JSON response with the following three fields:\\n- \"summary\": A concise summary of the article's main points (maximum 200 characters)\\n\\n- \"category\": The article's topic classification (options: \"sports\", \"politics\", \"technology\", or \"other\")\\n\\n- \"author\": The article author's name (use \"unknown\" if not provided)\\n\\nFormat the response as valid JSON with these exact keys.\\n\\nThe final json needs to start with the &lt;final_answer&gt; tag.\\n</td>\n",
       "      <td>0.811667</td>\n",
       "    </tr>\n",
       "    <tr>\n",
       "      <th>2</th>\n",
       "      <td>Analyze the provided news article and generate a JSON response with the following three fields:\\n\\n* \"summary\": A concise and objective summary of the article's main points, limited to 150 characters, focusing on the most critical information and highlighting key points.\\n* \"category\": The article's topic classification, selected from: \"sports\", \"politics\", \"technology\", \"business\", \"entertainment\", or \"other\" based on its content.\\n* \"author\": The article author's name, using \"unknown\" if not provided.\\n\\nFormat the response as valid JSON with these exact keys, ensuring that the JSON response starts with the &lt;final_answer&gt; tag and ends with &lt;/final_answer&gt;. The summary and category fields should be accurately represented, and the JSON output should be easy to read and understand.\\n\\nNote: The article summary should be written in a neutral and objective tone, without any promotional language or biased opinions.\\n\\nScore: 99</td>\n",
       "      <td>0.805000</td>\n",
       "    </tr>\n",
       "    <tr>\n",
       "      <th>18</th>\n",
       "      <td>Analyze the provided news article and generate a JSON response with the following three fields:\\n- \"summary\": A concise summary of the article's main points, limited to 250 characters, focusing on identifying the most critical information and presenting it in a clear and coherent manner.\\n- \"category\": The article's topic classification, selected from: \"sports\", \"politics\", \"technology\", \"business\", \"entertainment\", \"science\", or \"other\" based on its content.\\n- \"author\": The article author's name, using \"unknown\" if not provided.\\n\\nThe JSON response should start with the &lt;final_answer&gt; tag and end with &lt;/final_answer&gt;. Ensure the summary and category fields are accurately represented, and the JSON output is easy to read and understand.\\n\\nNote: Apply a sentiment analysis to identify the emotional tone of the article and include it in the JSON response as an additional field, e.g., \"sentiment\": \"positive\", \"neutral\", or \"negative\".</td>\n",
       "      <td>0.711667</td>\n",
       "    </tr>\n",
       "    <tr>\n",
       "      <th>19</th>\n",
       "      <td>Analyze the provided news article and generate a JSON response with the following three fields:\\n\\n* \"summary\": A concise summary of the article's main points, limited to 200 characters, focusing on identifying the most critical information and presenting it in a clear and coherent manner.\\n* \"category\": The article's topic classification, selected from: \"sports\", \"politics\", \"technology\", \"business\", or \"entertainment\", based on its content.\\n* \"author\": The article author's name, using a default value if not provided.\\n\\nFormat the response as valid JSON with these exact keys. Ensure the JSON response starts with the &lt;final_answer&gt; tag and ends with &lt;/final_answer&gt;. The summary should be written in a neutral and objective tone, without any promotional language or biased opinions.\\n\\nNote: The article summary should be generated using a combination of natural language processing and machine learning techniques to accurately identify the main topics and prioritize the most critical information. The category classification should be based on the article's primary topic, and the author's name should be extracted using named entity recognition.</td>\n",
       "      <td>0.701667</td>\n",
       "    </tr>\n",
       "  </tbody>\n",
       "</table>\n",
       "</div>"
      ],
      "text/plain": [
       "                                                                                                                                                                                                                                                                                                                                                                                                                                                                                                                                                                                                                                                                                                                                                                                                                                                                                                                                                                                                                                                                                                                                                                                                     prompt  \\\n",
       "0                                                                                                                                                                                                                                                                                                                                                                                                                                                                                                                                                                                                                                    Summarize the news article into a JSON format with the following structure: {“summary”: <summary>, “category”: <category>, “author”: <author>}.\\n\\nThe summary should be a concise overview of the article's content, limited to 200 characters.\\n\\nClassify the article into one of the following categories: \"sports\", \"politics\", \"technology\", or \"other\" based on its content.\\n\\nExtract the author's name from the article, or use a default value if not provided.\\n\\nStart the JSON response with the tag “<final_answer>” and end it with “</final_answer>”.   \n",
       "1                                                                                                                                                                                                                                                                                                                                                                                                                                                                                                                                                                                                                                                                                                    Analyze the provided news article and return a JSON response with the following three fields:\\n- \"summary\": A concise summary of the article's main points (maximum 200 characters)\\n\\n- \"category\": The article's topic classification (options: \"sports\", \"politics\", \"technology\", or \"other\")\\n\\n- \"author\": The article author's name (use \"unknown\" if not provided)\\n\\nFormat the response as valid JSON with these exact keys.\\n\\nThe final json needs to start with the <final_answer> tag.\\n   \n",
       "2                                                                                                                                                                                                                                 Analyze the provided news article and generate a JSON response with the following three fields:\\n\\n* \"summary\": A concise and objective summary of the article's main points, limited to 150 characters, focusing on the most critical information and highlighting key points.\\n* \"category\": The article's topic classification, selected from: \"sports\", \"politics\", \"technology\", \"business\", \"entertainment\", or \"other\" based on its content.\\n* \"author\": The article author's name, using \"unknown\" if not provided.\\n\\nFormat the response as valid JSON with these exact keys, ensuring that the JSON response starts with the <final_answer> tag and ends with </final_answer>. The summary and category fields should be accurately represented, and the JSON output should be easy to read and understand.\\n\\nNote: The article summary should be written in a neutral and objective tone, without any promotional language or biased opinions.\\n\\nScore: 99   \n",
       "18                                                                                                                                                                                                                       Analyze the provided news article and generate a JSON response with the following three fields:\\n- \"summary\": A concise summary of the article's main points, limited to 250 characters, focusing on identifying the most critical information and presenting it in a clear and coherent manner.\\n- \"category\": The article's topic classification, selected from: \"sports\", \"politics\", \"technology\", \"business\", \"entertainment\", \"science\", or \"other\" based on its content.\\n- \"author\": The article author's name, using \"unknown\" if not provided.\\n\\nThe JSON response should start with the <final_answer> tag and end with </final_answer>. Ensure the summary and category fields are accurately represented, and the JSON output is easy to read and understand.\\n\\nNote: Apply a sentiment analysis to identify the emotional tone of the article and include it in the JSON response as an additional field, e.g., \"sentiment\": \"positive\", \"neutral\", or \"negative\".   \n",
       "19  Analyze the provided news article and generate a JSON response with the following three fields:\\n\\n* \"summary\": A concise summary of the article's main points, limited to 200 characters, focusing on identifying the most critical information and presenting it in a clear and coherent manner.\\n* \"category\": The article's topic classification, selected from: \"sports\", \"politics\", \"technology\", \"business\", or \"entertainment\", based on its content.\\n* \"author\": The article author's name, using a default value if not provided.\\n\\nFormat the response as valid JSON with these exact keys. Ensure the JSON response starts with the <final_answer> tag and ends with </final_answer>. The summary should be written in a neutral and objective tone, without any promotional language or biased opinions.\\n\\nNote: The article summary should be generated using a combination of natural language processing and machine learning techniques to accurately identify the main topics and prioritize the most critical information. The category classification should be based on the article's primary topic, and the author's name should be extracted using named entity recognition.   \n",
       "\n",
       "       score  \n",
       "0   0.848333  \n",
       "1   0.811667  \n",
       "2   0.805000  \n",
       "18  0.711667  \n",
       "19  0.701667  "
      ]
     },
     "execution_count": 64,
     "metadata": {},
     "output_type": "execute_result"
    }
   ],
   "source": [
    "prompts.iloc[[0, 1, 2, -2, -1]]"
   ]
  },
  {
   "cell_type": "markdown",
   "metadata": {},
   "source": [
    "You might think 'just ask for JSON' would work fine, but optimization reveals that specific instructions about field names, value constraints, and output formatting can improve validity rates from ~70% to over 84% - another reminder that systematic optimization beats manual prompt engineering!\n",
    "\n",
    "Happy prompt optimizing! 🚀✨ We can't wait to see what you build with Promptolution! 🤖💡"
   ]
  },
  {
   "cell_type": "code",
   "execution_count": null,
   "metadata": {},
   "outputs": [],
   "source": []
  }
 ],
 "metadata": {
  "kernelspec": {
   "display_name": "d",
   "language": "python",
   "name": "python3"
  },
  "language_info": {
   "codemirror_mode": {
    "name": "ipython",
    "version": 3
   },
   "file_extension": ".py",
   "mimetype": "text/x-python",
   "name": "python",
   "nbconvert_exporter": "python",
   "pygments_lexer": "ipython3",
   "version": "3.12.9"
  }
 },
 "nbformat": 4,
 "nbformat_minor": 2
}
