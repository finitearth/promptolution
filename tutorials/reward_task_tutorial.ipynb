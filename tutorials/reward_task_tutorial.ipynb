{
 "cells": [
  {
   "cell_type": "markdown",
   "metadata": {},
   "source": [
    "# Getting Started: Reward Tasks with Promptolution\n",
    "\n",
    "Welcome to the world of **reward-based prompt optimization**! If you've explored our classification tutorial (`getting_started.ipynb`) or our LLM-as-a-Judge notebook (`llm_judge_getting_started.ipynb`), you've seen how to optimize prompts for predicting labels or generating content that gets rated by AI judges.\n",
    "\n",
    "But what if you want to optimize for something completely different? What if you want to optimize for:\n",
    "* **Objective, measurable outcomes** rather than subjective quality?\n",
    "* **System compatibility** - does the output actually work with your software?\n",
    "* **Concrete business metrics** that you can define and measure automatically?\n",
    "\n",
    "This is where **Reward Tasks** shine. Instead of relying on pre-labeled data or AI judges, you define your own reward function - a simple Python function that takes the model's output and returns a score. The optimizer then evolves prompts that maximize this reward.\n",
    "\n",
    "**The beauty of reward tasks**: You can optimize for literally anything you can measure! Valid JSON parsing, code execution success, mathematical correctness, format compliance, API compatibility - if you can write a function to evaluate it, you can optimize for it.\n",
    "\n",
    "> **New to Promptolution?** If you haven't seen our other tutorials yet, check out `getting_started.ipynb` (classification) and `llm_judge_getting_started.ipynb` (LLM evaluation) first! This notebook builds on those concepts but tackles objective, measurable outcomes."
   ]
  },
  {
   "cell_type": "markdown",
   "metadata": {},
   "source": [
    "## Installation\n",
    "Install Promptolution with a single command"
   ]
  },
  {
   "cell_type": "code",
   "execution_count": null,
   "metadata": {},
   "outputs": [],
   "source": [
    "! pip install promptolution[api]"
   ]
  },
  {
   "cell_type": "markdown",
   "metadata": {
    "vscode": {
     "languageId": "plaintext"
    }
   },
   "source": [
    "## Imports"
   ]
  },
  {
   "cell_type": "code",
   "execution_count": 23,
   "metadata": {},
   "outputs": [],
   "source": [
    "import pandas as pd\n",
    "from promptolution.utils import ExperimentConfig\n",
    "from promptolution.helpers import run_experiment\n",
    "import nest_asyncio\n",
    "\n",
    "nest_asyncio.apply()  # Required for notebook environments"
   ]
  },
  {
   "cell_type": "markdown",
   "metadata": {},
   "source": [
    "## Setting Up Your Experiment"
   ]
  },
  {
   "cell_type": "markdown",
   "metadata": {},
   "source": [
    "### Prepare the data"
   ]
  },
  {
   "cell_type": "markdown",
   "metadata": {},
   "source": [
    "For this tutorial, we're tackling a practical business problem: **converting unstructured text into valid JSON**. This is something every company deals with - extracting structured data from emails, documents, conversations, and web content.\n",
    "\n",
    "We're using a specialized dataset designed for JSON extraction tasks, containing diverse text examples across different domains and formats."
   ]
  },
  {
   "cell_type": "code",
   "execution_count": 5,
   "metadata": {},
   "outputs": [],
   "source": [
    "df = pd.read_parquet(\"hf://datasets/paraloq/json_data_extraction/data.parquet\").sample(300)"
   ]
  },
  {
   "cell_type": "markdown",
   "metadata": {},
   "source": [
    "**Key difference from other tasks**: Notice we're not using labeled \"correct\" outputs or asking an AI to judge quality. Instead, we'll define our own objective success criteria - does the output parse as valid JSON?\n",
    "\n",
    "Let's explore what we're working with:"
   ]
  },
  {
   "cell_type": "code",
   "execution_count": null,
   "metadata": {},
   "outputs": [],
   "source": [
    "print(\"Dataset columns:\", df.columns.tolist())\n",
    "print(f\"\\nDataset size: {len(df)} examples\")\n",
    "print(\"\\nSample text:\")\n",
    "print(df[\"text\"].iloc[0][:200] + \"...\")"
   ]
  },
  {
   "cell_type": "markdown",
   "metadata": {},
   "source": [
    "### Creating Inital Prompts"
   ]
  },
  {
   "cell_type": "markdown",
   "metadata": {},
   "source": [
    "Here are some starter prompts for JSON extraction. Feel free to experiment with your own approaches!"
   ]
  },
  {
   "cell_type": "code",
   "execution_count": 15,
   "metadata": {},
   "outputs": [],
   "source": [
    "init_prompts = [\"Translate the provided information into a valid json schema!\"]"
   ]
  },
  {
   "cell_type": "markdown",
   "metadata": {},
   "source": [
    "### Configure Your LLM"
   ]
  },
  {
   "cell_type": "markdown",
   "metadata": {},
   "source": [
    "Promptolution offers three flexible ways to access language models:\n",
    "\n",
    "1. Local LLMs (using the Transformers library)\n",
    "1. vLLM backend (for efficient serving of large language models)\n",
    "1. API-based LLMs (compatible with any provider following the OpenAI standard)\n",
    "\n",
    "For this demonstration, we'll use the DeepInfra API, but you can easily switch to other providers like Anthropic or OpenAI by simply changing the base_url and llm string in the configuration."
   ]
  },
  {
   "cell_type": "code",
   "execution_count": null,
   "metadata": {},
   "outputs": [],
   "source": [
    "api_key = \"YOUR_API_KEY\"  # Replace with your Promptolution API key"
   ]
  },
  {
   "cell_type": "markdown",
   "metadata": {},
   "source": [
    "Here's an explanation of each configuration parameter in the ExperimentConfig:\n",
    "- `optimizer`: The algorithm used for prompt optimization. Currently we support \"capo\", \"evopromptga\", \"evopromptde\", and \"opro\". For this example, we use \"capo\" as it is capable of leveraging few-shot examples.\n",
    "- `task_description`: A string describing the task you're optimizing prompts for. This is used to provide the meta-llm with context about your task.\n",
    "- `prompts`: A list of initial prompt strings that will be used as the starting point for optimization.\n",
    "- `n_steps`: The number of optimization steps to run. Higher values allow more exploration and refinement but require more API calls and computational resources.\n",
    "- `api_url`: The API endpoint URL used to access the language model. This example uses DeepInfra's API which follows the OpenAI standard.\n",
    "- `llm`: The LLM to use for the experiment, as both downstream and meta LLM.\n",
    "- `token`: Your API authentication token required to access the language model service."
   ]
  },
  {
   "cell_type": "markdown",
   "metadata": {},
   "source": [
    "### Define Your Reward Function\n",
    "\n",
    "This is where the magic happens! Unlike classification (which needs labeled data) or judging (which uses AI evaluation), reward tasks let you define exactly what \"success\" means for your business case.\n",
    "\n",
    "Our reward function is beautifully simple and objective:"
   ]
  },
  {
   "cell_type": "code",
   "execution_count": 17,
   "metadata": {},
   "outputs": [],
   "source": [
    "import json\n",
    "\n",
    "\n",
    "def reward_function(prediction: str) -> float:\n",
    "    try:\n",
    "        json.loads(prediction)\n",
    "        return 1.0  # Valid JSON\n",
    "    except json.JSONDecodeError:\n",
    "        return 0.0  # Invalid JSON"
   ]
  },
  {
   "cell_type": "markdown",
   "metadata": {},
   "source": [
    "This reward function captures a real business requirement - \"generate output that our systems can actually process.\" No subjective judgment needed, no human labeling required!"
   ]
  },
  {
   "cell_type": "code",
   "execution_count": 28,
   "metadata": {},
   "outputs": [],
   "source": [
    "config = ExperimentConfig(\n",
    "    optimizer=\"opro\",\n",
    "    task_description=\"The task is to convert information into a valid JSON schema. The LLM should generate a JSON object and return the json inside of <final_answer> tags.\",\n",
    "    prompts=init_prompts,\n",
    "    x_column=\"text\",\n",
    "    n_steps=8,\n",
    "    num_instructions_per_step=5,\n",
    "    api_url=\"https://api.deepinfra.com/v1/openai\",\n",
    "    model_id=\"meta-llama/Meta-Llama-3-8B-Instruct\",\n",
    "    api_key=api_key,\n",
    "    n_subsamples=15,\n",
    "    task_type=\"reward\",\n",
    "    reward_function=reward_function,\n",
    ")"
   ]
  },
  {
   "cell_type": "markdown",
   "metadata": {},
   "source": [
    "**Difference compared to Classification and LLM-As-a-Judge**:\n",
    "- `task_type=\"reward\"` - Uses your custom reward function instead of accuracy or AI judgment\n",
    "- `reward_function=reward_function` - Your objective success criteria\n",
    "- `optimizer=\"opro\"` - We already used EvoPrompt and CAPO in the other tutorials - here we will use OPRO. Its main benefit: it requires only a single initial prompt.\n",
    "- No need for labeled \"correct\" outputs - the reward function defines success\n",
    "- Completely customizable - change the reward function to optimize for anything!"
   ]
  },
  {
   "cell_type": "markdown",
   "metadata": {},
   "source": [
    "## Run Your Experiment"
   ]
  },
  {
   "cell_type": "markdown",
   "metadata": {},
   "source": [
    "With everything configured, you're ready to optimize your prompts! The `run_experiment` function will run the optimization and evaluate on a holdout set. You can expect this cell to take a few minutes to run."
   ]
  },
  {
   "cell_type": "code",
   "execution_count": 29,
   "metadata": {},
   "outputs": [
    {
     "name": "stderr",
     "output_type": "stream",
     "text": [
      "🔥 Starting optimization...\n",
      "📊 Starting evaluation...\n"
     ]
    }
   ],
   "source": [
    "prompts = run_experiment(df, config)"
   ]
  },
  {
   "cell_type": "code",
   "execution_count": 33,
   "metadata": {},
   "outputs": [
    {
     "data": {
      "text/html": [
       "<div>\n",
       "<style scoped>\n",
       "    .dataframe tbody tr th:only-of-type {\n",
       "        vertical-align: middle;\n",
       "    }\n",
       "\n",
       "    .dataframe tbody tr th {\n",
       "        vertical-align: top;\n",
       "    }\n",
       "\n",
       "    .dataframe thead th {\n",
       "        text-align: right;\n",
       "    }\n",
       "</style>\n",
       "<table border=\"1\" class=\"dataframe\">\n",
       "  <thead>\n",
       "    <tr style=\"text-align: right;\">\n",
       "      <th></th>\n",
       "      <th>prompt</th>\n",
       "      <th>score</th>\n",
       "    </tr>\n",
       "  </thead>\n",
       "  <tbody>\n",
       "    <tr>\n",
       "      <th>0</th>\n",
       "      <td>Convert the input text into a valid JSON schema by extracting relevant information and filling in the corresponding fields. The JSON schema format is as follows:\\n{\\n\"meta\": {\\n\"type\": \"object\",\\n\"properties\": {\\n\"author\": {\\n\"type\": \"string\"\\n},\\n\"title\": {\\n\"type\": \"string\"\\n},\\n\"date\": {\\n\"type\": \"string\"\\n}\\n}\\n},\\n\"content\": {\\n\"type\": \"array\",\\n\"items\": {\\n\"type\": \"object\",\\n\"properties\": {\\n\"header\": {\\n\"type\": \"string\"\\n},\\n\"paragraph\": {\\n\"type\": \"string\"\\n}\\n}\\n}\\n}\\n}\\n\\nUse the class label extracted from the text between the markers \"&lt;final_answer&gt;\" and \"&lt;/final_answer&gt;\" as the \"title\" field in the \"meta\" section of the JSON schema.\\n\\nNote: The class label should be extracted using natural language processing techniques such as named entity recognition and sentence classification. If the class label is not present in the text, use an empty string as the default value.</td>\n",
       "      <td>0.316667</td>\n",
       "    </tr>\n",
       "    <tr>\n",
       "      <th>1</th>\n",
       "      <td>To convert text into a valid JSON schema, follow these steps:\\n\\n1. Identify the main entities and relationships present in the text.\\n2. Create a JSON schema template with the following structure:\\n```json\\n{\\n  \"meta\": {\\n    \"type\": \"object\",\\n    \"properties\": {\\n      \"title\": {\\n        \"type\": \"string\"\\n      },\\n      \"author\": {\\n        \"type\": \"string\"\\n      },\\n      \"date\": {\\n        \"type\": \"string\"\\n      }\\n    }\\n  },\\n  \"content\": {\\n    \"type\": \"array\",\\n    \"items\": {\\n      \"type\": \"object\",\\n      \"properties\": {\\n        \"header\": {\\n          \"type\": \"string\"\\n        },\\n        \"paragraphs\": {\\n          \"type\": \"array\",\\n          \"items\": {\\n            \"type\": \"string\"\\n          }\\n        }\\n      }\\n    }\\n  }\\n}\\n```\\n3. Extract relevant information from the text and fill in the corresponding fields in the JSON schema template.\\n4. Use the class label extracted from the text between the markers \"&lt;final_answer&gt;\" and \"&lt;/final_answer&gt;\" as the \"title\" field in the \"meta\" section of the JSON schema.\\n\\nNote: If the class label is not present in the text, use an empty string as the default value.\\n\\nScore: 95</td>\n",
       "      <td>0.133333</td>\n",
       "    </tr>\n",
       "    <tr>\n",
       "      <th>2</th>\n",
       "      <td>Convert the provided text into a valid JSON schema by extracting relevant information and filling in the corresponding fields. The JSON schema format is as follows:\\n\\n{\\n\"meta\": {\\n\"type\": \"object\",\\n\"properties\": {\\n\"title\": {\\n\"type\": \"string\"\\n},\\n\"author\": {\\n\"type\": \"string\"\\n},\\n\"tags\": {\\n\"type\": \"array\",\\n\"items\": {\\n\"type\": \"string\"\\n}\\n},\\n\"date\": {\\n\"type\": \"string\"\\n}\\n},\\n\"content\": {\\n\"type\": \"array\",\\n\"items\": {\\n\"type\": \"object\",\\n\"properties\": {\\n\"heading\": {\\n\"type\": \"string\"\\n},\\n\"paragraphs\": {\\n\"type\": \"array\",\\n\"items\": {\\n\"type\": \"string\"\\n}\\n}\\n}\\n}\\n}\\n}\\n\\nExtract relevant information from the text and fill in the corresponding fields in the JSON schema. The class label is the text within the markers \"&lt;final_answer&gt;\" and \"&lt;/final_answer&gt;\".</td>\n",
       "      <td>0.066667</td>\n",
       "    </tr>\n",
       "    <tr>\n",
       "      <th>3</th>\n",
       "      <td>Convert the provided text into a JSON schema in the following structure:\\n\\n{\\n\"advisory\": {\\n\"type\": \"object\",\\n\"properties\": {\\n\"title\": {\\n\"type\": \"string\"\\n},\\n\"issued\": {\\n\"type\": \"string\"\\n},\\n\"level\": {\\n\"type\": \"integer\"\\n},\\n\"reason\": {\\n\"type\": \"string\"\\n},\\n\"recommendations\": {\\n\"type\": \"array\",\\n\"items\": {\\n\"type\": \"string\"\\n}\\n}\\n},\\n\"character\": {\\n\"type\": \"object\",\\n\"properties\": {\\n\"name\": {\\n\"type\": \"string\"\\n},\\n\"level\": {\\n\"type\":\": \"integer\"\\n},\\n\"health\": {\\n\"type\": \"integer\"\\n},\\n\"mana\": {\\n\"type\": \"integer\"\\n},\\n\"strength\": {\\n\"type\": \"integer\"\\n},\\n\"agility\": {\\n\"type\": \"integer\"\\n},\\n\"intelligence\": {\\n\"type\": \"integer\"\\n},\\n\"equipment\": {\\n\"type\": \"array\",\\n\"items\": {\\n\"type\": \"object\",\\n\"properties\": {\\n\"name\": {\\n\"type\": \"string\"\\n},\\n\"damage\": {\\n\"type\": \"integer\"\\n},\\n\"defense\": {\\n\"type\": \"integer\"\\n},\\n\"durability\": {\\n\"type\": \"integer\"\\n}\\n}\\n}\\n},\\n\"skills\": {\\n\"type\": \"array\",\\n\"items\": {\\n\"type\": \"object\",\\n\"properties\": {\\n\"name\": {\\n\"type\": \"string\"\\n},\\n\"level\": {\\n\"type\": \"integer\"\\n}\\n}\\n}\\n},\\n\"quests\": {\\n\"type\": \"object\",\\n\"properties\": {\\n\"active\": {\\n\"type\": \"array\",\\n\"items\": {\\n\"type\": \"string\"\\n}\\n},\\n\"completed\": {\\n\"type\": \"array\",\\n\"items\": {\\n\"type\": \"string\"\\n}\\n}\\n}\\n}\\n}\\n}\\n\\nPlease extract relevant information from the text and fill in the corresponding fields in the JSON schema. The corresponding class label is the text within the markers \"&lt;final_answer&gt;\" and \"&lt;/final_answer&gt;\".</td>\n",
       "      <td>0.033333</td>\n",
       "    </tr>\n",
       "  </tbody>\n",
       "</table>\n",
       "</div>"
      ],
      "text/plain": [
       "                                                                                                                                                                                                                                                                                                                                                                                                                                                                                                                                                                                                                                                                                                                                                                                                                                                                                                                                                                                                                                                                                                                                                                                                                                                                                                                                                                                                                                                                                                                prompt  \\\n",
       "0                                                                                                                                                                                                                                                                                                                                                                                                                                                                                                                                                                                        Convert the input text into a valid JSON schema by extracting relevant information and filling in the corresponding fields. The JSON schema format is as follows:\\n{\\n\"meta\": {\\n\"type\": \"object\",\\n\"properties\": {\\n\"author\": {\\n\"type\": \"string\"\\n},\\n\"title\": {\\n\"type\": \"string\"\\n},\\n\"date\": {\\n\"type\": \"string\"\\n}\\n}\\n},\\n\"content\": {\\n\"type\": \"array\",\\n\"items\": {\\n\"type\": \"object\",\\n\"properties\": {\\n\"header\": {\\n\"type\": \"string\"\\n},\\n\"paragraph\": {\\n\"type\": \"string\"\\n}\\n}\\n}\\n}\\n}\\n\\nUse the class label extracted from the text between the markers \"<final_answer>\" and \"</final_answer>\" as the \"title\" field in the \"meta\" section of the JSON schema.\\n\\nNote: The class label should be extracted using natural language processing techniques such as named entity recognition and sentence classification. If the class label is not present in the text, use an empty string as the default value.   \n",
       "1                                                                                                                                                                                                                                                                                                                  To convert text into a valid JSON schema, follow these steps:\\n\\n1. Identify the main entities and relationships present in the text.\\n2. Create a JSON schema template with the following structure:\\n```json\\n{\\n  \"meta\": {\\n    \"type\": \"object\",\\n    \"properties\": {\\n      \"title\": {\\n        \"type\": \"string\"\\n      },\\n      \"author\": {\\n        \"type\": \"string\"\\n      },\\n      \"date\": {\\n        \"type\": \"string\"\\n      }\\n    }\\n  },\\n  \"content\": {\\n    \"type\": \"array\",\\n    \"items\": {\\n      \"type\": \"object\",\\n      \"properties\": {\\n        \"header\": {\\n          \"type\": \"string\"\\n        },\\n        \"paragraphs\": {\\n          \"type\": \"array\",\\n          \"items\": {\\n            \"type\": \"string\"\\n          }\\n        }\\n      }\\n    }\\n  }\\n}\\n```\\n3. Extract relevant information from the text and fill in the corresponding fields in the JSON schema template.\\n4. Use the class label extracted from the text between the markers \"<final_answer>\" and \"</final_answer>\" as the \"title\" field in the \"meta\" section of the JSON schema.\\n\\nNote: If the class label is not present in the text, use an empty string as the default value.\\n\\nScore: 95   \n",
       "2                                                                                                                                                                                                                                                                                                                                                                                                                                                                                                                                                                                                                                                                                                             Convert the provided text into a valid JSON schema by extracting relevant information and filling in the corresponding fields. The JSON schema format is as follows:\\n\\n{\\n\"meta\": {\\n\"type\": \"object\",\\n\"properties\": {\\n\"title\": {\\n\"type\": \"string\"\\n},\\n\"author\": {\\n\"type\": \"string\"\\n},\\n\"tags\": {\\n\"type\": \"array\",\\n\"items\": {\\n\"type\": \"string\"\\n}\\n},\\n\"date\": {\\n\"type\": \"string\"\\n}\\n},\\n\"content\": {\\n\"type\": \"array\",\\n\"items\": {\\n\"type\": \"object\",\\n\"properties\": {\\n\"heading\": {\\n\"type\": \"string\"\\n},\\n\"paragraphs\": {\\n\"type\": \"array\",\\n\"items\": {\\n\"type\": \"string\"\\n}\\n}\\n}\\n}\\n}\\n}\\n\\nExtract relevant information from the text and fill in the corresponding fields in the JSON schema. The class label is the text within the markers \"<final_answer>\" and \"</final_answer>\".   \n",
       "3  Convert the provided text into a JSON schema in the following structure:\\n\\n{\\n\"advisory\": {\\n\"type\": \"object\",\\n\"properties\": {\\n\"title\": {\\n\"type\": \"string\"\\n},\\n\"issued\": {\\n\"type\": \"string\"\\n},\\n\"level\": {\\n\"type\": \"integer\"\\n},\\n\"reason\": {\\n\"type\": \"string\"\\n},\\n\"recommendations\": {\\n\"type\": \"array\",\\n\"items\": {\\n\"type\": \"string\"\\n}\\n}\\n},\\n\"character\": {\\n\"type\": \"object\",\\n\"properties\": {\\n\"name\": {\\n\"type\": \"string\"\\n},\\n\"level\": {\\n\"type\":\": \"integer\"\\n},\\n\"health\": {\\n\"type\": \"integer\"\\n},\\n\"mana\": {\\n\"type\": \"integer\"\\n},\\n\"strength\": {\\n\"type\": \"integer\"\\n},\\n\"agility\": {\\n\"type\": \"integer\"\\n},\\n\"intelligence\": {\\n\"type\": \"integer\"\\n},\\n\"equipment\": {\\n\"type\": \"array\",\\n\"items\": {\\n\"type\": \"object\",\\n\"properties\": {\\n\"name\": {\\n\"type\": \"string\"\\n},\\n\"damage\": {\\n\"type\": \"integer\"\\n},\\n\"defense\": {\\n\"type\": \"integer\"\\n},\\n\"durability\": {\\n\"type\": \"integer\"\\n}\\n}\\n}\\n},\\n\"skills\": {\\n\"type\": \"array\",\\n\"items\": {\\n\"type\": \"object\",\\n\"properties\": {\\n\"name\": {\\n\"type\": \"string\"\\n},\\n\"level\": {\\n\"type\": \"integer\"\\n}\\n}\\n}\\n},\\n\"quests\": {\\n\"type\": \"object\",\\n\"properties\": {\\n\"active\": {\\n\"type\": \"array\",\\n\"items\": {\\n\"type\": \"string\"\\n}\\n},\\n\"completed\": {\\n\"type\": \"array\",\\n\"items\": {\\n\"type\": \"string\"\\n}\\n}\\n}\\n}\\n}\\n}\\n\\nPlease extract relevant information from the text and fill in the corresponding fields in the JSON schema. The corresponding class label is the text within the markers \"<final_answer>\" and \"</final_answer>\".   \n",
       "\n",
       "      score  \n",
       "0  0.316667  \n",
       "1  0.133333  \n",
       "2  0.066667  \n",
       "3  0.033333  "
      ]
     },
     "execution_count": 33,
     "metadata": {},
     "output_type": "execute_result"
    }
   ],
   "source": [
    "prompts.iloc[:4]"
   ]
  },
  {
   "cell_type": "markdown",
   "metadata": {},
   "source": [
    "We might think 'just ask for JSON' would work fine, but optimization showed that detailed instructions perform much better - another reminder that optimization beats guessing!\n",
    "\n",
    "\n",
    "Happy prompt optimizing! 🚀✨ We can't wait to see what you build with Promptolution! 🤖💡"
   ]
  },
  {
   "cell_type": "code",
   "execution_count": null,
   "metadata": {},
   "outputs": [],
   "source": []
  }
 ],
 "metadata": {
  "kernelspec": {
   "display_name": "promptolution-py3.12",
   "language": "python",
   "name": "python3"
  },
  "language_info": {
   "codemirror_mode": {
    "name": "ipython",
    "version": 3
   },
   "file_extension": ".py",
   "mimetype": "text/x-python",
   "name": "python",
   "nbconvert_exporter": "python",
   "pygments_lexer": "ipython3",
   "version": "3.12.5"
  }
 },
 "nbformat": 4,
 "nbformat_minor": 2
}
