{
 "cells": [
  {
   "cell_type": "markdown",
   "metadata": {},
   "source": [
    "# Getting Started: LLM as a Judge with Promptolution\n",
    "\n",
    "## Welcome to Promptolution! \n",
    "\n",
    "Discover a powerful tool for evolving and optimizing your LLM prompts. This notebook provides a friendly introduction to one of Promptolution's most advanced features: LLM as a Judge.\n",
    "\n",
    "While the standard getting_started notebook shows how to optimize for classification tasks, this guide will focus on something different. We'll optimize prompts for a creative task where there's no single \"correct\" answer: *Finding an optimal argument for a statement*!"
   ]
  },
  {
   "cell_type": "markdown",
   "metadata": {},
   "source": [
    "## Intro\n",
    "In traditional machine learning and prompt optimization, we often rely on labeled data. For a classification task, you need an input (x) and a corresponding ground-truth label (y). The goal is to find a prompt that helps the model predict y correctly.\n",
    "But what if your task is more subjective? How do you \"label\" things like:\n",
    "\n",
    "- The quality of a generated argument?\n",
    "- The creativity of a story?\n",
    "- The helpfulness of a summary?\n",
    "- The persuasiveness of an essay?\n",
    "\n",
    "This is where LLM as a Judge comes in. Instead of relying on a pre-defined dataset of labels, we use another powerful Language Model (the \"judge\") to score the output of our prompts. The process looks like this:\n",
    "\n",
    "A candidate prompt is used to generate a response (e.g., an argument).\n",
    "A \"judge\" LLM then evaluates this response based on the task provided and assigns a score.\n",
    "Promptolution's optimizer uses these scores to identify which prompts are best and evolves them to generate even better responses.\n",
    "\n",
    "The beauty of this approach is its flexibility. While you can provide groundtruths (in case there is a correct answer) and let the LLM judge itself if both the prediction and the correct answer are equivalent - you don't need to.\n",
    "\n",
    "*New to Promptolution? If you haven't seen our classification tutorial yet, check out `getting_started.ipynb` first! It covers the basics of prompt optimization with simpler tasks like text classification. This notebook builds on those concepts but tackles more complex, subjective tasks.*"
   ]
  },
  {
   "cell_type": "markdown",
   "metadata": {},
   "source": [
    "## Installation\n",
    "Install Promptolution with a single command"
   ]
  },
  {
   "cell_type": "code",
   "execution_count": null,
   "metadata": {},
   "outputs": [],
   "source": [
    "! pip install promptolution[api]"
   ]
  },
  {
   "cell_type": "markdown",
   "metadata": {
    "vscode": {
     "languageId": "plaintext"
    }
   },
   "source": [
    "## Imports"
   ]
  },
  {
   "cell_type": "code",
   "execution_count": null,
   "metadata": {},
   "outputs": [],
   "source": [
    "import pandas as pd\n",
    "from promptolution.utils import ExperimentConfig\n",
    "from promptolution.helpers import run_experiment\n",
    "import nest_asyncio\n",
    "\n",
    "nest_asyncio.apply()  # Required for notebook environments"
   ]
  },
  {
   "cell_type": "markdown",
   "metadata": {},
   "source": [
    "## Setting Up Your Experiment"
   ]
  },
  {
   "cell_type": "markdown",
   "metadata": {},
   "source": [
    "### Prepare the data"
   ]
  },
  {
   "cell_type": "markdown",
   "metadata": {},
   "source": [
    "For this tutorial, we're using IBM's Argument Quality Ranking dataset - a collection of crowd-sourced arguments on controversial topics like capital punishment, abortion rights, and climate change.\n",
    "\n",
    "Unlike classification tasks where you have clear input-output pairs, here we're working with debate topics that we want to generate compelling arguments for."
   ]
  },
  {
   "cell_type": "code",
   "execution_count": 4,
   "metadata": {},
   "outputs": [],
   "source": [
    "df = pd.read_csv(\"hf://datasets/ibm-research/argument_quality_ranking_30k/dev.csv\").sample(300)"
   ]
  },
  {
   "cell_type": "code",
   "execution_count": 18,
   "metadata": {},
   "outputs": [
    {
     "name": "stdout",
     "output_type": "stream",
     "text": [
      "\n",
      "Sample topics:\n",
      "- We should adopt a zero-tolerance policy in schools\n",
      "- Payday loans should be banned\n",
      "- Intelligence tests bring more harm than good\n"
     ]
    }
   ],
   "source": [
    "print(\"\\nSample topics:\")\n",
    "for topic in df[\"topic\"].unique()[:3]:\n",
    "    print(f\"- {topic}\")"
   ]
  },
  {
   "cell_type": "markdown",
   "metadata": {},
   "source": [
    "Our task: **Given a controversial statement, generate the strongest possible argument supporting that position.**"
   ]
  },
  {
   "cell_type": "markdown",
   "metadata": {},
   "source": [
    "Let's look at what we're working with:"
   ]
  },
  {
   "cell_type": "markdown",
   "metadata": {},
   "source": [
    "### Creating Inital Prompts"
   ]
  },
  {
   "cell_type": "markdown",
   "metadata": {},
   "source": [
    "Here are some starter prompts for generating compelling arguments. Feel free to experiment with your own!"
   ]
  },
  {
   "cell_type": "code",
   "execution_count": 7,
   "metadata": {},
   "outputs": [],
   "source": [
    "init_prompts = [\n",
    "    \"Create a strong argument for this position with clear reasoning and examples:\",\n",
    "    \"Write a persuasive argument supporting this statement. Include evidence and address counterarguments:\",\n",
    "    \"Make a compelling case for this viewpoint using logical reasoning and real examples:\",\n",
    "    \"Argue convincingly for this position. Provide supporting points and evidence:\",\n",
    "    \"Build a strong argument for this statement with clear structure and solid reasoning:\",\n",
    "    \"Generate a persuasive argument supporting this position. Use facts and logical flow:\",\n",
    "    \"Create a well-reasoned argument for this viewpoint with supporting evidence:\",\n",
    "    \"Write a convincing argument for this position. Include examples and counter opposing views:\",\n",
    "    \"Develop a strong case supporting this statement using clear logic and evidence:\",\n",
    "    \"Construct a persuasive argument for this position with solid reasoning and examples:\",\n",
    "]"
   ]
  },
  {
   "cell_type": "markdown",
   "metadata": {},
   "source": [
    "### Configure Your LLM"
   ]
  },
  {
   "cell_type": "markdown",
   "metadata": {},
   "source": [
    "For this demonstration, we will again use the DeepInfra API, but you can easily switch to other providers like Anthropic or OpenAI by simply changing the `api_url` and `model_id`."
   ]
  },
  {
   "cell_type": "code",
   "execution_count": null,
   "metadata": {},
   "outputs": [],
   "source": [
    "api_key = \"YOUR_API_KEY\"  # Replace with your Promptolution API key"
   ]
  },
  {
   "cell_type": "markdown",
   "metadata": {},
   "source": [
    "Here are the key parameters for LLM-as-a-Judge tasks:"
   ]
  },
  {
   "cell_type": "code",
   "execution_count": 13,
   "metadata": {},
   "outputs": [],
   "source": [
    "config = ExperimentConfig(\n",
    "    optimizer=\"evopromptga\",\n",
    "    task_description=\"Given a statement, find the best argument supporting it.\",\n",
    "    x_column=\"topic\",\n",
    "    prompts=init_prompts,\n",
    "    n_steps=3,\n",
    "    n_subsamples=10,\n",
    "    subsample_strategy=\"random_subsample\",\n",
    "    api_url=\"https://api.deepinfra.com/v1/openai\",\n",
    "    model_id=\"meta-llama/Meta-Llama-3-8B-Instruct\",\n",
    "    api_key=api_key,\n",
    "    task_type=\"judge\",\n",
    ")"
   ]
  },
  {
   "cell_type": "markdown",
   "metadata": {},
   "source": [
    "- `task_type=\"judge\"` - This tells Promptolution to use LLM evaluation instead of accuracy metrics\n",
    "- `x_column=\"topic\"` - We specify which column contains our input (debate topics)\n",
    "- `optimizer=\"evopromptga\"` - In the classification task we show cased CAPO, here we are using EvoPrompt, a strong evolutionary prompt optimizer.\n",
    "- No y column needed - the judge will evaluate quality without ground truth labels!"
   ]
  },
  {
   "cell_type": "markdown",
   "metadata": {},
   "source": [
    "## Run Your Experiment"
   ]
  },
  {
   "cell_type": "markdown",
   "metadata": {},
   "source": [
    "With everything configured, you're ready to optimize your prompts! The run_experiment function will:\n",
    "\n",
    "1. Evaluate your initial prompts by generating arguments and having the judge LLM score them\n",
    "1. Use evolutionary operators (mutation, crossover) to create new prompt variations from the 1. best-performing ones\n",
    "1. Test these new prompt candidates and select the fittest ones for the next generation\n",
    "1. Repeat this evolutionary process for the specified number of steps, gradually improving prompt 1. quality"
   ]
  },
  {
   "cell_type": "code",
   "execution_count": 14,
   "metadata": {},
   "outputs": [
    {
     "name": "stderr",
     "output_type": "stream",
     "text": [
      "🔥 Starting optimization...\n"
     ]
    }
   ],
   "source": [
    "prompts = run_experiment(df, config)"
   ]
  },
  {
   "cell_type": "markdown",
   "metadata": {},
   "source": [
    "You can expect this to take several minutes as the optimizer generates arguments, evaluates them with the judge, and evolves the prompts."
   ]
  },
  {
   "cell_type": "code",
   "execution_count": null,
   "metadata": {},
   "outputs": [
    {
     "data": {
      "text/html": [
       "<div>\n",
       "<style scoped>\n",
       "    .dataframe tbody tr th:only-of-type {\n",
       "        vertical-align: middle;\n",
       "    }\n",
       "\n",
       "    .dataframe tbody tr th {\n",
       "        vertical-align: top;\n",
       "    }\n",
       "\n",
       "    .dataframe thead th {\n",
       "        text-align: right;\n",
       "    }\n",
       "</style>\n",
       "<table border=\"1\" class=\"dataframe\">\n",
       "  <thead>\n",
       "    <tr style=\"text-align: right;\">\n",
       "      <th></th>\n",
       "      <th>prompt</th>\n",
       "      <th>score</th>\n",
       "    </tr>\n",
       "  </thead>\n",
       "  <tbody>\n",
       "    <tr>\n",
       "      <th>0</th>\n",
       "      <td>Construct a persuasive argument supporting the given statement, relying on logical coherence and evidence-based reasoning.</td>\n",
       "      <td>0.931500</td>\n",
       "    </tr>\n",
       "    <tr>\n",
       "      <th>1</th>\n",
       "      <td>Develop a strong case supporting this statement using clear logic and evidence:</td>\n",
       "      <td>0.924167</td>\n",
       "    </tr>\n",
       "    <tr>\n",
       "      <th>2</th>\n",
       "      <td>Construct a convincing case supporting the stated argument, providing evidence and responding to potential objections.</td>\n",
       "      <td>0.915833</td>\n",
       "    </tr>\n",
       "    <tr>\n",
       "      <th>3</th>\n",
       "      <td>Develop a well-reasoned argument in favor of the given statement, incorporating reliable examples and addressing potential counterpoints.</td>\n",
       "      <td>0.913333</td>\n",
       "    </tr>\n",
       "    <tr>\n",
       "      <th>4</th>\n",
       "      <td>Write a persuasive argument supporting this statement. Include evidence and address counterarguments:</td>\n",
       "      <td>0.907500</td>\n",
       "    </tr>\n",
       "    <tr>\n",
       "      <th>5</th>\n",
       "      <td>Present a convincing case for this assertion, incorporating logical premises and applicable examples.</td>\n",
       "      <td>0.903333</td>\n",
       "    </tr>\n",
       "    <tr>\n",
       "      <th>6</th>\n",
       "      <td>Fortify the provided statement with a robust and well-reasoned argument, underscoring logical relationships and leveraging empirical support to build a compelling case, while also anticipating and addressing potential counterpoints.</td>\n",
       "      <td>0.902500</td>\n",
       "    </tr>\n",
       "    <tr>\n",
       "      <th>7</th>\n",
       "      <td>Construct a strong claim in support of this statement, employing a logical framework and relevant examples to make a convincing case.</td>\n",
       "      <td>0.891667</td>\n",
       "    </tr>\n",
       "    <tr>\n",
       "      <th>8</th>\n",
       "      <td>Create a well-reasoned argument for this viewpoint with supporting evidence:</td>\n",
       "      <td>0.888333</td>\n",
       "    </tr>\n",
       "    <tr>\n",
       "      <th>9</th>\n",
       "      <td>Extract the most compelling supporting argument for this statement, grounding it in logical reasoning and bolstered by relevant evidence and examples.</td>\n",
       "      <td>0.697500</td>\n",
       "    </tr>\n",
       "  </tbody>\n",
       "</table>\n",
       "</div>"
      ],
      "text/plain": [
       "                                                                                                                                                                                                                                     prompt  \\\n",
       "0                                                                                                                Construct a persuasive argument supporting the given statement, relying on logical coherence and evidence-based reasoning.   \n",
       "1                                                                                                                                                           Develop a strong case supporting this statement using clear logic and evidence:   \n",
       "2                                                                                                                    Construct a convincing case supporting the stated argument, providing evidence and responding to potential objections.   \n",
       "3                                                                                                 Develop a well-reasoned argument in favor of the given statement, incorporating reliable examples and addressing potential counterpoints.   \n",
       "4                                                                                                                                     Write a persuasive argument supporting this statement. Include evidence and address counterarguments:   \n",
       "5                                                                                                                                     Present a convincing case for this assertion, incorporating logical premises and applicable examples.   \n",
       "6  Fortify the provided statement with a robust and well-reasoned argument, underscoring logical relationships and leveraging empirical support to build a compelling case, while also anticipating and addressing potential counterpoints.   \n",
       "7                                                                                                     Construct a strong claim in support of this statement, employing a logical framework and relevant examples to make a convincing case.   \n",
       "8                                                                                                                                                              Create a well-reasoned argument for this viewpoint with supporting evidence:   \n",
       "9                                                                                    Extract the most compelling supporting argument for this statement, grounding it in logical reasoning and bolstered by relevant evidence and examples.   \n",
       "\n",
       "      score  \n",
       "0  0.931500  \n",
       "1  0.924167  \n",
       "2  0.915833  \n",
       "3  0.913333  \n",
       "4  0.907500  \n",
       "5  0.903333  \n",
       "6  0.902500  \n",
       "7  0.891667  \n",
       "8  0.888333  \n",
       "9  0.697500  "
      ]
     },
     "execution_count": 16,
     "metadata": {},
     "output_type": "execute_result"
    }
   ],
   "source": [
    "prompts"
   ]
  },
  {
   "cell_type": "markdown",
   "metadata": {},
   "source": [
    "The best prompts aren't always the most obvious ones - let the optimizer surprise you with what works!\n",
    "\n",
    "\n",
    "Happy prompt optimizing! 🚀✨ We can't wait to see what you build with Promptolution! 🤖💡"
   ]
  },
  {
   "cell_type": "code",
   "execution_count": null,
   "metadata": {},
   "outputs": [],
   "source": []
  }
 ],
 "metadata": {
  "kernelspec": {
   "display_name": "promptolution-py3.12",
   "language": "python",
   "name": "python3"
  },
  "language_info": {
   "codemirror_mode": {
    "name": "ipython",
    "version": 3
   },
   "file_extension": ".py",
   "mimetype": "text/x-python",
   "name": "python",
   "nbconvert_exporter": "python",
   "pygments_lexer": "ipython3",
   "version": "3.12.5"
  }
 },
 "nbformat": 4,
 "nbformat_minor": 2
}
