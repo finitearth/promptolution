{
 "cells": [
  {
   "cell_type": "markdown",
   "metadata": {},
   "source": [
    "# Getting Started with Promptolution\n",
    "\n",
    "## Welcome to Promptolution! \n",
    "\n",
    "Discover a powerful tool for evolving and optimizing your LLM prompts. This notebook provides a friendly introduction to Promptolution's core functionality.\n",
    "\n",
    "We're excited to have you try Promptolution - let's get started!"
   ]
  },
  {
   "cell_type": "markdown",
   "metadata": {},
   "source": [
    "## Installation\n",
    "Install Promptolution with a single command"
   ]
  },
  {
   "cell_type": "code",
   "execution_count": null,
   "metadata": {},
   "outputs": [],
   "source": [
    "! pip install promptolution[api]"
   ]
  },
  {
   "cell_type": "markdown",
   "metadata": {
    "vscode": {
     "languageId": "plaintext"
    }
   },
   "source": [
    "## Imports"
   ]
  },
  {
   "cell_type": "code",
   "execution_count": null,
   "metadata": {},
   "outputs": [],
   "source": [
    "import pandas as pd\n",
    "from promptolution import ExperimentConfig, run_experiment\n",
    "import nest_asyncio\n",
    "nest_asyncio.apply() # Required for notebook environments"
   ]
  },
  {
   "cell_type": "markdown",
   "metadata": {},
   "source": [
    "## Setting Up Your Experiment"
   ]
  },
  {
   "cell_type": "markdown",
   "metadata": {},
   "source": [
    "### Prepare the data"
   ]
  },
  {
   "cell_type": "markdown",
   "metadata": {},
   "source": [
    "Below, we're using a subsample of the subjectivity dataset from Hugging Face as an example. When using your own dataset, simply ensure you name the input column \"x\" and the target column \"y\", and provide a brief description of your task, that will parsed to the meta-llm during optimization."
   ]
  },
  {
   "cell_type": "code",
   "execution_count": 3,
   "metadata": {},
   "outputs": [],
   "source": [
    "df = pd.read_csv(\"hf://datasets/tasksource/subjectivity/train.csv\").sample(500)\n",
    "df = df.rename(columns={\"Sentence\": \"x\", \"Label\": \"y\"})\n",
    "df = df.replace({\"OBJ\": \"objective\", \"SUBJ\": \"subjective\"})\n",
    "\n",
    "task_description = \"The dataset contains sentences labeled as either subjective or objective. \"\\\n",
    "        \"The task is to classify each sentence as either subjective or objective. \" \\\n",
    "        \"The class mentioned first in the response of the LLM will be the prediction.\""
   ]
  },
  {
   "cell_type": "markdown",
   "metadata": {},
   "source": [
    "### Creating Inital Prompts"
   ]
  },
  {
   "cell_type": "markdown",
   "metadata": {},
   "source": [
    "We've defined some starter prompts below, but feel free to experiment! You might also want to explore create_prompts_from_samples to automatically generate initial prompts based on your data."
   ]
  },
  {
   "cell_type": "code",
   "execution_count": 4,
   "metadata": {},
   "outputs": [],
   "source": [
    "init_prompts = [\n",
    "    'Classify the given text as either an objective or subjective statement based on the tone and language used: e.g. the tone and language used should indicate whether the statement is a neutral, factual summary (objective) or an expression of opinion or emotional tone (subjective). Include the output classes \"objective\" or \"subjective\" in the prompt.',\n",
    "    'What kind of statement is the following text: [Insert text here]? Is it <objective_statement> or <subjective_statement>?',\n",
    "    'Identify whether a sentence is objective or subjective by analyzing the tone, language, and underlying perspective. Consider the emotion, opinion, and bias present in the sentence. Are the authors presenting objective facts or expressing a personal point of view? The output will be either \"objective\" (output class: objective) or \"subjective\" (output class: subjective).',\n",
    "    'Classify the following sentences as either objective or subjective, indicating the name of the output classes: [input sentence]. Output classes: objective, subjective',\n",
    "    '_query a text about legal or corporate-related issues, and predict whether the tone is objective or subjective, outputting the corresponding class \"objective\" for non-subjective language or \"subjective\" for subjective language_',\n",
    "    'Classify a statement as either \"subjective\" or \"objective\" based on whether it reflects a personal opinion or a verifiable fact. The output classes to include are \"objective\" and \"subjective\".',\n",
    "    'Classify the text as objective or subjective based on its tone and language.',\n",
    "    'Classify the text as objective or subjective based on the presence of opinions or facts. Output classes: objective, subjective.',\n",
    "    'Classify the given text as objective or subjective based on its tone, focusing on its intention, purpose, and level of personal opinion or emotional appeal, with outputs including classes such as objective or subjective.',\n",
    "    \"Categorize the text as either objective or subjective, considering whether it presents neutral information or expresses a personal opinion/bias.\\n\\nObjective: The text has a neutral tone and presents factual information about the actions of Democrats in Congress and the union's negotiations.\\n\\nSubjective: The text has a evaluative tone and expresses a positive/negative opinion/evaluation about the past performance of the country.\",\n",
    "    'Given a sentence, classify it as either \"objective\" or \"subjective\" based on its tone and language, considering the presence of third-person pronouns, neutral language, and opinions. Classify the output as \"objective\" if the tone is neutral and detached, focusing on facts and data, or as \"subjective\" if the tone is evaluative, emotive, or biased.',\n",
    "    'Identify whether the given sentence is subjective or objective, then correspondingly output \"objective\" or \"subjective\" in the form of \"<output class>, (e.g. \"objective\"), without quotes. Please note that the subjective orientation typically describes a sentence where the writer expresses their own opinion or attitude, whereas an objective sentence presents facts or information without personal involvement or bias. <output classes: subjective, objective>'\n",
    "]"
   ]
  },
  {
   "cell_type": "markdown",
   "metadata": {},
   "source": [
    "### Configure Your LLM"
   ]
  },
  {
   "cell_type": "markdown",
   "metadata": {},
   "source": [
    "Promptolution offers three flexible ways to access language models:\n",
    "\n",
    "1. Local LLMs (using the Transformers library)\n",
    "1. vLLM backend (for efficient serving of large language models)\n",
    "1. API-based LLMs (compatible with any provider following the OpenAI standard)\n",
    "\n",
    "For this demonstration, we'll use the DeepInfra API, but you can easily switch to other providers like Anthropic or OpenAI by simply changing the base_url and llm string in the configuration."
   ]
  },
  {
   "cell_type": "code",
   "execution_count": null,
   "metadata": {},
   "outputs": [],
   "source": [
    "token = \"YOUR_API_KEY\" # Replace with your Promptolution API key"
   ]
  },
  {
   "cell_type": "markdown",
   "metadata": {},
   "source": [
    "Here's an explanation of each configuration parameter in the ExperimentConfig:\n",
    "- `optimizer`: The algorithm used for prompt optimization. Currently we support \"capo\", \"evopromptga\", \"evopromptde\", and \"opro\". For this example, we use \"capo\" as it is capable of leveraging few-shot examples.\n",
    "- `task_description`: A string describing the task you're optimizing prompts for. This is used to provide the meta-llm with context about your task.\n",
    "- `prompts`: A list of initial prompt strings that will be used as the starting point for optimization.\n",
    "- `n_steps`: The number of optimization steps to run. Higher values allow more exploration and refinement but require more API calls and computational resources.\n",
    "- `api_url`: The API endpoint URL used to access the language model. This example uses DeepInfra's API which follows the OpenAI standard.\n",
    "- `llm`: The LLM to use for the experiment, as both downstream and meta LLM.\n",
    "- `token`: Your API authentication token required to access the language model service."
   ]
  },
  {
   "cell_type": "code",
   "execution_count": null,
   "metadata": {},
   "outputs": [],
   "source": [
    "config = ExperimentConfig(\n",
    "    optimizer=\"capo\",\n",
    "    task_description=task_description,\n",
    "    prompts=init_prompts,\n",
    "    n_steps=10,\n",
    "    api_url=\"https://api.deepinfra.com/v1/openai\",\n",
    "    llm=\"meta-llama/Meta-Llama-3-8B-Instruct\",\n",
    "    token=token,\n",
    ")"
   ]
  },
  {
   "cell_type": "markdown",
   "metadata": {},
   "source": [
    "## Run Your Experiment"
   ]
  },
  {
   "cell_type": "markdown",
   "metadata": {},
   "source": [
    "With everything configured, you're ready to optimize your prompts! The `run_experiment` function will run the optimization and evaluate on a holdout set. You can expect this cell to take a few minutes to run."
   ]
  },
  {
   "cell_type": "code",
   "execution_count": null,
   "metadata": {},
   "outputs": [],
   "source": [
    "prompts = run_experiment(df, config)"
   ]
  },
  {
   "cell_type": "markdown",
   "metadata": {},
   "source": [
    "As you can see, most optimized prompts are semantically very similar, however they often differ heavily in performance. This is exactly what we observed in our experiments across various LLMs and datasets. Running prompt optimization is an easy way to gain significant performance improvements on your task for free!\n",
    "\n",
    "If you run into any issues while using Promptolution, please feel free to contact us. We're also happy to receive support through pull requests and other contributions to the project.\n",
    "\n",
    "\n",
    "Happy prompt optimizing! 🚀✨ We can't wait to see what you build with Promptolution! 🤖💡"
   ]
  },
  {
   "cell_type": "code",
   "execution_count": 10,
   "metadata": {},
   "outputs": [
    {
     "data": {
      "text/html": [
       "<div>\n",
       "<style scoped>\n",
       "    .dataframe tbody tr th:only-of-type {\n",
       "        vertical-align: middle;\n",
       "    }\n",
       "\n",
       "    .dataframe tbody tr th {\n",
       "        vertical-align: top;\n",
       "    }\n",
       "\n",
       "    .dataframe thead th {\n",
       "        text-align: right;\n",
       "    }\n",
       "</style>\n",
       "<table border=\"1\" class=\"dataframe\">\n",
       "  <thead>\n",
       "    <tr style=\"text-align: right;\">\n",
       "      <th></th>\n",
       "      <th>prompt</th>\n",
       "      <th>score</th>\n",
       "    </tr>\n",
       "  </thead>\n",
       "  <tbody>\n",
       "    <tr>\n",
       "      <th>0</th>\n",
       "      <td>Classify each sentence according to its linguistic attributes, distilling whether it embodies a detached, factual narrative or a personal, opinionated viewpoint. Pay attention to the tone, lexical choices, and underlying perspective of each sentence, teasing apart verifiable facts from emotive convictions. The predicted classification will be the leading response, with the corresponding label nestled between &lt;final_answer&gt; and &lt;/final_answer&gt; markers, limited to \"objective\" and \"subjective\". Sentence analysis will identify objective presentations as neutral, straightforward conveyors of verifiable information and subjective ones as vessels for personal opinions, biases, or emotional influences.\\n\\nInput:</td>\n",
       "      <td>0.766667</td>\n",
       "    </tr>\n",
       "    <tr>\n",
       "      <th>1</th>\n",
       "      <td>Classify each sentence in the dataset as either '&lt;final_answer&gt;objective&lt;/final_answer&gt;' or '&lt;final_answer&gt;subjective&lt;/final_answer&gt;' based on its linguistic tone, language used, and underlying authorial perspective. Identify whether the sentence presents factual, neutral information or expresses a personal opinion, bias, or emotional perspective. Consider the presence of emotion, opinion, and bias, as well as the tone, whether it's neutral, positive, or negative. Take into account the subtle nuances in language that distinguish objective from subjective text, including the author's voice, choice of words, and intention. Your classification should reflect the predominant perspective presented in each sentence, with the class mentioned first in your response being the prediction.\\n\\nInput:\\nIs this a warning of what’s to come?\\n\\nOutput:\\n&lt;final_answer&gt;objective&lt;/final_answer&gt;\\n\\nInput:\\nShe said the hope had been to “change the whole region and finally push things forward in LGBTQ+ rights in the Balkans”.\\n\\nOutput:\\n&lt;final_answer&gt;objective&lt;/final_answer&gt;\\n\\nInput:</td>\n",
       "      <td>0.666667</td>\n",
       "    </tr>\n",
       "    <tr>\n",
       "      <th>2</th>\n",
       "      <td>Transform the given sentence into its corresponding objective or subjective classification. To achieve this, you will need to analyze the tone, purpose, and level of personal opinion or emotional appeal within each sentence. We're looking for a prediction that addresses the following inquiry: is the given sentence founded on verifiable facts, presenting information in a neutral or detached manner, or does it contain personal opinions, emotions, or biases that influence the message?\\n\\n Please indicate your response by specifying one of the two classes first: \"objective\" or \"subjective\". Use the following markers to guide your output: &lt;final_answer&gt; and &lt;/final_answer&gt;.\\n\\nInput:</td>\n",
       "      <td>0.633333</td>\n",
       "    </tr>\n",
       "    <tr>\n",
       "      <th>3</th>\n",
       "      <td>In the realm of corporate and legal discourse, we need to accurately categorize sentences as either objective or subjective. Objectivity is achieved when providing factual information or recounting events in a neutral tone, while subjectivity arises from evaluative or interpretative opinions. Review each sentence for its tone, purpose, and emotional appeal, analyzing whether it presents verifiable facts or conveys personal opinions and biases. Based on the Large Language Model's response, identify the primary class label and extract it from the text between '&lt;final_answer&gt;' and '&lt;/final_answer&gt;'. Your prediction should be a standalone statement indicating the classified class, such as \"&lt;final_answer&gt;objective&lt;/final_answer&gt;\" or \"&lt;final_answer&gt;subjective&lt;/final_answer&gt;\".\\n\\nInput:</td>\n",
       "      <td>0.633333</td>\n",
       "    </tr>\n",
       "    <tr>\n",
       "      <th>4</th>\n",
       "      <td>Categorize the text as either objective or subjective, considering whether it presents neutral information or expresses a personal opinion/bias.\\n\\nObjective: The text has a neutral tone and presents factual information about the actions of Democrats in Congress and the union's negotiations.\\n\\nSubjective: The text has a evaluative tone and expresses a positive/negative opinion/evaluation about the past performance of the country.\\n\\nInput:\\nTecovirimat is still available for doctors to obtain for their patients through an “expanded access” protocol set up by the CDC.\\n\\nOutput:\\n&lt;final_answer&gt;objective&lt;/final_answer&gt;\\n\\nInput:\\nFor now it appears that the extremists have got their way.\\n\\nOutput:\\n&lt;final_answer&gt;objective&lt;/final_answer&gt;\\n\\nInput:\\nThe fiscal swing was more like 4% of gdp in the two years from 2008 to 2010.\\n\\nOutput:\\n&lt;final_answer&gt;objective&lt;/final_answer&gt;\\n\\nInput:\\nUniversity of Washington epidemiologist Ali Mokdad predicted a rise in reported COVID-19 cases.\\n\\nOutput:\\n&lt;final_answer&gt;objective&lt;/final_answer&gt;\\n\\nInput:\\nHow shall the cost of government be reduced?\\n\\nOutput:\\n&lt;final_answer&gt;objective&lt;/final_answer&gt;\\n\\nInput:</td>\n",
       "      <td>0.633333</td>\n",
       "    </tr>\n",
       "    <tr>\n",
       "      <th>5</th>\n",
       "      <td>Task: Sentence Classification - Distinguishing Between Objective and Subjective Text\\n\\nAnalyze the given sentences to categorize them into either objective or subjective presentations. Objective sentences are defined as providing neutral, factual information, whereas subjective sentences convey personal opinions, biases, or emotional perspectives. When processing each sentence, consider the linguistic tone, language used, and underlying authorial perspective. Determine whether the authors present objective facts or express their personal viewpoint. Consider the presence of emotion, opinion, and bias, as well as the tone, whether it's neutral, positive, or negative. The outcome will be either '&lt;final_answer&gt;objective&lt;/final_answer&gt;' or '&lt;final_answer&gt;subjective&lt;/final_answer&gt;', indicating whether the sentence presents factual information or expresses a personal opinion/bias.\\n\\nInput:\\nFor now it appears that the extremists have got their way.\\n\\nOutput:\\n&lt;final_answer&gt;objective&lt;/final_answer&gt;\\n\\nInput:\\nUniversity of Washington epidemiologist Ali Mokdad predicted a rise in reported COVID-19 cases.\\n\\nOutput:\\n&lt;final_answer&gt;objective&lt;/final_answer&gt;\\n\\nInput:</td>\n",
       "      <td>0.633333</td>\n",
       "    </tr>\n",
       "    <tr>\n",
       "      <th>6</th>\n",
       "      <td>Classify the provided sentences into whether they are presented in a straightforward, unbiased manner (\"objective\") or reveal the author's personal feelings, opinions, or perspectives (\"subjective\"). To make this distinction, carefully scrutinize the linguistic characteristics, such as tone, sentence structure, and the conceptual framework employed in each sentence. Pay attention to the presence of emotional language, evaluative statements, and potential biases. In the context of official or business communications, precision is key when reporting factual information or detailing events, whereas subjective expressions of opinion or interpretation are expected in discussions that aim to persuade, analyze, or critique. The classification output will comprise a single word, the initial response, which will be automatically bracketed within the markers &lt;final_answer&gt; and &lt;/final_answer&gt;, with the recognized class labels being limited to \"objective\" and \"subjective\".\\n\\nInput:</td>\n",
       "      <td>0.600000</td>\n",
       "    </tr>\n",
       "    <tr>\n",
       "      <th>7</th>\n",
       "      <td>Transform a given sentence into either a subjective or objective classification by scrutinizing its linguistic tone, word choice, and underlying perspective. Determine whether the sentence conveys a personal opinion or presents verifiable facts by examining the presence of emotion, opinion, and potential bias. The predicted class will be the first mention in the response, with the class label extracted from the text enclosed within markers &lt;final_answer&gt; and &lt;/final_answer&gt;. The recognized classes will be limited to \"objective\" and \"subjective\".\\n\\nInput:</td>\n",
       "      <td>0.600000</td>\n",
       "    </tr>\n",
       "    <tr>\n",
       "      <th>8</th>\n",
       "      <td>Task: Sentence Classification\\n\\nClassify each sentence in the given dataset as either objectively stating facts or subjectively expressing personal opinions. To make this determination, scrutinize the linguistic features, including tone, syntax, and underlying assumptions of each sentence. Identify telltale signs of objectivity, such as factual information presented in a neutral tone, absence of emotive language, and absence of authorial biases. Conversely, recognize indicators of subjectivity, like emotive language, biased wording, or the author's voice. Keep in mind the subtleties in language that distinguish objective from subjective text, including tone, which might be neutral, positive, or negative.\\n\\nWhen generating your prediction, only the first-mentioned class label will be used. This label will be extracted from the response text within the markers '&lt;final_answer&gt;' and '&lt;/final_answer&gt;'. The recognized class labels are limited to '&lt;final_answer&gt;objective&lt;/final_answer&gt;' and '&lt;final_answer&gt;subjective&lt;/final_answer&gt;'. Be cautious of emotions, opinions, and biases that may influence the author's stance when providing your prediction.\\n\\nInput:</td>\n",
       "      <td>0.566667</td>\n",
       "    </tr>\n",
       "    <tr>\n",
       "      <th>9</th>\n",
       "      <td>Classify the given sentences into '&lt;final_answer&gt;objective&lt;/final_answer&gt;' or '&lt;final_answer&gt;subjective&lt;/final_answer&gt;' by analyzing the linguistic characteristics that define objectivity. Explore the tone, syntax, and underlying assumptions of each sentence to determine if it presents factual information or expresses a personal perspective. Specifically, look out for the presence of emotive language, biased wording, and the author's voice to decide whether the sentence is a neutral account of facts or a subjective expression of opinion. Pay attention to the subtleties in language, such as tone, that distinguish objective from subjective text, including whether it's neutral, positive, or negative. Remember that the predicted class will be the initial response, and the corresponding class label will be extracted from the response text within the markers &lt;final_answer&gt; and &lt;/final_answer&gt;. The recognized class labels will be limited to '&lt;final_answer&gt;objective&lt;/final_answer&gt;' and '&lt;final_answer&gt;subjective&lt;/final_answer&gt;'.\\n\\nInput:\\nIs this a warning of what’s to come?\\n\\nOutput:\\n&lt;final_answer&gt;objective&lt;/final_answer&gt;\\n\\nInput:</td>\n",
       "      <td>0.566667</td>\n",
       "    </tr>\n",
       "    <tr>\n",
       "      <th>10</th>\n",
       "      <td>Use your linguistic expertise to objectively categorize given sentences into their respective subjective or objective class. For the purpose of this task, consider a sentence objective if it presents verifiable, fact-based information in a neutral manner. Conversely, classify a sentence as subjective if it conveys personal opinions, biases, or emotional perspectives. When evaluating each sentence, take note of the tone, language used, and underlying authorial perspective. Determine whether the sentence's linguistic attributes lean towards providing detached, factual information or expressing a person's viewpoint. Pay close attention to the presence of emotion, opinion, and bias, as well as the tone, whether it's neutral, positive, or negative. Classify each sentence according to its linguistic characteristics, distinguishing between factual, verifiable narratives and personal, opinion-based viewpoints. The first class mentioned in your response will be considered the prediction, and the class label will be extracted from the text between '&lt;final_answer&gt;' and '&lt;/final_answer&gt;'.\\n\\nInput:\\nUniversity of Washington epidemiologist Ali Mokdad predicted a rise in reported COVID-19 cases.\\n\\nOutput:\\n&lt;final_answer&gt;objective&lt;/final_answer&gt;\\n\\nInput:</td>\n",
       "      <td>0.566667</td>\n",
       "    </tr>\n",
       "    <tr>\n",
       "      <th>11</th>\n",
       "      <td>Classify the provided sentences as either objective or subjective by examining their linguistic characteristics, including tone, language, and perspective. Be mindful of the presence of emotions, opinions, and biases that may impact the author's stance. When providing a prediction, identify and extract the relevant class label from the text between the &lt;final_answer&gt; and &lt;/final_answer&gt; markers, which will be either \"objective\" or \"subjective\". The first mentioned class label in the response will serve as the predicted output.\\n\\nInput:\\n“There’ll be a rise in hospitalization and mortality, but not as high proportionally to the rise in cases simply because many of us – the majority of Americans right now – have been either infected or vaccinated or both, so we have some immunity,” he said.\\n\\nOutput:\\n&lt;final_answer&gt;objective&lt;/final_answer&gt;\\n\\nInput:\\nIs this a warning of what’s to come?\\n\\nOutput:\\n&lt;final_answer&gt;objective&lt;/final_answer&gt;\\n\\nInput:</td>\n",
       "      <td>0.466667</td>\n",
       "    </tr>\n",
       "  </tbody>\n",
       "</table>\n",
       "</div>"
      ],
      "text/plain": [
       "                                                                                                                                                                                                                                                                                                                                                                                                                                                                                                                                                                                                                                                                                                                                                                                                                                                                                                                                                                                                                                                                                                                                                                                                                                                                                                           prompt  \\\n",
       "0                                                                                                                                                                                                                                                                                                                                                                                                                                                                                                                                                                       Classify each sentence according to its linguistic attributes, distilling whether it embodies a detached, factual narrative or a personal, opinionated viewpoint. Pay attention to the tone, lexical choices, and underlying perspective of each sentence, teasing apart verifiable facts from emotive convictions. The predicted classification will be the leading response, with the corresponding label nestled between <final_answer> and </final_answer> markers, limited to \"objective\" and \"subjective\". Sentence analysis will identify objective presentations as neutral, straightforward conveyors of verifiable information and subjective ones as vessels for personal opinions, biases, or emotional influences.\\n\\nInput:   \n",
       "1                                                                                                                                                                                       Classify each sentence in the dataset as either '<final_answer>objective</final_answer>' or '<final_answer>subjective</final_answer>' based on its linguistic tone, language used, and underlying authorial perspective. Identify whether the sentence presents factual, neutral information or expresses a personal opinion, bias, or emotional perspective. Consider the presence of emotion, opinion, and bias, as well as the tone, whether it's neutral, positive, or negative. Take into account the subtle nuances in language that distinguish objective from subjective text, including the author's voice, choice of words, and intention. Your classification should reflect the predominant perspective presented in each sentence, with the class mentioned first in your response being the prediction.\\n\\nInput:\\nIs this a warning of what’s to come?\\n\\nOutput:\\n<final_answer>objective</final_answer>\\n\\nInput:\\nShe said the hope had been to “change the whole region and finally push things forward in LGBTQ+ rights in the Balkans”.\\n\\nOutput:\\n<final_answer>objective</final_answer>\\n\\nInput:   \n",
       "2                                                                                                                                                                                                                                                                                                                                                                                                                                                                                                                                                                                                 Transform the given sentence into its corresponding objective or subjective classification. To achieve this, you will need to analyze the tone, purpose, and level of personal opinion or emotional appeal within each sentence. We're looking for a prediction that addresses the following inquiry: is the given sentence founded on verifiable facts, presenting information in a neutral or detached manner, or does it contain personal opinions, emotions, or biases that influence the message?\\n\\n Please indicate your response by specifying one of the two classes first: \"objective\" or \"subjective\". Use the following markers to guide your output: <final_answer> and </final_answer>.\\n\\nInput:   \n",
       "3                                                                                                                                                                                                                                                                                                                                                                                                                                                                                          In the realm of corporate and legal discourse, we need to accurately categorize sentences as either objective or subjective. Objectivity is achieved when providing factual information or recounting events in a neutral tone, while subjectivity arises from evaluative or interpretative opinions. Review each sentence for its tone, purpose, and emotional appeal, analyzing whether it presents verifiable facts or conveys personal opinions and biases. Based on the Large Language Model's response, identify the primary class label and extract it from the text between '<final_answer>' and '</final_answer>'. Your prediction should be a standalone statement indicating the classified class, such as \"<final_answer>objective</final_answer>\" or \"<final_answer>subjective</final_answer>\".\\n\\nInput:   \n",
       "4                                                                                                        Categorize the text as either objective or subjective, considering whether it presents neutral information or expresses a personal opinion/bias.\\n\\nObjective: The text has a neutral tone and presents factual information about the actions of Democrats in Congress and the union's negotiations.\\n\\nSubjective: The text has a evaluative tone and expresses a positive/negative opinion/evaluation about the past performance of the country.\\n\\nInput:\\nTecovirimat is still available for doctors to obtain for their patients through an “expanded access” protocol set up by the CDC.\\n\\nOutput:\\n<final_answer>objective</final_answer>\\n\\nInput:\\nFor now it appears that the extremists have got their way.\\n\\nOutput:\\n<final_answer>objective</final_answer>\\n\\nInput:\\nThe fiscal swing was more like 4% of gdp in the two years from 2008 to 2010.\\n\\nOutput:\\n<final_answer>objective</final_answer>\\n\\nInput:\\nUniversity of Washington epidemiologist Ali Mokdad predicted a rise in reported COVID-19 cases.\\n\\nOutput:\\n<final_answer>objective</final_answer>\\n\\nInput:\\nHow shall the cost of government be reduced?\\n\\nOutput:\\n<final_answer>objective</final_answer>\\n\\nInput:   \n",
       "5                                                                                        Task: Sentence Classification - Distinguishing Between Objective and Subjective Text\\n\\nAnalyze the given sentences to categorize them into either objective or subjective presentations. Objective sentences are defined as providing neutral, factual information, whereas subjective sentences convey personal opinions, biases, or emotional perspectives. When processing each sentence, consider the linguistic tone, language used, and underlying authorial perspective. Determine whether the authors present objective facts or express their personal viewpoint. Consider the presence of emotion, opinion, and bias, as well as the tone, whether it's neutral, positive, or negative. The outcome will be either '<final_answer>objective</final_answer>' or '<final_answer>subjective</final_answer>', indicating whether the sentence presents factual information or expresses a personal opinion/bias.\\n\\nInput:\\nFor now it appears that the extremists have got their way.\\n\\nOutput:\\n<final_answer>objective</final_answer>\\n\\nInput:\\nUniversity of Washington epidemiologist Ali Mokdad predicted a rise in reported COVID-19 cases.\\n\\nOutput:\\n<final_answer>objective</final_answer>\\n\\nInput:   \n",
       "6                                                                                                                                                                                                                                                                                      Classify the provided sentences into whether they are presented in a straightforward, unbiased manner (\"objective\") or reveal the author's personal feelings, opinions, or perspectives (\"subjective\"). To make this distinction, carefully scrutinize the linguistic characteristics, such as tone, sentence structure, and the conceptual framework employed in each sentence. Pay attention to the presence of emotional language, evaluative statements, and potential biases. In the context of official or business communications, precision is key when reporting factual information or detailing events, whereas subjective expressions of opinion or interpretation are expected in discussions that aim to persuade, analyze, or critique. The classification output will comprise a single word, the initial response, which will be automatically bracketed within the markers <final_answer> and </final_answer>, with the recognized class labels being limited to \"objective\" and \"subjective\".\\n\\nInput:   \n",
       "7                                                                                                                                                                                                                                                                                                                                                                                                                                                                                                                                                                                                                                                                                                                               Transform a given sentence into either a subjective or objective classification by scrutinizing its linguistic tone, word choice, and underlying perspective. Determine whether the sentence conveys a personal opinion or presents verifiable facts by examining the presence of emotion, opinion, and potential bias. The predicted class will be the first mention in the response, with the class label extracted from the text enclosed within markers <final_answer> and </final_answer>. The recognized classes will be limited to \"objective\" and \"subjective\".\\n\\nInput:   \n",
       "8                                                                                              Task: Sentence Classification\\n\\nClassify each sentence in the given dataset as either objectively stating facts or subjectively expressing personal opinions. To make this determination, scrutinize the linguistic features, including tone, syntax, and underlying assumptions of each sentence. Identify telltale signs of objectivity, such as factual information presented in a neutral tone, absence of emotive language, and absence of authorial biases. Conversely, recognize indicators of subjectivity, like emotive language, biased wording, or the author's voice. Keep in mind the subtleties in language that distinguish objective from subjective text, including tone, which might be neutral, positive, or negative.\\n\\nWhen generating your prediction, only the first-mentioned class label will be used. This label will be extracted from the response text within the markers '<final_answer>' and '</final_answer>'. The recognized class labels are limited to '<final_answer>objective</final_answer>' and '<final_answer>subjective</final_answer>'. Be cautious of emotions, opinions, and biases that may influence the author's stance when providing your prediction.\\n\\nInput:   \n",
       "9                                                                                                                        Classify the given sentences into '<final_answer>objective</final_answer>' or '<final_answer>subjective</final_answer>' by analyzing the linguistic characteristics that define objectivity. Explore the tone, syntax, and underlying assumptions of each sentence to determine if it presents factual information or expresses a personal perspective. Specifically, look out for the presence of emotive language, biased wording, and the author's voice to decide whether the sentence is a neutral account of facts or a subjective expression of opinion. Pay attention to the subtleties in language, such as tone, that distinguish objective from subjective text, including whether it's neutral, positive, or negative. Remember that the predicted class will be the initial response, and the corresponding class label will be extracted from the response text within the markers <final_answer> and </final_answer>. The recognized class labels will be limited to '<final_answer>objective</final_answer>' and '<final_answer>subjective</final_answer>'.\\n\\nInput:\\nIs this a warning of what’s to come?\\n\\nOutput:\\n<final_answer>objective</final_answer>\\n\\nInput:   \n",
       "10  Use your linguistic expertise to objectively categorize given sentences into their respective subjective or objective class. For the purpose of this task, consider a sentence objective if it presents verifiable, fact-based information in a neutral manner. Conversely, classify a sentence as subjective if it conveys personal opinions, biases, or emotional perspectives. When evaluating each sentence, take note of the tone, language used, and underlying authorial perspective. Determine whether the sentence's linguistic attributes lean towards providing detached, factual information or expressing a person's viewpoint. Pay close attention to the presence of emotion, opinion, and bias, as well as the tone, whether it's neutral, positive, or negative. Classify each sentence according to its linguistic characteristics, distinguishing between factual, verifiable narratives and personal, opinion-based viewpoints. The first class mentioned in your response will be considered the prediction, and the class label will be extracted from the text between '<final_answer>' and '</final_answer>'.\\n\\nInput:\\nUniversity of Washington epidemiologist Ali Mokdad predicted a rise in reported COVID-19 cases.\\n\\nOutput:\\n<final_answer>objective</final_answer>\\n\\nInput:   \n",
       "11                                                                                                                                                                                                                                                                                                               Classify the provided sentences as either objective or subjective by examining their linguistic characteristics, including tone, language, and perspective. Be mindful of the presence of emotions, opinions, and biases that may impact the author's stance. When providing a prediction, identify and extract the relevant class label from the text between the <final_answer> and </final_answer> markers, which will be either \"objective\" or \"subjective\". The first mentioned class label in the response will serve as the predicted output.\\n\\nInput:\\n“There’ll be a rise in hospitalization and mortality, but not as high proportionally to the rise in cases simply because many of us – the majority of Americans right now – have been either infected or vaccinated or both, so we have some immunity,” he said.\\n\\nOutput:\\n<final_answer>objective</final_answer>\\n\\nInput:\\nIs this a warning of what’s to come?\\n\\nOutput:\\n<final_answer>objective</final_answer>\\n\\nInput:   \n",
       "\n",
       "       score  \n",
       "0   0.766667  \n",
       "1   0.666667  \n",
       "2   0.633333  \n",
       "3   0.633333  \n",
       "4   0.633333  \n",
       "5   0.633333  \n",
       "6   0.600000  \n",
       "7   0.600000  \n",
       "8   0.566667  \n",
       "9   0.566667  \n",
       "10  0.566667  \n",
       "11  0.466667  "
      ]
     },
     "execution_count": 10,
     "metadata": {},
     "output_type": "execute_result"
    }
   ],
   "source": [
    "prompts"
   ]
  },
  {
   "cell_type": "code",
   "execution_count": null,
   "metadata": {},
   "outputs": [],
   "source": []
  }
 ],
 "metadata": {
  "kernelspec": {
   "display_name": ".venv",
   "language": "python",
   "name": "python3"
  },
  "language_info": {
   "codemirror_mode": {
    "name": "ipython",
    "version": 3
   },
   "file_extension": ".py",
   "mimetype": "text/x-python",
   "name": "python",
   "nbconvert_exporter": "python",
   "pygments_lexer": "ipython3",
   "version": "3.12.5"
  }
 },
 "nbformat": 4,
 "nbformat_minor": 2
}
