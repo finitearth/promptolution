{
 "cells": [
  {
   "cell_type": "markdown",
   "metadata": {},
   "source": [
    "# Getting started"
   ]
  },
  {
   "cell_type": "markdown",
   "metadata": {},
   "source": [
    "## Before you start"
   ]
  },
  {
   "cell_type": "markdown",
   "metadata": {},
   "source": [
    "### Custom Dataset\n",
    "If you want to run prompt optimization on your own dataset, follow these steps:\n",
    "\n",
    "1. Create a folder.\n",
    "1. Create a .txt file in the folder named \"prompts.txt\". It should contain 8-12 initial prompts from where you can start the optimization. Add line breaks between each of the prompts\n",
    "1. Create two .txt files in another folder, which contain the dev set \"dev.txt\" and test set \"test.txt\" of your data points. Convert the classes of your file into integers. \n",
    "Make sure to seperate the input from the expected output with a tab!\n",
    "1. Create a description.json file that contains a dictionary, specifying:\n",
    "    - \"seed\": the folder in which you find the dev and test files\n",
    "    - \"init_prompts\": the name of the .txt file pointing to the prompts\n",
    "    - \"description\": A short description of your task, that is fed to the meta-llm in order to optimize the prompts. \n",
    "    (TIP: Include \"The class mentioned first in the response of the LLM will be the prediction.\" in the description if this is how you evaluate the models responses)\n",
    "    - \"classes\": A list of the names of the classes you are trying to predict\n",
    "\n",
    "You can find examples of how this needs to be set up in our repo at data_sets/"
   ]
  },
  {
   "cell_type": "markdown",
   "metadata": {},
   "source": [
    "## Installs"
   ]
  },
  {
   "cell_type": "code",
   "execution_count": 1,
   "metadata": {},
   "outputs": [],
   "source": [
    "! pip install promptolution"
   ]
  },
  {
   "cell_type": "markdown",
   "metadata": {
    "vscode": {
     "languageId": "plaintext"
    }
   },
   "source": [
    "## Imports"
   ]
  },
  {
   "cell_type": "code",
   "execution_count": 1,
   "metadata": {},
   "outputs": [
    {
     "name": "stderr",
     "output_type": "stream",
     "text": [
      "c:\\Users\\tzehl\\Documents\\programming\\promptolution\\.venv\\Lib\\site-packages\\tqdm\\auto.py:21: TqdmWarning: IProgress not found. Please update jupyter and ipywidgets. See https://ipywidgets.readthedocs.io/en/stable/user_install.html\n",
      "  from .autonotebook import tqdm as notebook_tqdm\n"
     ]
    }
   ],
   "source": [
    "from promptolution.helpers import run_experiment\n",
    "from promptolution.config import Config"
   ]
  },
  {
   "cell_type": "markdown",
   "metadata": {},
   "source": [
    "## set up llms, predictor, tasks and optimizer"
   ]
  },
  {
   "cell_type": "code",
   "execution_count": 2,
   "metadata": {},
   "outputs": [],
   "source": [
    "token = open(\"../deepinfratoken.txt\", \"r\").read()"
   ]
  },
  {
   "cell_type": "code",
   "execution_count": 12,
   "metadata": {},
   "outputs": [],
   "source": [
    "config = Config(\n",
    "    task_name=\"agnews\",\n",
    "    ds_path=\"../data_sets/cls/agnews/\",\n",
    "    n_steps=8,\n",
    "    optimizer=\"evopromptde\",\n",
    "    meta_llm=\"meta-llama/Meta-Llama-3-8B-Instruct\",\n",
    "    evaluation_llm=\"meta-llama/Meta-Llama-3-8B-Instruct\",\n",
    "    downstream_llm=\"meta-llama/Meta-Llama-3-8B-Instruct\",\n",
    "    api_token=token,\n",
    "    prepend_examplars=True,\n",
    "    exemplar_selector=\"random_search\",\n",
    ")"
   ]
  },
  {
   "cell_type": "code",
   "execution_count": 13,
   "metadata": {},
   "outputs": [],
   "source": [
    "df = run_experiment(config)"
   ]
  },
  {
   "cell_type": "code",
   "execution_count": 14,
   "metadata": {},
   "outputs": [
    {
     "data": {
      "text/html": [
       "<div>\n",
       "<style scoped>\n",
       "    .dataframe tbody tr th:only-of-type {\n",
       "        vertical-align: middle;\n",
       "    }\n",
       "\n",
       "    .dataframe tbody tr th {\n",
       "        vertical-align: top;\n",
       "    }\n",
       "\n",
       "    .dataframe thead th {\n",
       "        text-align: right;\n",
       "    }\n",
       "</style>\n",
       "<table border=\"1\" class=\"dataframe\">\n",
       "  <thead>\n",
       "    <tr style=\"text-align: right;\">\n",
       "      <th></th>\n",
       "      <th>prompt</th>\n",
       "      <th>score</th>\n",
       "    </tr>\n",
       "  </thead>\n",
       "  <tbody>\n",
       "    <tr>\n",
       "      <th>3</th>\n",
       "      <td>You will be required to classify a news articl...</td>\n",
       "      <td>0.70</td>\n",
       "    </tr>\n",
       "    <tr>\n",
       "      <th>2</th>\n",
       "      <td>Categorize the news article into one of four c...</td>\n",
       "      <td>0.58</td>\n",
       "    </tr>\n",
       "    <tr>\n",
       "      <th>4</th>\n",
       "      <td>Your task is to identify the primary topic of ...</td>\n",
       "      <td>0.50</td>\n",
       "    </tr>\n",
       "    <tr>\n",
       "      <th>1</th>\n",
       "      <td>Based on the main theme of given the news arti...</td>\n",
       "      <td>0.36</td>\n",
       "    </tr>\n",
       "    <tr>\n",
       "      <th>0</th>\n",
       "      <td>Classify the topic of the following news as \"W...</td>\n",
       "      <td>0.30</td>\n",
       "    </tr>\n",
       "  </tbody>\n",
       "</table>\n",
       "</div>"
      ],
      "text/plain": [
       "                                              prompt  score\n",
       "3  You will be required to classify a news articl...   0.70\n",
       "2  Categorize the news article into one of four c...   0.58\n",
       "4  Your task is to identify the primary topic of ...   0.50\n",
       "1  Based on the main theme of given the news arti...   0.36\n",
       "0  Classify the topic of the following news as \"W...   0.30"
      ]
     },
     "execution_count": 14,
     "metadata": {},
     "output_type": "execute_result"
    }
   ],
   "source": [
    "df"
   ]
  },
  {
   "cell_type": "code",
   "execution_count": 15,
   "metadata": {},
   "outputs": [
    {
     "name": "stdout",
     "output_type": "stream",
     "text": [
      "0.3\n",
      "Classify the topic of the following news as \"World\", \"Sports\", \"Tech\" or \"Business\".\n",
      "Inter Conquer Brussels Inter emerged as the winners over Anderlecht in Brussels to claim the first spot in the Champions League Group G. The nerazzurri took the lead nearly immediately when Adriano from the left served a low powerful \n",
      "I would classify the topic of this news as \"Sports\".\n",
      "Cellphone That Detects Bad Breath Siemens Mobile, the German telecommunications company, has announced that it is working on a mobile phone that makes users aware when they have bad breath.\n",
      "I would classify the topic of this news as \"Tech\". The article is about a new mobile phone feature being developed by a telecommunications company, which falls under the category of technology news.\n",
      "Moody #39;s raises Dell #39;s senior unsecured debt rating NEW YORK, Aug 18 - Moody #39;s Investors Service said on Wednesday it raised the senior unsecured debt rating of Dell Inc. (DELL.O: Quote, Profile, Research) with a stable outlook citing the firm #39;s strong balance sheet and solid operating and financial ...\n",
      "I would classify this topic as \"Business\".\n",
      "======\n",
      "0.36\n",
      "Based on the main theme of given the news article, categorize it into World, Sports, Business, or Tech.\n",
      "Too Good to Be True Baseball's back in Washington. So with that award comes an acceptance letter to highlight those efforts that made this dream come to fruition.\n",
      "I would categorize this article as \"Sports\". The article mentions baseball, which is a sport, and an award, which suggests that the article is highlighting a achievement in the sports world.\n",
      "NASA Capsule Containing Solar Wind Particles Crashes (Update1) A space capsule containing NASA #39;s first sample from space in more than 30 years crashed into the Utah desert today after its parachutes failed to open.\n",
      "I would categorize this news article as \"World\" since it involves a space-related incident and a NASA capsule crashing in the Utah desert, which has international implications and interest.\n",
      "Baghdad violence kills at least 25 people and stoking fears that sectarian divisions over when to hold elections could unleash further bloodshed. In a second dawn attack in the capital on Friday, guerrillas killed at \n",
      "I would categorize this news article as \"World\". The article is reporting on a violent event in Baghdad, Iraq, and discussing the potential consequences of sectarian divisions, which is a global news story.\n",
      "======\n",
      "0.58\n",
      "Categorize the news article into one of four categories: World, Sports, Business, or Tech, based on its content.\n",
      "Cellphone That Detects Bad Breath Siemens Mobile, the German telecommunications company, has announced that it is working on a mobile phone that makes users aware when they have bad breath.\n",
      "I would categorize this news article into the \"Tech\" category, as it is about a new mobile phone feature being developed by Siemens Mobile, a telecommunications company.\n",
      "Software piracy whistle-blowers get bigger rewards The BSA trade group ups its reward for information on U.K. companies that are using illegal software.\n",
      "I would categorize this news article under \"Tech\". The article is about Software piracy and the BSA trade group offering rewards for information on U.K. companies that are using illegal software, which is a tech-related issue.\n",
      "PeopleSoft: Oracle's Offer Is Inadequate (AP) AP - Oracle Corp.'s  #36;21-per-share hostile takeover bid for PeopleSoft Inc. isn't good enough for shareholders to accept, PeopleSoft director A. George \"\"Skip\"\" Battle said Wednesday.\n",
      "I would categorize this news article as \"Business\".\n",
      "======\n",
      "0.7\n",
      "You will be required to classify a news article as World, Sports, Business, or Tech based on its primary topic.\n",
      "Inflation remains well contained: US Fed US Federal Reserve said Wednesday that rate hikes can continue at a  quot;measured pace quot; as  quot;inflation and longer-term inflation expectations remain well contained quot;.\n",
      "I would classify this news article as **Business**. The primary topic is the US Federal Reserve's statement on inflation and interest rates, which is a business-related news story.\n",
      "Honor System Used for Flu Shots at U.S. Chain Stores By GRETCHEN PARKER     BALTIMORE (AP) -- At the Walgreens flu shot clinic, the honor system is in place.    If you tell nurses there you have a chronic heart problem, you can get a shot...\n",
      "I would classify this news article as Business, as it primarily discusses the healthcare services offered by Walgreens, a retail chain store.\n",
      "HP unveils low-cost corporate copier With streamlined multifunction device, tech giant aims to gain ground in business copier market.\\\n",
      "I would classify this news article as Business. The primary topic is HP's announcement of a new product (a low-cost corporate copier) and its intended impact on the business copier market, making it a business-related article.\n",
      "======\n",
      "0.5\n",
      "Your task is to identify the primary topic of the news artical and choose from World, Sports, Business and Tech.\n",
      "Australia red-faced BUOYANT New Zealand captain Stephen Fleming was relieved to have enlivened a dormant summer after his Black Caps conjured a stunning four-wicket win against Australia in the opening \n",
      "Based on the article, the primary topic is:\n",
      "\n",
      "* Sports\n",
      "Inter Conquer Brussels Inter emerged as the winners over Anderlecht in Brussels to claim the first spot in the Champions League Group G. The nerazzurri took the lead nearly immediately when Adriano from the left served a low powerful \n",
      "The primary topic of the article is:\n",
      "\n",
      "**Sports**\n",
      "Cellphone That Detects Bad Breath Siemens Mobile, the German telecommunications company, has announced that it is working on a mobile phone that makes users aware when they have bad breath.\n",
      "The primary topic of this news article is \"Tech\". Specifically, it's about a new smartphone feature developed by Siemens Mobile that detects bad breath.\n",
      "======\n"
     ]
    }
   ],
   "source": [
    "for i in range(len(df   )): \n",
    "    print(df.loc[i, \"score\"])\n",
    "    print(df.loc[i, \"prompt\"])\n",
    "    print(\"======\")"
   ]
  },
  {
   "cell_type": "code",
   "execution_count": 11,
   "metadata": {},
   "outputs": [
    {
     "data": {
      "text/html": [
       "<div>\n",
       "<style scoped>\n",
       "    .dataframe tbody tr th:only-of-type {\n",
       "        vertical-align: middle;\n",
       "    }\n",
       "\n",
       "    .dataframe tbody tr th {\n",
       "        vertical-align: top;\n",
       "    }\n",
       "\n",
       "    .dataframe thead th {\n",
       "        text-align: right;\n",
       "    }\n",
       "</style>\n",
       "<table border=\"1\" class=\"dataframe\">\n",
       "  <thead>\n",
       "    <tr style=\"text-align: right;\">\n",
       "      <th></th>\n",
       "      <th>prompt</th>\n",
       "      <th>score</th>\n",
       "    </tr>\n",
       "  </thead>\n",
       "  <tbody>\n",
       "    <tr>\n",
       "      <th>0</th>\n",
       "      <td>Classify the news story into one of the follow...</td>\n",
       "      <td>0.95</td>\n",
       "    </tr>\n",
       "    <tr>\n",
       "      <th>7</th>\n",
       "      <td>You will be required to classify a news articl...</td>\n",
       "      <td>0.90</td>\n",
       "    </tr>\n",
       "    <tr>\n",
       "      <th>11</th>\n",
       "      <td>Classify the topic of the following news as \"W...</td>\n",
       "      <td>0.90</td>\n",
       "    </tr>\n",
       "    <tr>\n",
       "      <th>12</th>\n",
       "      <td>Classify news articles into categories (World,...</td>\n",
       "      <td>0.90</td>\n",
       "    </tr>\n",
       "    <tr>\n",
       "      <th>4</th>\n",
       "      <td>Classify the given news article into one of th...</td>\n",
       "      <td>0.85</td>\n",
       "    </tr>\n",
       "    <tr>\n",
       "      <th>6</th>\n",
       "      <td>Your job is to determine whether a news articl...</td>\n",
       "      <td>0.85</td>\n",
       "    </tr>\n",
       "    <tr>\n",
       "      <th>13</th>\n",
       "      <td>Categorize the provided news article according...</td>\n",
       "      <td>0.85</td>\n",
       "    </tr>\n",
       "    <tr>\n",
       "      <th>1</th>\n",
       "      <td>Categorize the news article into one of four c...</td>\n",
       "      <td>0.80</td>\n",
       "    </tr>\n",
       "    <tr>\n",
       "      <th>2</th>\n",
       "      <td>Your responsibility is to accurately categoriz...</td>\n",
       "      <td>0.80</td>\n",
       "    </tr>\n",
       "    <tr>\n",
       "      <th>3</th>\n",
       "      <td>Identify the primary theme of a news article a...</td>\n",
       "      <td>0.80</td>\n",
       "    </tr>\n",
       "    <tr>\n",
       "      <th>8</th>\n",
       "      <td>In this task, you are given a news article. Yo...</td>\n",
       "      <td>0.80</td>\n",
       "    </tr>\n",
       "    <tr>\n",
       "      <th>14</th>\n",
       "      <td>Accurately categorize news articles into World...</td>\n",
       "      <td>0.80</td>\n",
       "    </tr>\n",
       "    <tr>\n",
       "      <th>5</th>\n",
       "      <td>Accurately categorize the provided news articl...</td>\n",
       "      <td>0.75</td>\n",
       "    </tr>\n",
       "    <tr>\n",
       "      <th>9</th>\n",
       "      <td>Determine the theme of the news item. Choose f...</td>\n",
       "      <td>0.75</td>\n",
       "    </tr>\n",
       "    <tr>\n",
       "      <th>10</th>\n",
       "      <td>Determine the primary theme of the news articl...</td>\n",
       "      <td>0.70</td>\n",
       "    </tr>\n",
       "  </tbody>\n",
       "</table>\n",
       "</div>"
      ],
      "text/plain": [
       "                                               prompt  score\n",
       "0   Classify the news story into one of the follow...   0.95\n",
       "7   You will be required to classify a news articl...   0.90\n",
       "11  Classify the topic of the following news as \"W...   0.90\n",
       "12  Classify news articles into categories (World,...   0.90\n",
       "4   Classify the given news article into one of th...   0.85\n",
       "6   Your job is to determine whether a news articl...   0.85\n",
       "13  Categorize the provided news article according...   0.85\n",
       "1   Categorize the news article into one of four c...   0.80\n",
       "2   Your responsibility is to accurately categoriz...   0.80\n",
       "3   Identify the primary theme of a news article a...   0.80\n",
       "8   In this task, you are given a news article. Yo...   0.80\n",
       "14  Accurately categorize news articles into World...   0.80\n",
       "5   Accurately categorize the provided news articl...   0.75\n",
       "9   Determine the theme of the news item. Choose f...   0.75\n",
       "10  Determine the primary theme of the news articl...   0.70"
      ]
     },
     "execution_count": 11,
     "metadata": {},
     "output_type": "execute_result"
    }
   ],
   "source": [
    "df"
   ]
  }
 ],
 "metadata": {
  "kernelspec": {
   "display_name": ".venv",
   "language": "python",
   "name": "python3"
  },
  "language_info": {
   "codemirror_mode": {
    "name": "ipython",
    "version": 3
   },
   "file_extension": ".py",
   "mimetype": "text/x-python",
   "name": "python",
   "nbconvert_exporter": "python",
   "pygments_lexer": "ipython3",
   "version": "3.11.0"
  }
 },
 "nbformat": 4,
 "nbformat_minor": 2
}
