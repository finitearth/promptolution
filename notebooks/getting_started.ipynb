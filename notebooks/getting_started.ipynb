{
 "cells": [
  {
   "cell_type": "markdown",
   "metadata": {},
   "source": [
    "# Getting started"
   ]
  },
  {
   "cell_type": "markdown",
   "metadata": {},
   "source": [
    "## Before you start"
   ]
  },
  {
   "cell_type": "markdown",
   "metadata": {},
   "source": [
    "### Custom Dataset\n",
    "If you want to run prompt optimization on your own dataset, follow these steps:\n",
    "\n",
    "1. Create a folder.\n",
    "1. Create a .txt file in the folder named \"prompts.txt\". It should contain 8-12 initial prompts from where you can start the optimization. Add line breaks between each of the prompts\n",
    "1. Create two .txt files in another folder, which contain the dev set \"dev.txt\" and test set \"test.txt\" of your data points. Convert the classes of your file into integers. \n",
    "Make sure to seperate the input from the expected output with a tab!\n",
    "1. Create a description.json file that contains a dictionary, specifying:\n",
    "    - \"seed\": the folder in which you find the dev and test files\n",
    "    - \"init_prompts\": the name of the .txt file pointing to the prompts\n",
    "    - \"description\": A short description of your task, that is fed to the meta-llm in order to optimize the prompts. \n",
    "    (TIP: Include \"The class mentioned first in the response of the LLM will be the prediction.\" in the description if this is how you evaluate the models responses)\n",
    "    - \"classes\": A list of the names of the classes you are trying to predict\n",
    "\n",
    "You can find examples of how this needs to be set up in our repo at data_sets/"
   ]
  },
  {
   "cell_type": "markdown",
   "metadata": {},
   "source": [
    "## Installs"
   ]
  },
  {
   "cell_type": "code",
   "execution_count": 1,
   "metadata": {},
   "outputs": [],
   "source": [
    "! pip install promptolution"
   ]
  },
  {
   "cell_type": "markdown",
   "metadata": {
    "vscode": {
     "languageId": "plaintext"
    }
   },
   "source": [
    "## Imports"
   ]
  },
  {
   "cell_type": "code",
   "execution_count": 1,
   "metadata": {},
   "outputs": [
    {
     "name": "stderr",
     "output_type": "stream",
     "text": [
      "c:\\Users\\tzehl\\Documents\\programming\\promptolution\\.venv\\Lib\\site-packages\\tqdm\\auto.py:21: TqdmWarning: IProgress not found. Please update jupyter and ipywidgets. See https://ipywidgets.readthedocs.io/en/stable/user_install.html\n",
      "  from .autonotebook import tqdm as notebook_tqdm\n"
     ]
    }
   ],
   "source": [
    "from promptolution.helpers import run_experiment\n",
    "from promptolution.config import Config"
   ]
  },
  {
   "cell_type": "markdown",
   "metadata": {},
   "source": [
    "## set up llms, predictor, tasks and optimizer"
   ]
  },
  {
   "cell_type": "code",
   "execution_count": 2,
   "metadata": {},
   "outputs": [],
   "source": [
    "token = open(\"../deepinfratoken.txt\", \"r\").read()"
   ]
  },
  {
   "cell_type": "code",
   "execution_count": 5,
   "metadata": {},
   "outputs": [],
   "source": [
    "config = Config(\n",
    "    task_name=\"agnews\",\n",
    "    ds_path=\"../data_sets/cls/agnews/\",\n",
    "    n_steps=8,\n",
    "    optimizer=\"evopromptga\",\n",
    "    meta_llm=\"meta-llama/Meta-Llama-3-8B-Instruct\",\n",
    "    evaluation_llm=\"meta-llama/Meta-Llama-3-8B-Instruct\",\n",
    "    downstream_llm=\"meta-llama/Meta-Llama-3-8B-Instruct\",\n",
    "    api_token=token,\n",
    "    prepend_examplars=True,\n",
    "    n_examplars=5\n",
    ")"
   ]
  },
  {
   "cell_type": "code",
   "execution_count": 7,
   "metadata": {},
   "outputs": [
    {
     "name": "stdout",
     "output_type": "stream",
     "text": [
      "['Your job is to determine whether a news article belongs to the World, Sports, Business, or Tech category based on its primary theme.\\nVa. Tech speeds up Mac OS X supercomputer by almost 20 OCTOBER 26, 2004 (MACCENTRAL) - Virginia Tech #39;s all-Mac OS X supercomputer at the university #39;s Terascale Computing Facility made headlines last year when it was determined to be the third-fastest supercomputer in the world.I would categorize this news article as \"Tech\". The primary theme of the article is about a Virginia Tech supercomputer and its speed, mentioning Mac OS X and referring to it as the third-fastest supercomputer in the world.', 'Your job is to determine whether a news article belongs to the World, Sports, Business, or Tech category based on its primary theme.\\nCellphone That Detects Bad Breath Siemens Mobile, the German telecommunications company, has announced that it is working on a mobile phone that makes users aware when they have bad breath.I would categorize this news article under the \"Tech\" category. The primary theme of the article is a new smartphone feature being developed by Siemens Mobile, which is a technology company.', 'Your job is to determine whether a news article belongs to the World, Sports, Business, or Tech category based on its primary theme.\\nMariners fire Melvin after two seasons NOTES He indicated to reporters Sunday that he still wanted to manage the Mariners, but Melvin might get another chance elsewhere. Bavasi said he called an undisclosed club to suggest Melvin be considered for a managerial vacancy.I would categorize this news article as \"Sports\" as it revolves around the firing of a manager in a professional sports team, specifically the Seattle Mariners.', 'Your job is to determine whether a news article belongs to the World, Sports, Business, or Tech category based on its primary theme.\\nMariners fire Melvin after two seasons NOTES He indicated to reporters Sunday that he still wanted to manage the Mariners, but Melvin might get another chance elsewhere. Bavasi said he called an undisclosed club to suggest Melvin be considered for a managerial vacancy.Based on the primary theme, I would categorize this news article under the Sports category. The article is about the Seattle Mariners firing their manager, Scott Servais, and Bavasi suggesting he be considered for another managerial vacancy, making it a sports-related news article.', 'Your job is to determine whether a news article belongs to the World, Sports, Business, or Tech category based on its primary theme.\\nVenture by Time Warner And Microsoft Unsettles EU A Bethesda company owned by Microsoft Corp. and Time Warner Inc. is the subject of a European Union investigation into whether the company #39;s software will give the two media giants a monopoly in copyright protection.Based on the primary theme of the article, I would categorize it as \"Business\". The article discusses a European Union investigation into a business deal or merger between Time Warner and Microsoft, which is likely to have significant implications for the business industry.']\n",
      "[\"You will be required to classify a news article as World, Sports, Business, or Tech based on its primary topic.\\nUnlikely Visionary Behind Private Race to Space SpaceShipOne visionary Peter Diamandis wasn't thinking about history as he stood in the Mojave desert and watched a small, shuttlecock-shaped craft glide back to Earth having nudged the edge of space. He just thought it looked beautiful.I would classify this news article as Tech. The primary topic is Peter Diamandis and his private space program, SpaceShipOne, which is a technological achievement in the field of space exploration.\", 'You will be required to classify a news article as World, Sports, Business, or Tech based on its primary topic.\\nNew fertility treatment \\'closer\\' Women may be able to have unfertilised eggs routinely frozen during fertility treatment rather than just embryos after research.I would classify this news article as \"Health/Science\" (which could also fit under \"World\")', 'You will be required to classify a news article as World, Sports, Business, or Tech based on its primary topic.\\nWell, it worked for Bill So let me get this straight: Barry Bonds used steroids, but he didn #39;t inhale?***Mr. Schwarzenegger, meet your new lieutenant governor.I would classify this news article as Sports. The primary topic appears to be about an athlete, Barry Bonds, and his use of steroids.', 'You will be required to classify a news article as World, Sports, Business, or Tech based on its primary topic.\\nMariners fire Melvin after two seasons NOTES He indicated to reporters Sunday that he still wanted to manage the Mariners, but Melvin might get another chance elsewhere. Bavasi said he called an undisclosed club to suggest Melvin be considered for a managerial vacancy.I would classify this news article as Sports.', 'You will be required to classify a news article as World, Sports, Business, or Tech based on its primary topic.\\nIBM updates WebSphere Application Server software OCTOBER 06, 2004 (COMPUTERWORLD) - IBM today unveiled a new version of its WebSphere Application Server software, which is designed to protect applications from server downtime and boost enterprise efforts to build a service-oriented architecture (SOA).I would classify this news article as Tech. The article is primarily about IBM updating its WebSphere Application Server software, which is a topic related to technology.']\n",
      "['You will be given a news article and asked to classify it as World, Sports, Business and Tech, depending on its main topic.\\nGuarding of Ukraine central election commission relieved KIEV, November 3 (Itar-Tass) - Water cannons and armoured personnel carriers were removed from the territory of the Ukrainian central election commission on Wednesday.I would classify this news article as World.', 'You will be given a news article and asked to classify it as World, Sports, Business and Tech, depending on its main topic.\\nUpdate 6: Dutch Steelmaker Buying ISG in \\\\$4.5B Deal Steel tycoon Lakshmi Mittal announced plans Monday to take over US steelmaker International Steel Group as part of a three-way merger to create a global metals mammoth.I would classify this news article as Business.', 'You will be given a news article and asked to classify it as World, Sports, Business and Tech, depending on its main topic.\\nAustralia red-faced BUOYANT New Zealand captain Stephen Fleming was relieved to have enlivened a dormant summer after his Black Caps conjured a stunning four-wicket win against Australia in the opening Sports', 'You will be given a news article and asked to classify it as World, Sports, Business and Tech, depending on its main topic.\\nInjury fears allayed over Celtic #39;s McNamara Injury fears over Celtic skipper Jackie McNamara have subsided after a scan revealed he has not broken his ankle. It was initially feared that McNamara had broken his ankle after a clash against Barcelona #39;s Ludovic Giuly on Tuesday night.I would classify this article as **Sports**, as it is about an athlete (Jackie McNamara) from a sports team (Celtic) and an injury he sustained during a match.', 'You will be given a news article and asked to classify it as World, Sports, Business and Tech, depending on its main topic.\\nNASA Develops Robust Artificial Intelligence for Planetary Rovers NASA is planning to add a strong dose of artificial intelligence (AI) to planetary rovers to make them much more self-reliant, capable of making basic decisions during a mission. Scientists are developing very complex AI software that enables a higher level of robotic intelligence.I would classify this news article as **Tech**.']\n",
      "['Organize the given news article into its most fitting category (World, Sports, Business, or Tech) according to its core theme or subject matter.\\nCellphone That Detects Bad Breath Siemens Mobile, the German telecommunications company, has announced that it is working on a mobile phone that makes users aware when they have bad breath.I would categorize this news article under the category of \"Tech\". The core theme of the article is about a new innovative technology being developed by Siemens Mobile, a company that specializes in telecommunications and mobile technologies. The article is discussing a specific feature of a mobile phone that detects bad breath, which falls under the broader category of technology and innovation.', 'Organize the given news article into its most fitting category (World, Sports, Business, or Tech) according to its core theme or subject matter.\\nHenson plays for Cowboys, now will he start? Now Henson is waiting like everyone else to find out if he #39;ll soon be the starting quarterback. Coach Bill Parcells today said starter Vinny Testaverde is questionable because of a sore shoulder and back.I would categorize this news article under \"Sports\", specifically under the category of NFL (National Football League) news. The article is discussing the Dallas Cowboys and their quarterback situation, with a focus on Henson\\'s potential to start and the uncertainty surrounding Vinny Testaverde\\'s injury status.', 'Organize the given news article into its most fitting category (World, Sports, Business, or Tech) according to its core theme or subject matter.\\nRyanair may face Belgian courts Budget airline Ryanair is obliged to be taken to court under EU law if it fails to pay back illegal state aid for flying to Belgium\\'s Charleroi airport.I would categorize this news article as \"Business\". The core theme of the article is that Ryanair, a budget airline, may face Belgian courts due to allegations of unpaid state aid, which is a business-related issue.', 'Organize the given news article into its most fitting category (World, Sports, Business, or Tech) according to its core theme or subject matter.\\nMicrosoft delays SP2 auto update Slowdown will give big companies more time to hunt down compatibility problems, the company says.I would categorize this news article as \"Tech\" because it primarily discusses software updates and their impact on computer systems, specifically the delay of SP2 auto update by Microsoft.', 'Organize the given news article into its most fitting category (World, Sports, Business, or Tech) according to its core theme or subject matter.\\nShould Your Next Car Be New or Used? Used cars have a lot to offer -- if you know what you\\'re doing.I would organize this news article into the category of \"Business\" since its core theme is about purchasing vehicles, specifically whether to buy a new or used car.']\n",
      "['Categorize the given news article into one of the four categories (World, Sports, Business, or Tech) based on its primary theme.\\nDolby, Intel sound off for developers Companies plan tools for improving high-end audio for PCs with Intel inside.I would categorize this news article under \"Tech\" as the primary theme is the partnership between Dolby and Intel to develop tools for improving high-end audio for PCs with Intel processors.', 'Categorize the given news article into one of the four categories (World, Sports, Business, or Tech) based on its primary theme.\\nExplosion marks first day of Iraq campaigns Violence marred Iraq #39;s first official day of parliamentary election campaigning Wednesday as interim Iraqi Prime Minister Ayad Allawi announced his candidacy for the Jan. 30 I would categorize this news article under the category \"World\". The primary theme of the article is the political situation in Iraq, specifically the start of parliamentary election campaigns and the announcement of a candidate, which is a significant international event.', 'Categorize the given news article into one of the four categories (World, Sports, Business, or Tech) based on its primary theme.\\nYukos to stop oil exports to China Russian oil giant Yukos has decided to halt two-thirds of its oil exports to China, raising the stakes in its yearlong legal battle with the authorities.I would categorize this news article into the \"Business\" category, as the primary theme is the halt of oil exports to China by the Russian oil giant Yukos, which is a business-related issue.', 'Categorize the given news article into one of the four categories (World, Sports, Business, or Tech) based on its primary theme.\\nHalliburton to Restructure KBR Unit (Reuters) Reuters - Halliburton Co.  said on\\\\Thursday it would restructure its KBR unit and may shed the\\\\business if the oil services company\\'s stock performance keeps\\\\lagging its peers.Based on the primary theme of the article, I would categorize it into the \"Business\" category. The article is focused on Halliburton\\'s plans to restructure its KBR unit and potentially sell it off due to lagging stock performance, making it a business-related news story.', \"Categorize the given news article into one of the four categories (World, Sports, Business, or Tech) based on its primary theme.\\nNL Wrap: Ramirez Shines in Cubs Victory Over Reds (Reuters) Reuters - Aramis Ramirez homered three times and\\\\drove in all of Chicago's runs as the Cubs edged the Cincinnati\\\\Reds 5-4 in National League play at the Great American Ballpark\\\\on Thursday.The primary theme of this news article is Sports, as it is about a baseball game played by the Chicago Cubs against the Cincinnati Reds.\"]\n",
      "['Assign a topic category to the given news: World, Sports, Business, or Tech.\\nSchwab ex-CEO to get almost \\\\$10M SAN FRANCISCO (CBS.MW) -- Charles Schwab Corp. is paying David Pottruck, ousted as chief executive officer in July, a lump-sum payment of \\\\$6.I would categorize this news under \"Business\".', 'Assign a topic category to the given news: World, Sports, Business, or Tech.\\nQB Tate to Lead Injured Hawkeyes Vs. PSU (AP) AP - No. 25 Iowa is having a hard time keeping its tailbacks healthy.I would assign the topic to the category \"Sports\".', 'Assign a topic category to the given news: World, Sports, Business, or Tech.\\nNew fertility treatment \\'closer\\' Women may be able to have unfertilised eggs routinely frozen during fertility treatment rather than just embryos after research.I would assign this topic to the category \"Health/Science\" (which is often split into multiple categories such as World, Science, Medicine, etc.). The topic is related to medical research and treatment, specifically in the area of fertility.', 'Assign a topic category to the given news: World, Sports, Business, or Tech.\\nInflation remains well contained: US Fed US Federal Reserve said Wednesday that rate hikes can continue at a  quot;measured pace quot; as  quot;inflation and longer-term inflation expectations remain well contained quot;.I would assign this news to the topic category: Business', 'Assign a topic category to the given news: World, Sports, Business, or Tech.\\nA young monk opens a rare window of candor in Tibet He confirms Chinese are diluting traditional Buddhist culture and the monks\\' role.I would categorize this news under \"World\".']\n",
      "['Your task is to classify the news item as \"World\", \"Sports\", \"Tech\" or \"Business\".\\nDolby, Intel sound off for developers Companies plan tools for improving high-end audio for PCs with Intel inside.I would classify this news item as \"Tech\".', 'Your task is to classify the news item as \"World\", \"Sports\", \"Tech\" or \"Business\".\\nU.S. Stocks Climb as Oil Prices Drop  NEW YORK (Reuters) - The biggest one-day drop in oil prices  since September 2001 helped send U.S. stock prices higher on  Wednesday.I would classify this news item as \"Business\".', 'Your task is to classify the news item as \"World\", \"Sports\", \"Tech\" or \"Business\".\\nUN war crime tribunal calls first witness in Milosevic defense &lt;b&gt;...&lt;/b&gt; The International Criminal Tribunal for Former Yugoslavia (ICTY) Tuesday called the first witness in the defense case of former Yugoslav President Slobodan Milosevic I would classify this news item as \"World\".', 'Your task is to classify the news item as \"World\", \"Sports\", \"Tech\" or \"Business\".\\nNetworks in a Duel of Technology Some television networks are racing to develop eye-catching score boxes. Fox, for example, now has fire coming out of its baseball scores.I would classify this news item as \"Tech\".', 'Your task is to classify the news item as \"World\", \"Sports\", \"Tech\" or \"Business\".\\nAustralia red-faced BUOYANT New Zealand captain Stephen Fleming was relieved to have enlivened a dormant summer after his Black Caps conjured a stunning four-wicket win against Australia in the opening I classify this news item as \"Sports\".']\n",
      "['Your objective is to classify a news article into one of four themes: World, Sports, Business and Tech.\\nInjury fears allayed over Celtic #39;s McNamara Injury fears over Celtic skipper Jackie McNamara have subsided after a scan revealed he has not broken his ankle. It was initially feared that McNamara had broken his ankle after a clash against Barcelona #39;s Ludovic Giuly on Tuesday night.I would classify this news article into the theme: Sports.', \"Your objective is to classify a news article into one of four themes: World, Sports, Business and Tech.\\nNintendo's innards Wondering what your shiny new Nintendo DS looks like on the inside? Lik Sang saves you the voided warranty with a new photo gallery showing a detailed dissection of the new handheld game machine. Missing LinksI would classify this news article into the theme: Tech\", 'Your objective is to classify a news article into one of four themes: World, Sports, Business and Tech.\\nHackers Exploit Microsoft\\'s JPEG Flaw (AP) AP - In a harbinger of security threats to come, hackers have exploited a newly announced flaw in Microsoft Corp. programs and begun circulating malicious code hidden in images that use the popular JPEG format.I would classify this news article into the \"Tech\" theme. The article discusses a security flaw in Microsoft\\'s programs and how hackers are exploiting it, which is a topic related to technology.', 'Your objective is to classify a news article into one of four themes: World, Sports, Business and Tech.\\nNew bid to end talks deadlock Northern Ireland Secretary Paul Murphy and Irish foreign minister Brian Cowen will chair talks involving unionists and nationalists at Stormont aimed at ending the stand-off over proposed changes to devolution.I would classify this news article into the \"World\" theme, as it deals with international relations, politics, and a specific geographical region (Northern Ireland).', 'Your objective is to classify a news article into one of four themes: World, Sports, Business and Tech.\\nGuarding of Ukraine central election commission relieved KIEV, November 3 (Itar-Tass) - Water cannons and armoured personnel carriers were removed from the territory of the Ukrainian central election commission on Wednesday.I would classify this news article into the \"World\" theme, as it is focused on a political event in Ukraine.']\n",
      "['In this task, you are given a news article. Your task is to classify the article to one out of the four topics \"World\", \"Sports\", \"Business\", \"Tech\" if the article\"s main topic is relevant to the world, sports, business, and technology, correspondingly. If you are not sure about the topic, choose the closest option.\\nJapan Expresses  #39;serious Concern #39; About N Korean Missiles In &lt;b&gt;...&lt;/b&gt; BEIJING (AFP) - Japanese negotiators told North Korea they had  quot;serious concern quot; about its missile program in talks that extended for a second day in Beijing, a Japanese diplomat said.I would classify this article as \"World\". The article discusses international relations, specifically the talks between Japan and North Korea about North Korea\\'s missile program, which is a global affairs topic.', 'In this task, you are given a news article. Your task is to classify the article to one out of the four topics \"World\", \"Sports\", \"Business\", \"Tech\" if the article\"s main topic is relevant to the world, sports, business, and technology, correspondingly. If you are not sure about the topic, choose the closest option.\\nJuve Lead Is Cut AC Milan closed the gap on leaders Juventus to four points after receiving a helping hand from city-rivals Inter. Having already won their game at Chievo earlier in the day thanks to on-loan Chelsea striker I would classify this article as \"Sports\".', 'In this task, you are given a news article. Your task is to classify the article to one out of the four topics \"World\", \"Sports\", \"Business\", \"Tech\" if the article\"s main topic is relevant to the world, sports, business, and technology, correspondingly. If you are not sure about the topic, choose the closest option.\\nJapan Expresses  #39;serious Concern #39; About N Korean Missiles In &lt;b&gt;...&lt;/b&gt; BEIJING (AFP) - Japanese negotiators told North Korea they had  quot;serious concern quot; about its missile program in talks that extended for a second day in Beijing, a Japanese diplomat said.I would classify this article as \"World\". The article appears to be discussing a meeting or talks between Japan and North Korea regarding North Korea\\'s missile program, which is a global political issue.', 'In this task, you are given a news article. Your task is to classify the article to one out of the four topics \"World\", \"Sports\", \"Business\", \"Tech\" if the article\"s main topic is relevant to the world, sports, business, and technology, correspondingly. If you are not sure about the topic, choose the closest option.\\nMartha Stewart Appeals Conviction Lawyers for Martha Stewart told a federal appeals court that she suffered a \"\"fundamentally unfair\"\" trial at the hands of prosecutors who incorrectly suggested she was accused of insider trading.I would classify this article as \"Business\". The article discusses Martha Stewart\\'s appeal of her conviction, which is related to a business/corporate issue (insider trading).', 'In this task, you are given a news article. Your task is to classify the article to one out of the four topics \"World\", \"Sports\", \"Business\", \"Tech\" if the article\"s main topic is relevant to the world, sports, business, and technology, correspondingly. If you are not sure about the topic, choose the closest option.\\nDynogen enters drug licensing deal Dynogen Pharmaceuticals Inc. of Waltham said it licensed a late-stage drug candidate from Mitsubishi Pharma Corp. Terms weren\\'t disclosed. The compound, pumosetrag, is thought to be helpful to patients suffering from a variety of gastrointestinal conditions, such as irritable bowel syndrome. Dynogen, a privately held firm, said it plans to start new clinical trials with pumosetrag next year. Mitsubishi, part ...I would classify this article as \"Business\". The main topic of the article is about Dynogen Pharmaceuticals Inc. licensing a drug candidate from Mitsubishi Pharma Corp., which is a business-related news.']\n",
      "['Identify the central topic of the news article and place it into one of the following categories: World, Sports, Tech, or Business.\\nSun refreshes development tools line Refreshing its development tools arsenal, Sun Microsystems on Tuesday revealed plans for upcoming versions of Java Studio Creator and is unleashing upgrades to the NetBeans open source platform and Java Studio Enterprise.The central topic of the news article is: Tech', 'Identify the central topic of the news article and place it into one of the following categories: World, Sports, Tech, or Business.\\nDynogen enters drug licensing deal Dynogen Pharmaceuticals Inc. of Waltham said it licensed a late-stage drug candidate from Mitsubishi Pharma Corp. Terms weren\\'t disclosed. The compound, pumosetrag, is thought to be helpful to patients suffering from a variety of gastrointestinal conditions, such as irritable bowel syndrome. Dynogen, a privately held firm, said it plans to start new clinical trials with pumosetrag next year. Mitsubishi, part ...The central topic of the news article is \"Dynogen enters drug licensing deal with Mitsubishi Pharma Corp.\" and it falls under the category of **Business**.', 'Identify the central topic of the news article and place it into one of the following categories: World, Sports, Tech, or Business.\\nMac users face rare virus The malware disables Mac OS X\\'s built-in firewall, steals personal information and can destroy data.The central topic of the news article is \"Mac users face rare virus\" and it falls under the category of **Tech**.', 'Identify the central topic of the news article and place it into one of the following categories: World, Sports, Tech, or Business.\\nYahoo Jazzes Up Mobile Search Yahoo Jazzes Up Mobile Search\\\\\\\\Google SMS started serving search results to mobile users in the US just a few days back. Now Yahoo! follows it with even more comprehensive feature set. Google SMS is currently text based for the results; Yahoo! jazzes them up with maps, website icons, as well ...The central topic of the news article is \"Yahoo! Jazzes Up Mobile Search\" and falls under the category of **Tech**.', 'Identify the central topic of the news article and place it into one of the following categories: World, Sports, Tech, or Business.\\nUpdate 6: Dutch Steelmaker Buying ISG in \\\\$4.5B Deal Steel tycoon Lakshmi Mittal announced plans Monday to take over US steelmaker International Steel Group as part of a three-way merger to create a global metals mammoth.The central topic of the news article is: Acquisition of International Steel Group by a Dutch Steelmaker\\n\\nCategory: Business']\n",
      "['Give the main topic of the news article and then choose from World, Sports, Tech and Business.\\nWTO Rules Against EU Protection of Goods (AP) AP - The European Union said Friday its system of protecting names for regionally produced foods such as Champagne and Parma ham was strengthened by an initial ruling from the World Trade Organization.The main topic of the news article is \"WTO Rules Against EU Protection of Goods\".\\n\\nI would categorize this article under \"World\".', 'Give the main topic of the news article and then choose from World, Sports, Tech and Business.\\nBentley hoping to avoid getting tripped up by Post A year ago, the Bentley Falcons ended C.W. Post\\'s two-year reign as Northeast-10 Conference football champions. Now the Pioneers have a chance to return the favor. Sitting atop the conference standings, C.W. Post (4-1, 4-0) hosts Bentley tomorrow and can inflict serious damage on any hopes the Falcons have of repeating.The main topic of this news article is \"Football: Bentley vs C.W. Post\".\\n\\nI choose: Sports', 'Give the main topic of the news article and then choose from World, Sports, Tech and Business.\\nHurricane Ivan Threatens Barbados, East Caribbean  MIAMI (Reuters) - Powerful Hurricane Ivan, the latest in a  busy storm season, rushed over the Atlantic Ocean on Monday and  threatened the eastern Caribbean Windward Islands.The main topic of the news article is: \"Hurricane Ivan Threatens Barbados, East Caribbean\"\\n\\nI would categorize this article under: **World**', 'Give the main topic of the news article and then choose from World, Sports, Tech and Business.\\nFrance moves US plutonium south France sends plutonium from scrapped US nuclear warheads south under heavy guard to be reprocessed.The main topic of the news article is: France moves US plutonium\\n\\nCategory: World', 'Give the main topic of the news article and then choose from World, Sports, Tech and Business.\\nSuns Defeat Jazz 115-102 (AP) AP - Steve Nash had 20 points and 14 assists to lead the Phoenix Suns to their eighth straight win, 115-102 over the Utah Jazz on Tuesday night.Main topic of the news article: Suns defeat Jazz in basketball game\\n\\nCategory: Sports']\n",
      "['Classify the topic of the following news as \"World\", \"Sports\", \"Tech\" or \"Business\".\\nCellphone That Detects Bad Breath Siemens Mobile, the German telecommunications company, has announced that it is working on a mobile phone that makes users aware when they have bad breath.I would classify the topic of this news as \"Tech\". The article is about a new technology development, specifically a mobile phone feature that detects and alerts users about bad breath, which is a technological innovation.', 'Classify the topic of the following news as \"World\", \"Sports\", \"Tech\" or \"Business\".\\nNetworks in a Duel of Technology Some television networks are racing to develop eye-catching score boxes. Fox, for example, now has fire coming out of its baseball scores.I would classify the topic of this news as \"Tech\"', 'Classify the topic of the following news as \"World\", \"Sports\", \"Tech\" or \"Business\".\\nEgypt Sees Move Towards Israel-Palestinian Peace  JERUSALEM (Reuters) - Egypt\\'s official news agency said  Tuesday significant progress had been made in international  efforts to end Israeli-Palestinian violence, but both sides to  the conflict termed talk of a deal premature.I would classify the topic of this news as \"World\".', 'Classify the topic of the following news as \"World\", \"Sports\", \"Tech\" or \"Business\".\\nDolby, Intel sound off for developers Companies plan tools for improving high-end audio for PCs with Intel inside.I would classify the topic of this news as \"Tech\".', 'Classify the topic of the following news as \"World\", \"Sports\", \"Tech\" or \"Business\".\\nAmericans playing it cool in the pool ATHENS  Michael Phelps might receive his last gold medal of the Athens Olympics in a way no one would envision. I would classify this topic as \"Sports\".']\n",
      "['Classify news articles according to their primary theme, selecting from one of the following categories: World, Sports, Business, or Tech.\\nSpartans outplayed by George Washington in first round of BB amp;T &lt;b&gt;...&lt;/b&gt; Washington, DC - The No. 11 MSU basketball team lost 96-83 to George Washington Saturday afternoon in the first-round of the BB amp;T Classic.I would classify this news article as \"Sports\".', 'Classify news articles according to their primary theme, selecting from one of the following categories: World, Sports, Business, or Tech.\\nYukos faces \\\\$6.2bn tax deadline Russian oil giant Yukos says it is about to miss a deadline on a back tax payment of more than \\\\$6bn due from 2002.I would classify this news article as: Business', \"Classify news articles according to their primary theme, selecting from one of the following categories: World, Sports, Business, or Tech.\\nHackers Exploit Microsoft's JPEG Flaw (AP) AP - In a harbinger of security threats to come, hackers have exploited a newly announced flaw in Microsoft Corp. programs and begun circulating malicious code hidden in images that use the popular JPEG format.I would classify this news article as **Tech**.\", \"Classify news articles according to their primary theme, selecting from one of the following categories: World, Sports, Business, or Tech.\\nMinister offers apology for touchy remark Minister of Foreign Affairs Mark Chen () yesterday apologized for the words used to condemn a comment by his Singaporean counterpart who warned against Taiwan independence at a United Nations meeting last week.I would classify this news article as **World**. The article is about a minister's apology for a remark related to a United Nations meeting, which falls within the category of international relations and foreign affairs.\", 'Classify news articles according to their primary theme, selecting from one of the following categories: World, Sports, Business, or Tech.\\nBekele Succeeds Mentor Gebrselassie  ATHENS (Reuters) - Ethiopian Kenenisa Bekele succeeded his  mentor Haile Gebrselassie as the Olympic 10,000 meters champion  Friday after an astonishing final lap in the longest track  event.I would classify this news article as \"Sports\".']\n",
      "['Choose a word from World, Sports, Business and Tech to categorize the given text.\\nMoody #39;s raises Dell #39;s senior unsecured debt rating NEW YORK, Aug 18 - Moody #39;s Investors Service said on Wednesday it raised the senior unsecured debt rating of Dell Inc. (DELL.O: Quote, Profile, Research) with a stable outlook citing the firm #39;s strong balance sheet and solid operating and financial ...I would categorize this text under \"Business\".', 'Choose a word from World, Sports, Business and Tech to categorize the given text.\\nAmericans playing it cool in the pool ATHENS  Michael Phelps might receive his last gold medal of the Athens Olympics in a way no one would envision. I would categorize the given text under \"Sports\".', 'Choose a word from World, Sports, Business and Tech to categorize the given text.\\nSchwab ex-CEO to get almost \\\\$10M SAN FRANCISCO (CBS.MW) -- Charles Schwab Corp. is paying David Pottruck, ousted as chief executive officer in July, a lump-sum payment of \\\\$6.I would categorize the given text under \"Business\".', 'Choose a word from World, Sports, Business and Tech to categorize the given text.\\nHonor System Used for Flu Shots at U.S. Chain Stores By GRETCHEN PARKER     BALTIMORE (AP) -- At the Walgreens flu shot clinic, the honor system is in place.    If you tell nurses there you have a chronic heart problem, you can get a shot...I would categorize the given text under \"Tech\" because it mentions a specific retail store, Walgreens, and a technological concept, i.e., the \"honor system\", which is typically applied digitally in various applications, including online transactions and digital requests.', 'Choose a word from World, Sports, Business and Tech to categorize the given text.\\nAmerican Alvin Harrison Banned for Four Years Olympic 400 meter relay gold medallist Alvin Harrison has accepted a four-year ban for drugs violations, the United States Anti-Doping Agency said on Tuesday.I would categorize the given text under \"Sports\" as it is related to a sports personality (Alvin Harrison) and his ban due to drug violations in a specific sport (Olympic 400 meter relay).']\n",
      "['Based on the main theme of given the news article, categorize it into World, Sports, Business, or Tech.\\nRosy outlook from Greenspan fails to sway many economists WASHINGTON : The upbeat outlook from Federal Reserve Chairman Alan Greenspan has failed to convince many economists, who argue that the United States is likely to see tepid growth at best in the near future.Based on the main theme of the article, I would categorize it into Business. The article is discussing the outlook for the US economy and the opinions of economists, which falls under the category of business news.', 'Based on the main theme of given the news article, categorize it into World, Sports, Business, or Tech.\\nIBM updates WebSphere Application Server software OCTOBER 06, 2004 (COMPUTERWORLD) - IBM today unveiled a new version of its WebSphere Application Server software, which is designed to protect applications from server downtime and boost enterprise efforts to build a service-oriented architecture (SOA).I would categorize this news article as: **Tech**', \"Based on the main theme of given the news article, categorize it into World, Sports, Business, or Tech.\\nSony keeps PSP production low, focuses on PS2 Low initial shipment figures for Sony #39;s forthcoming PlayStation Portable are down to a decision to focus on manufacturing the profitable PlayStation 2 hardware, according to a spokesperson for the Japanese giant.I would categorize this news article as **Tech**. The article discusses Sony's production decisions related to their gaming consoles, specifically the PlayStation Portable (PSP) and the PlayStation 2 (PS2), which are both technology-related topics.\", 'Based on the main theme of given the news article, categorize it into World, Sports, Business, or Tech.\\nJuve Lead Is Cut AC Milan closed the gap on leaders Juventus to four points after receiving a helping hand from city-rivals Inter. Having already won their game at Chievo earlier in the day thanks to on-loan Chelsea striker Based on the main theme of the article, I would categorize it as \"Sports\". The article discusses a soccer match and the standings of teams in the league, which is a clear indication that it belongs to the Sports category.', 'Based on the main theme of given the news article, categorize it into World, Sports, Business, or Tech.\\nDefiant Sharon sets out Gaza plan Israeli PM Ariel Sharon pushes ahead with an accelerated plan to withdraw from the Gaza Strip despite opposition.Based on the main theme of the news article, I would categorize it as **World**. The article is focused on a political event in the Middle East, specifically the plan of Israeli Prime Minister Ariel Sharon to withdraw from the Gaza Strip, which is a significant international event.']\n"
     ]
    }
   ],
   "source": [
    "df = run_experiment(config)"
   ]
  },
  {
   "cell_type": "code",
   "execution_count": 8,
   "metadata": {},
   "outputs": [
    {
     "data": {
      "text/html": [
       "<div>\n",
       "<style scoped>\n",
       "    .dataframe tbody tr th:only-of-type {\n",
       "        vertical-align: middle;\n",
       "    }\n",
       "\n",
       "    .dataframe tbody tr th {\n",
       "        vertical-align: top;\n",
       "    }\n",
       "\n",
       "    .dataframe thead th {\n",
       "        text-align: right;\n",
       "    }\n",
       "</style>\n",
       "<table border=\"1\" class=\"dataframe\">\n",
       "  <thead>\n",
       "    <tr style=\"text-align: right;\">\n",
       "      <th></th>\n",
       "      <th>prompt</th>\n",
       "      <th>score</th>\n",
       "    </tr>\n",
       "  </thead>\n",
       "  <tbody>\n",
       "    <tr>\n",
       "      <th>0</th>\n",
       "      <td>Your job is to determine whether a news articl...</td>\n",
       "      <td>1.00</td>\n",
       "    </tr>\n",
       "    <tr>\n",
       "      <th>8</th>\n",
       "      <td>In this task, you are given a news article. Yo...</td>\n",
       "      <td>0.90</td>\n",
       "    </tr>\n",
       "    <tr>\n",
       "      <th>9</th>\n",
       "      <td>Identify the central topic of the news article...</td>\n",
       "      <td>0.90</td>\n",
       "    </tr>\n",
       "    <tr>\n",
       "      <th>1</th>\n",
       "      <td>You will be required to classify a news articl...</td>\n",
       "      <td>0.85</td>\n",
       "    </tr>\n",
       "    <tr>\n",
       "      <th>4</th>\n",
       "      <td>Categorize the given news article into one of ...</td>\n",
       "      <td>0.85</td>\n",
       "    </tr>\n",
       "    <tr>\n",
       "      <th>6</th>\n",
       "      <td>Your task is to classify the news item as \"Wor...</td>\n",
       "      <td>0.85</td>\n",
       "    </tr>\n",
       "    <tr>\n",
       "      <th>7</th>\n",
       "      <td>Your objective is to classify a news article i...</td>\n",
       "      <td>0.85</td>\n",
       "    </tr>\n",
       "    <tr>\n",
       "      <th>3</th>\n",
       "      <td>Organize the given news article into its most ...</td>\n",
       "      <td>0.75</td>\n",
       "    </tr>\n",
       "    <tr>\n",
       "      <th>12</th>\n",
       "      <td>Classify news articles according to their prim...</td>\n",
       "      <td>0.75</td>\n",
       "    </tr>\n",
       "    <tr>\n",
       "      <th>13</th>\n",
       "      <td>Choose a word from World, Sports, Business and...</td>\n",
       "      <td>0.75</td>\n",
       "    </tr>\n",
       "    <tr>\n",
       "      <th>2</th>\n",
       "      <td>You will be given a news article and asked to ...</td>\n",
       "      <td>0.60</td>\n",
       "    </tr>\n",
       "    <tr>\n",
       "      <th>5</th>\n",
       "      <td>Assign a topic category to the given news: Wor...</td>\n",
       "      <td>0.60</td>\n",
       "    </tr>\n",
       "    <tr>\n",
       "      <th>10</th>\n",
       "      <td>Give the main topic of the news article and th...</td>\n",
       "      <td>0.60</td>\n",
       "    </tr>\n",
       "    <tr>\n",
       "      <th>14</th>\n",
       "      <td>Based on the main theme of given the news arti...</td>\n",
       "      <td>0.55</td>\n",
       "    </tr>\n",
       "    <tr>\n",
       "      <th>11</th>\n",
       "      <td>Classify the topic of the following news as \"W...</td>\n",
       "      <td>0.40</td>\n",
       "    </tr>\n",
       "  </tbody>\n",
       "</table>\n",
       "</div>"
      ],
      "text/plain": [
       "                                               prompt  score\n",
       "0   Your job is to determine whether a news articl...   1.00\n",
       "8   In this task, you are given a news article. Yo...   0.90\n",
       "9   Identify the central topic of the news article...   0.90\n",
       "1   You will be required to classify a news articl...   0.85\n",
       "4   Categorize the given news article into one of ...   0.85\n",
       "6   Your task is to classify the news item as \"Wor...   0.85\n",
       "7   Your objective is to classify a news article i...   0.85\n",
       "3   Organize the given news article into its most ...   0.75\n",
       "12  Classify news articles according to their prim...   0.75\n",
       "13  Choose a word from World, Sports, Business and...   0.75\n",
       "2   You will be given a news article and asked to ...   0.60\n",
       "5   Assign a topic category to the given news: Wor...   0.60\n",
       "10  Give the main topic of the news article and th...   0.60\n",
       "14  Based on the main theme of given the news arti...   0.55\n",
       "11  Classify the topic of the following news as \"W...   0.40"
      ]
     },
     "execution_count": 8,
     "metadata": {},
     "output_type": "execute_result"
    }
   ],
   "source": [
    "df"
   ]
  },
  {
   "cell_type": "code",
   "execution_count": 12,
   "metadata": {},
   "outputs": [
    {
     "name": "stdout",
     "output_type": "stream",
     "text": [
      "You will be required to classify a news article as World, Sports, Business, or Tech based on its primary topic.\n",
      "Unlikely Visionary Behind Private Race to Space SpaceShipOne visionary Peter Diamandis wasn't thinking about history as he stood in the Mojave desert and watched a small, shuttlecock-shaped craft glide back to Earth having nudged the edge of space. He just thought it looked beautiful.I would classify this news article as Tech. The primary topic is Peter Diamandis and his private space program, SpaceShipOne, which is a technological achievement in the field of space exploration.\n",
      "You will be required to classify a news article as World, Sports, Business, or Tech based on its primary topic.\n",
      "New fertility treatment 'closer' Women may be able to have unfertilised eggs routinely frozen during fertility treatment rather than just embryos after research.I would classify this news article as \"Health/Science\" (which could also fit under \"World\")\n",
      "You will be required to classify a news article as World, Sports, Business, or Tech based on its primary topic.\n",
      "Well, it worked for Bill So let me get this straight: Barry Bonds used steroids, but he didn #39;t inhale?***Mr. Schwarzenegger, meet your new lieutenant governor.I would classify this news article as Sports. The primary topic appears to be about an athlete, Barry Bonds, and his use of steroids.\n",
      "You will be required to classify a news article as World, Sports, Business, or Tech based on its primary topic.\n",
      "Mariners fire Melvin after two seasons NOTES He indicated to reporters Sunday that he still wanted to manage the Mariners, but Melvin might get another chance elsewhere. Bavasi said he called an undisclosed club to suggest Melvin be considered for a managerial vacancy.I would classify this news article as Sports.\n",
      "You will be required to classify a news article as World, Sports, Business, or Tech based on its primary topic.\n",
      "IBM updates WebSphere Application Server software OCTOBER 06, 2004 (COMPUTERWORLD) - IBM today unveiled a new version of its WebSphere Application Server software, which is designed to protect applications from server downtime and boost enterprise efforts to build a service-oriented architecture (SOA).I would classify this news article as Tech. The article is primarily about IBM updating its WebSphere Application Server software, which is a topic related to technology.\n",
      "You will be required to classify a news article as World, Sports, Business, or Tech based on its primary topic.\n"
     ]
    }
   ],
   "source": [
    "print(df.loc[1, \"prompt\"])"
   ]
  },
  {
   "cell_type": "code",
   "execution_count": 11,
   "metadata": {},
   "outputs": [
    {
     "data": {
      "text/html": [
       "<div>\n",
       "<style scoped>\n",
       "    .dataframe tbody tr th:only-of-type {\n",
       "        vertical-align: middle;\n",
       "    }\n",
       "\n",
       "    .dataframe tbody tr th {\n",
       "        vertical-align: top;\n",
       "    }\n",
       "\n",
       "    .dataframe thead th {\n",
       "        text-align: right;\n",
       "    }\n",
       "</style>\n",
       "<table border=\"1\" class=\"dataframe\">\n",
       "  <thead>\n",
       "    <tr style=\"text-align: right;\">\n",
       "      <th></th>\n",
       "      <th>prompt</th>\n",
       "      <th>score</th>\n",
       "    </tr>\n",
       "  </thead>\n",
       "  <tbody>\n",
       "    <tr>\n",
       "      <th>0</th>\n",
       "      <td>Classify the news story into one of the follow...</td>\n",
       "      <td>0.95</td>\n",
       "    </tr>\n",
       "    <tr>\n",
       "      <th>7</th>\n",
       "      <td>You will be required to classify a news articl...</td>\n",
       "      <td>0.90</td>\n",
       "    </tr>\n",
       "    <tr>\n",
       "      <th>11</th>\n",
       "      <td>Classify the topic of the following news as \"W...</td>\n",
       "      <td>0.90</td>\n",
       "    </tr>\n",
       "    <tr>\n",
       "      <th>12</th>\n",
       "      <td>Classify news articles into categories (World,...</td>\n",
       "      <td>0.90</td>\n",
       "    </tr>\n",
       "    <tr>\n",
       "      <th>4</th>\n",
       "      <td>Classify the given news article into one of th...</td>\n",
       "      <td>0.85</td>\n",
       "    </tr>\n",
       "    <tr>\n",
       "      <th>6</th>\n",
       "      <td>Your job is to determine whether a news articl...</td>\n",
       "      <td>0.85</td>\n",
       "    </tr>\n",
       "    <tr>\n",
       "      <th>13</th>\n",
       "      <td>Categorize the provided news article according...</td>\n",
       "      <td>0.85</td>\n",
       "    </tr>\n",
       "    <tr>\n",
       "      <th>1</th>\n",
       "      <td>Categorize the news article into one of four c...</td>\n",
       "      <td>0.80</td>\n",
       "    </tr>\n",
       "    <tr>\n",
       "      <th>2</th>\n",
       "      <td>Your responsibility is to accurately categoriz...</td>\n",
       "      <td>0.80</td>\n",
       "    </tr>\n",
       "    <tr>\n",
       "      <th>3</th>\n",
       "      <td>Identify the primary theme of a news article a...</td>\n",
       "      <td>0.80</td>\n",
       "    </tr>\n",
       "    <tr>\n",
       "      <th>8</th>\n",
       "      <td>In this task, you are given a news article. Yo...</td>\n",
       "      <td>0.80</td>\n",
       "    </tr>\n",
       "    <tr>\n",
       "      <th>14</th>\n",
       "      <td>Accurately categorize news articles into World...</td>\n",
       "      <td>0.80</td>\n",
       "    </tr>\n",
       "    <tr>\n",
       "      <th>5</th>\n",
       "      <td>Accurately categorize the provided news articl...</td>\n",
       "      <td>0.75</td>\n",
       "    </tr>\n",
       "    <tr>\n",
       "      <th>9</th>\n",
       "      <td>Determine the theme of the news item. Choose f...</td>\n",
       "      <td>0.75</td>\n",
       "    </tr>\n",
       "    <tr>\n",
       "      <th>10</th>\n",
       "      <td>Determine the primary theme of the news articl...</td>\n",
       "      <td>0.70</td>\n",
       "    </tr>\n",
       "  </tbody>\n",
       "</table>\n",
       "</div>"
      ],
      "text/plain": [
       "                                               prompt  score\n",
       "0   Classify the news story into one of the follow...   0.95\n",
       "7   You will be required to classify a news articl...   0.90\n",
       "11  Classify the topic of the following news as \"W...   0.90\n",
       "12  Classify news articles into categories (World,...   0.90\n",
       "4   Classify the given news article into one of th...   0.85\n",
       "6   Your job is to determine whether a news articl...   0.85\n",
       "13  Categorize the provided news article according...   0.85\n",
       "1   Categorize the news article into one of four c...   0.80\n",
       "2   Your responsibility is to accurately categoriz...   0.80\n",
       "3   Identify the primary theme of a news article a...   0.80\n",
       "8   In this task, you are given a news article. Yo...   0.80\n",
       "14  Accurately categorize news articles into World...   0.80\n",
       "5   Accurately categorize the provided news articl...   0.75\n",
       "9   Determine the theme of the news item. Choose f...   0.75\n",
       "10  Determine the primary theme of the news articl...   0.70"
      ]
     },
     "execution_count": 11,
     "metadata": {},
     "output_type": "execute_result"
    }
   ],
   "source": [
    "df"
   ]
  }
 ],
 "metadata": {
  "kernelspec": {
   "display_name": ".venv",
   "language": "python",
   "name": "python3"
  },
  "language_info": {
   "codemirror_mode": {
    "name": "ipython",
    "version": 3
   },
   "file_extension": ".py",
   "mimetype": "text/x-python",
   "name": "python",
   "nbconvert_exporter": "python",
   "pygments_lexer": "ipython3",
   "version": "3.11.0"
  }
 },
 "nbformat": 4,
 "nbformat_minor": 2
}
