{
 "cells": [
  {
   "cell_type": "markdown",
   "metadata": {},
   "source": [
    "# Getting Started with Promptolution\n",
    "\n",
    "## Welcome to Promptolution! \n",
    "\n",
    "Discover a powerful tool for evolving and optimizing your LLM prompts. This notebook provides a friendly introduction to Promptolution's core functionality.\n",
    "\n",
    "We're excited to have you try Promptolution - let's get started!"
   ]
  },
  {
   "cell_type": "markdown",
   "metadata": {},
   "source": [
    "## Installation\n",
    "Install Promptolution with a single command"
   ]
  },
  {
   "cell_type": "code",
   "execution_count": 1,
   "metadata": {},
   "outputs": [],
   "source": [
    "# ! pip install promptolution[api]\n",
    "%load_ext autoreload\n",
    "%autoreload 2"
   ]
  },
  {
   "cell_type": "markdown",
   "metadata": {
    "vscode": {
     "languageId": "plaintext"
    }
   },
   "source": [
    "## Imports"
   ]
  },
  {
   "cell_type": "code",
   "execution_count": 2,
   "metadata": {},
   "outputs": [],
   "source": [
    "import pandas as pd\n",
    "from promptolution import ExperimentConfig, run_experiment\n",
    "import nest_asyncio\n",
    "nest_asyncio.apply() # Required for notebook environments"
   ]
  },
  {
   "cell_type": "markdown",
   "metadata": {},
   "source": [
    "## Setting Up Your Experiment"
   ]
  },
  {
   "cell_type": "markdown",
   "metadata": {},
   "source": [
    "### Prepare the data"
   ]
  },
  {
   "cell_type": "markdown",
   "metadata": {},
   "source": [
    "Below, we're using a subsample of the subjectivity dataset from Hugging Face as an example. When using your own dataset, simply ensure you name the input column \"x\" and the target column \"y\", and provide a brief description of your task, that will parsed to the meta-llm during optimization."
   ]
  },
  {
   "cell_type": "code",
   "execution_count": 3,
   "metadata": {},
   "outputs": [],
   "source": [
    "df = pd.read_csv(\"hf://datasets/tasksource/subjectivity/train.csv\").sample(500)\n",
    "df = df.rename(columns={\"Sentence\": \"x\", \"Label\": \"y\"})\n",
    "df = df.replace({\"OBJ\": \"objective\", \"SUBJ\": \"subjective\"})\n",
    "\n",
    "task_description = \"The dataset contains sentences labeled as either subjective or objective. \"\\\n",
    "        \"The task is to classify each sentence as either subjective or objective. \" \\\n",
    "        \"The class mentioned first in the response of the LLM will be the prediction.\""
   ]
  },
  {
   "cell_type": "markdown",
   "metadata": {},
   "source": [
    "### Creating Inital Prompts"
   ]
  },
  {
   "cell_type": "markdown",
   "metadata": {},
   "source": [
    "We've defined some starter prompts below, but feel free to experiment! You might also want to explore create_prompts_from_samples to automatically generate initial prompts based on your data."
   ]
  },
  {
   "cell_type": "code",
   "execution_count": 4,
   "metadata": {},
   "outputs": [],
   "source": [
    "init_prompts = [\n",
    "    'Classify the given text as either an objective or subjective statement based on the tone and language used: e.g. the tone and language used should indicate whether the statement is a neutral, factual summary (objective) or an expression of opinion or emotional tone (subjective). Include the output classes \"objective\" or \"subjective\" in the prompt.',\n",
    "    'What kind of statement is the following text: [Insert text here]? Is it <objective_statement> or <subjective_statement>?',\n",
    "    'Identify whether a sentence is objective or subjective by analyzing the tone, language, and underlying perspective. Consider the emotion, opinion, and bias present in the sentence. Are the authors presenting objective facts or expressing a personal point of view? The output will be either \"objective\" (output class: objective) or \"subjective\" (output class: subjective).',\n",
    "    'Classify the following sentences as either objective or subjective, indicating the name of the output classes: [input sentence]. Output classes: objective, subjective',\n",
    "    '_query a text about legal or corporate-related issues, and predict whether the tone is objective or subjective, outputting the corresponding class \"objective\" for non-subjective language or \"subjective\" for subjective language_',\n",
    "    'Classify a statement as either \"subjective\" or \"objective\" based on whether it reflects a personal opinion or a verifiable fact. The output classes to include are \"objective\" and \"subjective\".',\n",
    "    'Classify the text as objective or subjective based on its tone and language.',\n",
    "    'Classify the text as objective or subjective based on the presence of opinions or facts. Output classes: objective, subjective.',\n",
    "    'Classify the given text as objective or subjective based on its tone, focusing on its intention, purpose, and level of personal opinion or emotional appeal, with outputs including classes such as objective or subjective.',\n",
    "    \"Categorize the text as either objective or subjective, considering whether it presents neutral information or expresses a personal opinion/bias.\\n\\nObjective: The text has a neutral tone and presents factual information about the actions of Democrats in Congress and the union's negotiations.\\n\\nSubjective: The text has a evaluative tone and expresses a positive/negative opinion/evaluation about the past performance of the country.\",\n",
    "    'Given a sentence, classify it as either \"objective\" or \"subjective\" based on its tone and language, considering the presence of third-person pronouns, neutral language, and opinions. Classify the output as \"objective\" if the tone is neutral and detached, focusing on facts and data, or as \"subjective\" if the tone is evaluative, emotive, or biased.',\n",
    "    'Identify whether the given sentence is subjective or objective, then correspondingly output \"objective\" or \"subjective\" in the form of \"<output class>, (e.g. \"objective\"), without quotes. Please note that the subjective orientation typically describes a sentence where the writer expresses their own opinion or attitude, whereas an objective sentence presents facts or information without personal involvement or bias. <output classes: subjective, objective>'\n",
    "]"
   ]
  },
  {
   "cell_type": "markdown",
   "metadata": {},
   "source": [
    "### Configure Your LLM"
   ]
  },
  {
   "cell_type": "markdown",
   "metadata": {},
   "source": [
    "Promptolution offers three flexible ways to access language models:\n",
    "\n",
    "1. Local LLMs (using the Transformers library)\n",
    "1. vLLM backend (for efficient serving of large language models)\n",
    "1. API-based LLMs (compatible with any provider following the OpenAI standard)\n",
    "\n",
    "For this demonstration, we'll use the DeepInfra API, but you can easily switch to other providers like Anthropic or OpenAI by simply changing the base_url and llm string in the configuration."
   ]
  },
  {
   "cell_type": "code",
   "execution_count": 5,
   "metadata": {},
   "outputs": [],
   "source": [
    "# token = \"YOUR_API_KEY\" # Replace with your Promptolution API key\n",
    "# load from deepinfratoken.txt\n",
    "with open(\"../deepinfratoken.txt\", \"r\") as f:\n",
    "    token = f.read().strip()"
   ]
  },
  {
   "cell_type": "markdown",
   "metadata": {},
   "source": [
    "Here's an explanation of each configuration parameter in the ExperimentConfig:\n",
    "\n",
    "- `task_description`: A string describing the task you're optimizing prompts for. This is used to provide the meta-llm with context about your task.\n",
    "- `prompts`: A list of initial prompt strings that will be used as the starting point for optimization.\n",
    "- `n_steps`: The number of optimization steps to run. Higher values allow more exploration and refinement but require more API calls and computational resources.\n",
    "- `optimizer`: The algorithm used for prompt optimization. Currently we support \"evopromptga\", \"evopromptde\", and \"opro\".\n",
    "- `api_url`: The API endpoint URL used to access the language model. This example uses DeepInfra's API which follows the OpenAI standard.\n",
    "- `llm`: The LLM to use for the experiment, as both downstream and meta LLM.\n",
    "- `token`: Your API authentication token required to access the language model service."
   ]
  },
  {
   "cell_type": "code",
   "execution_count": 6,
   "metadata": {},
   "outputs": [],
   "source": [
    "config = ExperimentConfig(\n",
    "    task_description=task_description,\n",
    "    prompts=init_prompts,\n",
    "    n_steps=10,\n",
    "    optimizer=\"capo\",\n",
    "    api_url=\"https://api.deepinfra.com/v1/openai\",\n",
    "    llm=\"meta-llama/Meta-Llama-3-8B-Instruct\",\n",
    "    token=token,\n",
    ")"
   ]
  },
  {
   "cell_type": "markdown",
   "metadata": {},
   "source": [
    "## Run Your Experiment"
   ]
  },
  {
   "cell_type": "markdown",
   "metadata": {},
   "source": [
    "With everything configured, you're ready to optimize your prompts! The `run_experiment` function will run the optimization and evaluate on a holdout set. You can expect this cell to take a few minutes to run."
   ]
  },
  {
   "cell_type": "code",
   "execution_count": 9,
   "metadata": {},
   "outputs": [
    {
     "name": "stderr",
     "output_type": "stream",
     "text": [
      "The LLM does not have a tokenizer. Using simple token count.\n",
      "Error during optimization step: unsupported operand type(s) for +: 'float' and 'NoneType'\n",
      "Exiting optimization loop.\n"
     ]
    },
    {
     "ename": "TypeError",
     "evalue": "unsupported operand type(s) for +: 'float' and 'NoneType'",
     "output_type": "error",
     "traceback": [
      "\u001b[31m---------------------------------------------------------------------------\u001b[39m",
      "\u001b[31mTypeError\u001b[39m                                 Traceback (most recent call last)",
      "\u001b[36mCell\u001b[39m\u001b[36m \u001b[39m\u001b[32mIn[9]\u001b[39m\u001b[32m, line 1\u001b[39m\n\u001b[32m----> \u001b[39m\u001b[32m1\u001b[39m prompts = \u001b[43mrun_experiment\u001b[49m\u001b[43m(\u001b[49m\u001b[43mdf\u001b[49m\u001b[43m,\u001b[49m\u001b[43m \u001b[49m\u001b[43mconfig\u001b[49m\u001b[43m)\u001b[49m\n",
      "\u001b[36mFile \u001b[39m\u001b[32m~\\Documents\\programming\\promptolution\\promptolution\\helpers.py:32\u001b[39m, in \u001b[36mrun_experiment\u001b[39m\u001b[34m(df, config)\u001b[39m\n\u001b[32m     30\u001b[39m train_df = df.sample(frac=\u001b[32m0.8\u001b[39m, random_state=\u001b[32m42\u001b[39m)\n\u001b[32m     31\u001b[39m test_df = df.drop(train_df.index)\n\u001b[32m---> \u001b[39m\u001b[32m32\u001b[39m prompts = \u001b[43mrun_optimization\u001b[49m\u001b[43m(\u001b[49m\u001b[43mtrain_df\u001b[49m\u001b[43m,\u001b[49m\u001b[43m \u001b[49m\u001b[43mconfig\u001b[49m\u001b[43m)\u001b[49m\n\u001b[32m     33\u001b[39m df_prompt_scores = run_evaluation(test_df, config, prompts)\n\u001b[32m     35\u001b[39m \u001b[38;5;28;01mreturn\u001b[39;00m df_prompt_scores\n",
      "\u001b[36mFile \u001b[39m\u001b[32m~\\Documents\\programming\\promptolution\\promptolution\\helpers.py:63\u001b[39m, in \u001b[36mrun_optimization\u001b[39m\u001b[34m(df, config)\u001b[39m\n\u001b[32m     56\u001b[39m optimizer = get_optimizer(\n\u001b[32m     57\u001b[39m     predictor=predictor,\n\u001b[32m     58\u001b[39m     meta_llm=llm,\n\u001b[32m     59\u001b[39m     task=task,\n\u001b[32m     60\u001b[39m     config=config,\n\u001b[32m     61\u001b[39m )\n\u001b[32m     62\u001b[39m logger.info(\u001b[33m\"\u001b[39m\u001b[33mStarting optimization...\u001b[39m\u001b[33m\"\u001b[39m)\n\u001b[32m---> \u001b[39m\u001b[32m63\u001b[39m prompts = \u001b[43moptimizer\u001b[49m\u001b[43m.\u001b[49m\u001b[43moptimize\u001b[49m\u001b[43m(\u001b[49m\u001b[43mn_steps\u001b[49m\u001b[43m=\u001b[49m\u001b[43mconfig\u001b[49m\u001b[43m.\u001b[49m\u001b[43mn_steps\u001b[49m\u001b[43m)\u001b[49m\n\u001b[32m     65\u001b[39m \u001b[38;5;28;01mif\u001b[39;00m \u001b[38;5;28mhasattr\u001b[39m(config, \u001b[33m\"\u001b[39m\u001b[33mprepend_exemplars\u001b[39m\u001b[33m\"\u001b[39m) \u001b[38;5;129;01mand\u001b[39;00m config.prepend_exemplars:\n\u001b[32m     66\u001b[39m     selector = get_exemplar_selector(config.exemplar_selector, task, predictor)\n",
      "\u001b[36mFile \u001b[39m\u001b[32m~\\Documents\\programming\\promptolution\\promptolution\\optimizers\\base_optimizer.py:78\u001b[39m, in \u001b[36mBaseOptimizer.optimize\u001b[39m\u001b[34m(self, n_steps)\u001b[39m\n\u001b[32m     76\u001b[39m     logger.error(\u001b[33mf\u001b[39m\u001b[33m\"\u001b[39m\u001b[33mError during optimization step: \u001b[39m\u001b[38;5;132;01m{\u001b[39;00me\u001b[38;5;132;01m}\u001b[39;00m\u001b[33m\"\u001b[39m)\n\u001b[32m     77\u001b[39m     logger.error(\u001b[33m\"\u001b[39m\u001b[33mExiting optimization loop.\u001b[39m\u001b[33m\"\u001b[39m)\n\u001b[32m---> \u001b[39m\u001b[32m78\u001b[39m     \u001b[38;5;28;01mraise\u001b[39;00m e\n\u001b[32m     79\u001b[39m     \u001b[38;5;28;01mbreak\u001b[39;00m\n\u001b[32m     81\u001b[39m \u001b[38;5;66;03m# Callbacks at the end of each step\u001b[39;00m\n",
      "\u001b[36mFile \u001b[39m\u001b[32m~\\Documents\\programming\\promptolution\\promptolution\\optimizers\\base_optimizer.py:73\u001b[39m, in \u001b[36mBaseOptimizer.optimize\u001b[39m\u001b[34m(self, n_steps)\u001b[39m\n\u001b[32m     71\u001b[39m \u001b[38;5;28;01mfor\u001b[39;00m _ \u001b[38;5;129;01min\u001b[39;00m \u001b[38;5;28mrange\u001b[39m(n_steps):\n\u001b[32m     72\u001b[39m     \u001b[38;5;28;01mtry\u001b[39;00m:\n\u001b[32m---> \u001b[39m\u001b[32m73\u001b[39m         \u001b[38;5;28mself\u001b[39m.prompts = \u001b[38;5;28;43mself\u001b[39;49m\u001b[43m.\u001b[49m\u001b[43m_step\u001b[49m\u001b[43m(\u001b[49m\u001b[43m)\u001b[49m\n\u001b[32m     74\u001b[39m     \u001b[38;5;28;01mexcept\u001b[39;00m \u001b[38;5;167;01mException\u001b[39;00m \u001b[38;5;28;01mas\u001b[39;00m e:\n\u001b[32m     75\u001b[39m         \u001b[38;5;66;03m# exit training loop and gracefully fail\u001b[39;00m\n\u001b[32m     76\u001b[39m         logger.error(\u001b[33mf\u001b[39m\u001b[33m\"\u001b[39m\u001b[33mError during optimization step: \u001b[39m\u001b[38;5;132;01m{\u001b[39;00me\u001b[38;5;132;01m}\u001b[39;00m\u001b[33m\"\u001b[39m)\n",
      "\u001b[36mFile \u001b[39m\u001b[32m~\\Documents\\programming\\promptolution\\promptolution\\optimizers\\capo.py:312\u001b[39m, in \u001b[36mCAPO._step\u001b[39m\u001b[34m(self)\u001b[39m\n\u001b[32m    309\u001b[39m mutated = \u001b[38;5;28mself\u001b[39m._mutate(offsprings)\n\u001b[32m    310\u001b[39m combined = \u001b[38;5;28mself\u001b[39m.prompt_objects + mutated\n\u001b[32m--> \u001b[39m\u001b[32m312\u001b[39m \u001b[38;5;28mself\u001b[39m.prompt_objects = \u001b[38;5;28;43mself\u001b[39;49m\u001b[43m.\u001b[49m\u001b[43m_do_racing\u001b[49m\u001b[43m(\u001b[49m\u001b[43mcombined\u001b[49m\u001b[43m,\u001b[49m\u001b[43m \u001b[49m\u001b[38;5;28;43mself\u001b[39;49m\u001b[43m.\u001b[49m\u001b[43mpopulation_size\u001b[49m\u001b[43m)\u001b[49m\n\u001b[32m    313\u001b[39m \u001b[38;5;28mself\u001b[39m.prompts = [p.construct_prompt() \u001b[38;5;28;01mfor\u001b[39;00m p \u001b[38;5;129;01min\u001b[39;00m \u001b[38;5;28mself\u001b[39m.prompt_objects]\n\u001b[32m    315\u001b[39m \u001b[38;5;28;01mreturn\u001b[39;00m \u001b[38;5;28mself\u001b[39m.prompts\n",
      "\u001b[36mFile \u001b[39m\u001b[32m~\\Documents\\programming\\promptolution\\promptolution\\optimizers\\capo.py:287\u001b[39m, in \u001b[36mCAPO._do_racing\u001b[39m\u001b[34m(self, candidates, k)\u001b[39m\n\u001b[32m    284\u001b[39m     i += \u001b[32m1\u001b[39m\n\u001b[32m    285\u001b[39m     \u001b[38;5;28mself\u001b[39m.task.increment_blocks()\n\u001b[32m--> \u001b[39m\u001b[32m287\u001b[39m avg_scores = \u001b[38;5;28;43mself\u001b[39;49m\u001b[43m.\u001b[49m\u001b[43mtask\u001b[49m\u001b[43m.\u001b[49m\u001b[43mevaluate\u001b[49m\u001b[43m(\u001b[49m\n\u001b[32m    288\u001b[39m \u001b[43m    \u001b[49m\u001b[43m[\u001b[49m\u001b[43mc\u001b[49m\u001b[43m.\u001b[49m\u001b[43mconstruct_prompt\u001b[49m\u001b[43m(\u001b[49m\u001b[43m)\u001b[49m\u001b[43m \u001b[49m\u001b[38;5;28;43;01mfor\u001b[39;49;00m\u001b[43m \u001b[49m\u001b[43mc\u001b[49m\u001b[43m \u001b[49m\u001b[38;5;129;43;01min\u001b[39;49;00m\u001b[43m \u001b[49m\u001b[43mcandidates\u001b[49m\u001b[43m]\u001b[49m\u001b[43m,\u001b[49m\u001b[43m \u001b[49m\u001b[38;5;28;43mself\u001b[39;49m\u001b[43m.\u001b[49m\u001b[43mpredictor\u001b[49m\u001b[43m,\u001b[49m\u001b[43m \u001b[49m\u001b[43mstrategy\u001b[49m\u001b[43m=\u001b[49m\u001b[33;43m\"\u001b[39;49m\u001b[33;43mevaluated\u001b[39;49m\u001b[33;43m\"\u001b[39;49m\n\u001b[32m    289\u001b[39m \u001b[43m\u001b[49m\u001b[43m)\u001b[49m\n\u001b[32m    290\u001b[39m order = np.argsort(-avg_scores)[:k]\n\u001b[32m    291\u001b[39m candidates = [candidates[i] \u001b[38;5;28;01mfor\u001b[39;00m i \u001b[38;5;129;01min\u001b[39;00m order]\n",
      "\u001b[36mFile \u001b[39m\u001b[32m~\\Documents\\programming\\promptolution\\promptolution\\tasks\\classification_tasks.py:187\u001b[39m, in \u001b[36mClassificationTask.evaluate\u001b[39m\u001b[34m(self, prompts, predictor, system_prompts, return_agg_scores, return_seq, strategy)\u001b[39m\n\u001b[32m    184\u001b[39m         \u001b[38;5;28mself\u001b[39m.seq_cache[cache_key] = seqs[i]\n\u001b[32m    185\u001b[39m     \u001b[38;5;28mself\u001b[39m.eval_cache[cache_key] = \u001b[38;5;28mself\u001b[39m.metric([y_pred], [y_true])\n\u001b[32m--> \u001b[39m\u001b[32m187\u001b[39m \u001b[38;5;28;01mreturn\u001b[39;00m \u001b[38;5;28;43mself\u001b[39;49m\u001b[43m.\u001b[49m\u001b[43m_collect_results_from_cache\u001b[49m\u001b[43m(\u001b[49m\n\u001b[32m    188\u001b[39m \u001b[43m    \u001b[49m\u001b[43mprompts\u001b[49m\u001b[43m,\u001b[49m\n\u001b[32m    189\u001b[39m \u001b[43m    \u001b[49m\u001b[43mxs\u001b[49m\u001b[43m,\u001b[49m\n\u001b[32m    190\u001b[39m \u001b[43m    \u001b[49m\u001b[43mys\u001b[49m\u001b[43m,\u001b[49m\n\u001b[32m    191\u001b[39m \u001b[43m    \u001b[49m\u001b[43mreturn_agg_scores\u001b[49m\u001b[43m,\u001b[49m\n\u001b[32m    192\u001b[39m \u001b[43m    \u001b[49m\u001b[43mreturn_seq\u001b[49m\u001b[43m,\u001b[49m\n\u001b[32m    193\u001b[39m \u001b[43m\u001b[49m\u001b[43m)\u001b[49m\n",
      "\u001b[36mFile \u001b[39m\u001b[32m<string>:11\u001b[39m, in \u001b[36m_collect_results_from_cache\u001b[39m\u001b[34m(self, prompts, xs, ys, return_agg_scores, return_seq)\u001b[39m\n",
      "\u001b[36mFile \u001b[39m\u001b[32mc:\\Users\\tzehl\\Documents\\programming\\promptolution\\.venv\\Lib\\site-packages\\numpy\\core\\fromnumeric.py:3504\u001b[39m, in \u001b[36mmean\u001b[39m\u001b[34m(a, axis, dtype, out, keepdims, where)\u001b[39m\n\u001b[32m   3501\u001b[39m     \u001b[38;5;28;01melse\u001b[39;00m:\n\u001b[32m   3502\u001b[39m         \u001b[38;5;28;01mreturn\u001b[39;00m mean(axis=axis, dtype=dtype, out=out, **kwargs)\n\u001b[32m-> \u001b[39m\u001b[32m3504\u001b[39m \u001b[38;5;28;01mreturn\u001b[39;00m \u001b[43m_methods\u001b[49m\u001b[43m.\u001b[49m\u001b[43m_mean\u001b[49m\u001b[43m(\u001b[49m\u001b[43ma\u001b[49m\u001b[43m,\u001b[49m\u001b[43m \u001b[49m\u001b[43maxis\u001b[49m\u001b[43m=\u001b[49m\u001b[43maxis\u001b[49m\u001b[43m,\u001b[49m\u001b[43m \u001b[49m\u001b[43mdtype\u001b[49m\u001b[43m=\u001b[49m\u001b[43mdtype\u001b[49m\u001b[43m,\u001b[49m\n\u001b[32m   3505\u001b[39m \u001b[43m                      \u001b[49m\u001b[43mout\u001b[49m\u001b[43m=\u001b[49m\u001b[43mout\u001b[49m\u001b[43m,\u001b[49m\u001b[43m \u001b[49m\u001b[43m*\u001b[49m\u001b[43m*\u001b[49m\u001b[43mkwargs\u001b[49m\u001b[43m)\u001b[49m\n",
      "\u001b[36mFile \u001b[39m\u001b[32mc:\\Users\\tzehl\\Documents\\programming\\promptolution\\.venv\\Lib\\site-packages\\numpy\\core\\_methods.py:118\u001b[39m, in \u001b[36m_mean\u001b[39m\u001b[34m(a, axis, dtype, out, keepdims, where)\u001b[39m\n\u001b[32m    115\u001b[39m         dtype = mu.dtype(\u001b[33m'\u001b[39m\u001b[33mf4\u001b[39m\u001b[33m'\u001b[39m)\n\u001b[32m    116\u001b[39m         is_float16_result = \u001b[38;5;28;01mTrue\u001b[39;00m\n\u001b[32m--> \u001b[39m\u001b[32m118\u001b[39m ret = \u001b[43mumr_sum\u001b[49m\u001b[43m(\u001b[49m\u001b[43marr\u001b[49m\u001b[43m,\u001b[49m\u001b[43m \u001b[49m\u001b[43maxis\u001b[49m\u001b[43m,\u001b[49m\u001b[43m \u001b[49m\u001b[43mdtype\u001b[49m\u001b[43m,\u001b[49m\u001b[43m \u001b[49m\u001b[43mout\u001b[49m\u001b[43m,\u001b[49m\u001b[43m \u001b[49m\u001b[43mkeepdims\u001b[49m\u001b[43m,\u001b[49m\u001b[43m \u001b[49m\u001b[43mwhere\u001b[49m\u001b[43m=\u001b[49m\u001b[43mwhere\u001b[49m\u001b[43m)\u001b[49m\n\u001b[32m    119\u001b[39m \u001b[38;5;28;01mif\u001b[39;00m \u001b[38;5;28misinstance\u001b[39m(ret, mu.ndarray):\n\u001b[32m    120\u001b[39m     \u001b[38;5;28;01mwith\u001b[39;00m _no_nep50_warning():\n",
      "\u001b[31mTypeError\u001b[39m: unsupported operand type(s) for +: 'float' and 'NoneType'"
     ]
    }
   ],
   "source": [
    "prompts = run_experiment(df, config)"
   ]
  },
  {
   "cell_type": "markdown",
   "metadata": {},
   "source": [
    "As you can see, most optimized prompts are semantically very similar, however they often differ heavily in performance. This is exactly what we observed in our experiments across various LLMs and datasets. Running prompt optimization is an easy way to gain significant performance improvements on your task for free!\n",
    "\n",
    "If you run into any issues while using Promptolution, please feel free to contact us. We're also happy to receive support through pull requests and other contributions to the project.\n",
    "\n",
    "\n",
    "Happy prompt optimizing! 🚀✨ We can't wait to see what you build with Promptolution! 🤖💡"
   ]
  },
  {
   "cell_type": "code",
   "execution_count": null,
   "metadata": {},
   "outputs": [
    {
     "data": {
      "text/html": [
       "<div>\n",
       "<style scoped>\n",
       "    .dataframe tbody tr th:only-of-type {\n",
       "        vertical-align: middle;\n",
       "    }\n",
       "\n",
       "    .dataframe tbody tr th {\n",
       "        vertical-align: top;\n",
       "    }\n",
       "\n",
       "    .dataframe thead th {\n",
       "        text-align: right;\n",
       "    }\n",
       "</style>\n",
       "<table border=\"1\" class=\"dataframe\">\n",
       "  <thead>\n",
       "    <tr style=\"text-align: right;\">\n",
       "      <th></th>\n",
       "      <th>prompt</th>\n",
       "      <th>score</th>\n",
       "    </tr>\n",
       "  </thead>\n",
       "  <tbody>\n",
       "    <tr>\n",
       "      <th>0</th>\n",
       "      <td>Classify each sentence as either objective or subjective by examining its linguistic patterns and emotional undertones. Your task is to identify whether the sentence presents a fact-based account or conveys a personal perspective, opinion, or emotional bias. To achieve this, analyze the tone, phraseology, and underlying viewpoint of each sentence, then predict the class that best captures its essence. The predicted class will be the first mention in the response within the markers &lt;final_answer&gt; and &lt;/final_answer&gt;, with potential outputs being either &lt;final_answer&gt;objective&lt;/final_answer&gt; or &lt;final_answer&gt;subjective&lt;/final_answer&gt;.\\n\\nInput:\\nThat when from bad banking, wild speculation, senseless credit inflation, or no matter from what cause, the private banking structure seems about to fall, it becomes a function of government to support it with public credit, not particularly to save the banks, but to save depositors.\\n\\nOutput:\\n&lt;final_answer&gt;subjective&lt;/final_answer&gt;\\n\\nInput:\\nFor Massachusetts the cost of it is nearly two-fifths of all state outlay.\\n\\nOutput:\\n&lt;final_answer&gt;objective&lt;/final_answer&gt;\\n\\nInput:\\nThe new policy helps to blur the line between illegal aliens, lawfully present aliens, and U.S. citizens, which has long been a goal of the open-borders Left.\\n\\nOutput:\\n&lt;final_answer&gt;subjective&lt;/final_answer&gt;\\n\\nInput:</td>\n",
       "      <td>0.766667</td>\n",
       "    </tr>\n",
       "    <tr>\n",
       "      <th>1</th>\n",
       "      <td>Classify each sentence accordingly, recognizing that sentences expressing a writer's opinion or attitude are subjective, while those presenting facts or information without personal bias are objective. Your output should indicate the determined sentiment by combining the requisite markers, where \"&lt;final_answer&gt;\" initiates and \"&lt;/final_answer&gt;\" concludes the class label, which may read \"&lt;final_answer&gt;subjective&lt;/final_answer&gt;\" or \"&lt;final_answer&gt;objective&lt;/final_answer&gt;\" corresponding to the classification.\\n\\nInput:</td>\n",
       "      <td>0.766667</td>\n",
       "    </tr>\n",
       "    <tr>\n",
       "      <th>2</th>\n",
       "      <td>Classify a statement as either \"subjective\" or \"objective\" based on whether it reflects a personal opinion or a verifiable fact. The output classes to include are \"objective\" and \"subjective\".\\n\\nInput:\\nThis had several side effects – namely that PCL became mostly lined with empty properties and prices went into ‘trophy’ mode.\\n\\nOutput:\\n&lt;final_answer&gt;objective&lt;/final_answer&gt;\\n\\nInput:\\n\"Recent indicators point to modest growth in spending and production,\" the Fed said.\\n\\nOutput:\\n&lt;final_answer&gt;objective&lt;/final_answer&gt;\\n\\nInput:\\nNew Mexico has become the latest state to welcome illegal aliens as attorneys.\\n\\nOutput:\\n&lt;final_answer&gt;objective&lt;/final_answer&gt;\\n\\nInput:\\nThis is what the world’s most influential proponent of stakeholder capitalism, BlackRock’s chief executive Larry Fink, meant when he proclaimed that “companies need to earn their social license to operate every day.” This is a respectable view.\\n\\nOutput:\\n&lt;final_answer&gt;subjective&lt;/final_answer&gt;\\n\\nInput:</td>\n",
       "      <td>0.766667</td>\n",
       "    </tr>\n",
       "    <tr>\n",
       "      <th>3</th>\n",
       "      <td>Using a linguistic analysis approach, examine each sentence in the dataset to identify its tone, phraseology, and underlying perspective. Determine whether the sentence presents a factual account or conveys a personal opinion, emotional bias, or experiential insight. Closely inspect the sentence's language for signs of detachment, factuality, or emotional involvement, and then predict the class that best represents its nature. In your initial response, formally indicate one of the two possible class labels: &lt;final_answer&gt;objective&lt;/final_answer&gt; or &lt;final_answer&gt;subjective&lt;/final_answer&gt;, with the class mentioned first serving as the prediction.\\n\\nInput:\\n“But where do many of these governmental elaborations come from?” asks the secretary of the Des Moines Bureau of Municipal Research.\\n\\nOutput:\\n&lt;final_answer&gt;objective&lt;/final_answer&gt;\\n\\nInput:\\nThat when from bad banking, wild speculation, senseless credit inflation, or no matter from what cause, the private banking structure seems about to fall, it becomes a function of government to support it with public credit, not particularly to save the banks, but to save depositors.\\n\\nOutput:\\n&lt;final_answer&gt;subjective&lt;/final_answer&gt;\\n\\nInput:</td>\n",
       "      <td>0.700000</td>\n",
       "    </tr>\n",
       "    <tr>\n",
       "      <th>4</th>\n",
       "      <td>New Task: Sentence Categorization - Shedding Light on Objectivity and Personal Perspective\\n\\nClassify the delivered sentences as either \"objective\" or \"subjective\" by carefully analyzing the language's tone, emotional undertones, and factual integrity. Does the text present a neutral, verifiable account or a personal view loaded with emotional resonance? The key to this task lies in the initial response of the Large Language Model, where the designated class label will be situated within the marked boundaries of &lt;final_answer&gt; and &lt;/final_answer&gt;. Your objective is to categorize each sentence as either subjective or objective, with the first class mentioned in the LLM's response serving as the prediction.\\n\\nInput:\\nA large development site in a mews in South Kensington had been granted planning permission in 2014 for double-basement townhouses but struggled to attract interest from buyers.\\n\\nOutput:\\n&lt;final_answer&gt;objective&lt;/final_answer&gt;\\n\\nInput:\\nThe new policy helps to blur the line between illegal aliens, lawfully present aliens, and U.S. citizens, which has long been a goal of the open-borders Left.\\n\\nOutput:\\n&lt;final_answer&gt;subjective&lt;/final_answer&gt;\\n\\nInput:</td>\n",
       "      <td>0.700000</td>\n",
       "    </tr>\n",
       "    <tr>\n",
       "      <th>5</th>\n",
       "      <td>Classify the given dataset of sentences, marked as either \"subjective\" or \"objective\", using your advanced linguistic expertise to pinpoint whether each sentence conveys an objective, factual presentation or a subjective, personal perspective. Dissect the text to identify Tell-tale signs of detachment, factuality, or emotional engagement, ensuring you accurately predict whether the author aims to present verifiable truths or share their personal opinion, emotional stance, or experiential insight. Your prediction should mirror the inherent nature of each sentence, indicating whether it embodies \"&lt;final_answer&gt;objective&lt;/final_answer&gt;\" or \"&lt;final_answer&gt;subjective&lt;/final_answer&gt;\" (with the first class mentioned serving as the prediction).\\n\\nInput:\\n“But where do many of these governmental elaborations come from?” asks the secretary of the Des Moines Bureau of Municipal Research.\\n\\nOutput:\\n&lt;final_answer&gt;objective&lt;/final_answer&gt;\\n\\nInput:\\nThat when from bad banking, wild speculation, senseless credit inflation, or no matter from what cause, the private banking structure seems about to fall, it becomes a function of government to support it with public credit, not particularly to save the banks, but to save depositors.\\n\\nOutput:\\n&lt;final_answer&gt;subjective&lt;/final_answer&gt;\\n\\nInput:</td>\n",
       "      <td>0.700000</td>\n",
       "    </tr>\n",
       "    <tr>\n",
       "      <th>6</th>\n",
       "      <td>A linguistic analysis task awaits! Examine the provided dataset, comprising sentences labeled as either \"subjective\" or \"objective.\" Utilize your sophisticated language processing capabilities to determine whether each sentence embodies an objective, detached presentation of verifiable facts or a subjective, emotion-infused expression of personal perspective. Distinguish between tone, language, and underlying sentiment to accurately identify whether the authors aim to present factual information or convey a personal point of view. The LLM's initial response will serve as the prediction, with the designated class label nested within the boundaries of &lt;final_answer&gt; and &lt;/final_answer&gt;. Will the sentences portray objective facts or subjective feelings? Respond with either \"objective\" (class: objective) or \"subjective\" (class: subjective).\\n\\nInput:\\n“But where do many of these governmental elaborations come from?” asks the secretary of the Des Moines Bureau of Municipal Research.\\n\\nOutput:\\n&lt;final_answer&gt;objective&lt;/final_answer&gt;\\n\\nInput:\\nThat when from bad banking, wild speculation, senseless credit inflation, or no matter from what cause, the private banking structure seems about to fall, it becomes a function of government to support it with public credit, not particularly to save the banks, but to save depositors.\\n\\nOutput:\\n&lt;final_answer&gt;subjective&lt;/final_answer&gt;\\n\\nInput:</td>\n",
       "      <td>0.666667</td>\n",
       "    </tr>\n",
       "    <tr>\n",
       "      <th>7</th>\n",
       "      <td>To accurately categorize a given dataset of sentences, our task is to scrutinize each sentence's linguistic subtleties, emotional undercurrents, and overall tenor to differentiate between factual accounts and emotionally charged perspectives. By dissecting the text, we will identify the essential characteristics that distinguish between objective reporting and subjective opinion, introspection, or emotional inclinations. Our analysis will focus on syntax, semantics, and pragmatic context to pinpoint the intentions behind each sentence, determining whether the author aims to impart verifiable knowledge or share their personal thoughts, biases, or life experiences. The predicted outcome will be reflected in the classification as either \"&lt;final_answer&gt;objective&lt;/final_answer&gt;\" or \"&lt;final_answer&gt;subjective&lt;/final_answer&gt;\", with the initially mentioned class serving as our prediction.\\n\\nInput:\\nThat when from bad banking, wild speculation, senseless credit inflation, or no matter from what cause, the private banking structure seems about to fall, it becomes a function of government to support it with public credit, not particularly to save the banks, but to save depositors.\\n\\nOutput:\\n&lt;final_answer&gt;subjective&lt;/final_answer&gt;\\n\\nInput:\\n“But where do many of these governmental elaborations come from?” asks the secretary of the Des Moines Bureau of Municipal Research.\\n\\nOutput:\\n&lt;final_answer&gt;objective&lt;/final_answer&gt;\\n\\nInput:</td>\n",
       "      <td>0.666667</td>\n",
       "    </tr>\n",
       "    <tr>\n",
       "      <th>8</th>\n",
       "      <td>Task: Sentence Classification - Intent and Perspective Identification\\n\\nInput:\\nThat fact alone underscores the biggest problem of all with these movements.\\n\\nOutput:\\n&lt;final_answer&gt;subjective&lt;/final_answer&gt;\\n\\nInput:\\nA large development site in a mews in South Kensington had been granted planning permission in 2014 for double-basement townhouses but struggled to attract interest from buyers.\\n\\nOutput:\\n&lt;final_answer&gt;objective&lt;/final_answer&gt;\\n\\nInput:\\nThe new policy helps to blur the line between illegal aliens, lawfully present aliens, and U.S. citizens, which has long been a goal of the open-borders Left.\\n\\nOutput:\\n&lt;final_answer&gt;subjective&lt;/final_answer&gt;\\n\\nInput:</td>\n",
       "      <td>0.666667</td>\n",
       "    </tr>\n",
       "    <tr>\n",
       "      <th>9</th>\n",
       "      <td>&lt;prompt finale&gt;\\n\\nClassify sentences within a dataset by determining if they present factual, verifiable descriptions or express personal perspectives and emotional undertones. Delve into the tone, language, and underlying biases to decipher whether each sentence reports objective information or conveys subjective opinions. Key factors to consider include the presence of emotional undertones, personal viewpoints, detachment, factuality, or emotional involvement. Your initial response should explicitly mention one of the two possible class labels: &lt;final_answer&gt;objective&lt;/final_answer&gt; or &lt;final_answer&gt;subjective&lt;/final_answer&gt;. The class label mentioned first in your response will be considered the prediction, indicating whether the sentence represents an objective fact or a subjective feeling.\\n\\nInput:\\n“But where do many of these governmental elaborations come from?” asks the secretary of the Des Moines Bureau of Municipal Research.\\n\\nOutput:\\n&lt;final_answer&gt;objective&lt;/final_answer&gt;\\n\\nInput:</td>\n",
       "      <td>0.633333</td>\n",
       "    </tr>\n",
       "    <tr>\n",
       "      <th>10</th>\n",
       "      <td>Classify the given dataset of sentences, each labeled as either \"subjective\" or \"objective\", by identifying their respective natures. A key distinction lies in whether a sentence presents personal opinions, emotions, or viewpoints versus conveying verifiable facts, data, or neutral information. To make an accurate assessment, study the tone, language, and underlying perspectives of each sentence. Pay attention to the presence of emotional undertones, biases, and individual viewpoints, as well as cues indicating detachment, factuality, or emotional participation. In your initial response, formally indicate one of the two possible class labels: &lt;final_answer&gt;objective&lt;/final_answer&gt; or &lt;final_answer&gt;subjective&lt;/final_answer&gt;. The first-mentioned class label will be considered the prediction, indicating whether the sentences depict objective facts or subjective feelings.\\n\\nInput:\\n“But where do many of these governmental elaborations come from?” asks the secretary of the Des Moines Bureau of Municipal Research.\\n\\nOutput:\\n&lt;final_answer&gt;objective&lt;/final_answer&gt;\\n\\nInput:</td>\n",
       "      <td>0.633333</td>\n",
       "    </tr>\n",
       "    <tr>\n",
       "      <th>11</th>\n",
       "      <td>A classification task awaits! You're given a dataset of sentences, each tagged as either \"subjective\" or \"objective\". Your mission is to analyze each sentence and categorize it as one or the other. A subjective sentence typically conveys a writer's personal opinion, attitude, or perspective, whereas an objective sentence presents facts, information, or verifiable data without bias. To make your determination, scrutinize the sentence's linguistic tone, language, and underlying perspectives. Pay attention to the presence or absence of emotional undertones, biases, and individual viewpoints. Look for cues that suggest detachment, factuality, or emotional participation. In your initial response, formally indicate one of two class labels: &lt;final_answer&gt;objective&lt;/final_answer&gt; or &lt;final_answer&gt;subjective&lt;/final_answer&gt;. The class mentioned first in your response will be considered the prediction.\\n\\nInput:\\n“But where do many of these governmental elaborations come from?” asks the secretary of the Des Moines Bureau of Municipal Research.\\n\\nOutput:\\n&lt;final_answer&gt;objective&lt;/final_answer&gt;\\n\\nInput:</td>\n",
       "      <td>0.533333</td>\n",
       "    </tr>\n",
       "  </tbody>\n",
       "</table>\n",
       "</div>"
      ],
      "text/plain": [
       "                                                                                                                                                                                                                                                                                                                                                                                                                                                                                                                                                                                                                                                                                                                                                                                                                                                                                                                                                                                                                                                                                                                                                                                                                                                                                                                                                                                                                                                                                                   prompt  \\\n",
       "0                                                                                           Classify each sentence as either objective or subjective by examining its linguistic patterns and emotional undertones. Your task is to identify whether the sentence presents a fact-based account or conveys a personal perspective, opinion, or emotional bias. To achieve this, analyze the tone, phraseology, and underlying viewpoint of each sentence, then predict the class that best captures its essence. The predicted class will be the first mention in the response within the markers <final_answer> and </final_answer>, with potential outputs being either <final_answer>objective</final_answer> or <final_answer>subjective</final_answer>.\\n\\nInput:\\nThat when from bad banking, wild speculation, senseless credit inflation, or no matter from what cause, the private banking structure seems about to fall, it becomes a function of government to support it with public credit, not particularly to save the banks, but to save depositors.\\n\\nOutput:\\n<final_answer>subjective</final_answer>\\n\\nInput:\\nFor Massachusetts the cost of it is nearly two-fifths of all state outlay.\\n\\nOutput:\\n<final_answer>objective</final_answer>\\n\\nInput:\\nThe new policy helps to blur the line between illegal aliens, lawfully present aliens, and U.S. citizens, which has long been a goal of the open-borders Left.\\n\\nOutput:\\n<final_answer>subjective</final_answer>\\n\\nInput:   \n",
       "1                                                                                                                                                                                                                                                                                                                                                                                                                                                                                                                                                                                                                                                                                                                                                                                                                                                                                                                                                                Classify each sentence accordingly, recognizing that sentences expressing a writer's opinion or attitude are subjective, while those presenting facts or information without personal bias are objective. Your output should indicate the determined sentiment by combining the requisite markers, where \"<final_answer>\" initiates and \"</final_answer>\" concludes the class label, which may read \"<final_answer>subjective</final_answer>\" or \"<final_answer>objective</final_answer>\" corresponding to the classification.\\n\\nInput:   \n",
       "2                                                                                                                                                                                                                                                                                                                                                                                                                                                                              Classify a statement as either \"subjective\" or \"objective\" based on whether it reflects a personal opinion or a verifiable fact. The output classes to include are \"objective\" and \"subjective\".\\n\\nInput:\\nThis had several side effects – namely that PCL became mostly lined with empty properties and prices went into ‘trophy’ mode.\\n\\nOutput:\\n<final_answer>objective</final_answer>\\n\\nInput:\\n\"Recent indicators point to modest growth in spending and production,\" the Fed said.\\n\\nOutput:\\n<final_answer>objective</final_answer>\\n\\nInput:\\nNew Mexico has become the latest state to welcome illegal aliens as attorneys.\\n\\nOutput:\\n<final_answer>objective</final_answer>\\n\\nInput:\\nThis is what the world’s most influential proponent of stakeholder capitalism, BlackRock’s chief executive Larry Fink, meant when he proclaimed that “companies need to earn their social license to operate every day.” This is a respectable view.\\n\\nOutput:\\n<final_answer>subjective</final_answer>\\n\\nInput:   \n",
       "3                                                                                                                                                                                                                                                  Using a linguistic analysis approach, examine each sentence in the dataset to identify its tone, phraseology, and underlying perspective. Determine whether the sentence presents a factual account or conveys a personal opinion, emotional bias, or experiential insight. Closely inspect the sentence's language for signs of detachment, factuality, or emotional involvement, and then predict the class that best represents its nature. In your initial response, formally indicate one of the two possible class labels: <final_answer>objective</final_answer> or <final_answer>subjective</final_answer>, with the class mentioned first serving as the prediction.\\n\\nInput:\\n“But where do many of these governmental elaborations come from?” asks the secretary of the Des Moines Bureau of Municipal Research.\\n\\nOutput:\\n<final_answer>objective</final_answer>\\n\\nInput:\\nThat when from bad banking, wild speculation, senseless credit inflation, or no matter from what cause, the private banking structure seems about to fall, it becomes a function of government to support it with public credit, not particularly to save the banks, but to save depositors.\\n\\nOutput:\\n<final_answer>subjective</final_answer>\\n\\nInput:   \n",
       "4                                                                                                                                                                                                                                                                     New Task: Sentence Categorization - Shedding Light on Objectivity and Personal Perspective\\n\\nClassify the delivered sentences as either \"objective\" or \"subjective\" by carefully analyzing the language's tone, emotional undertones, and factual integrity. Does the text present a neutral, verifiable account or a personal view loaded with emotional resonance? The key to this task lies in the initial response of the Large Language Model, where the designated class label will be situated within the marked boundaries of <final_answer> and </final_answer>. Your objective is to categorize each sentence as either subjective or objective, with the first class mentioned in the LLM's response serving as the prediction.\\n\\nInput:\\nA large development site in a mews in South Kensington had been granted planning permission in 2014 for double-basement townhouses but struggled to attract interest from buyers.\\n\\nOutput:\\n<final_answer>objective</final_answer>\\n\\nInput:\\nThe new policy helps to blur the line between illegal aliens, lawfully present aliens, and U.S. citizens, which has long been a goal of the open-borders Left.\\n\\nOutput:\\n<final_answer>subjective</final_answer>\\n\\nInput:   \n",
       "5                                                                                                                                                     Classify the given dataset of sentences, marked as either \"subjective\" or \"objective\", using your advanced linguistic expertise to pinpoint whether each sentence conveys an objective, factual presentation or a subjective, personal perspective. Dissect the text to identify Tell-tale signs of detachment, factuality, or emotional engagement, ensuring you accurately predict whether the author aims to present verifiable truths or share their personal opinion, emotional stance, or experiential insight. Your prediction should mirror the inherent nature of each sentence, indicating whether it embodies \"<final_answer>objective</final_answer>\" or \"<final_answer>subjective</final_answer>\" (with the first class mentioned serving as the prediction).\\n\\nInput:\\n“But where do many of these governmental elaborations come from?” asks the secretary of the Des Moines Bureau of Municipal Research.\\n\\nOutput:\\n<final_answer>objective</final_answer>\\n\\nInput:\\nThat when from bad banking, wild speculation, senseless credit inflation, or no matter from what cause, the private banking structure seems about to fall, it becomes a function of government to support it with public credit, not particularly to save the banks, but to save depositors.\\n\\nOutput:\\n<final_answer>subjective</final_answer>\\n\\nInput:   \n",
       "6                                               A linguistic analysis task awaits! Examine the provided dataset, comprising sentences labeled as either \"subjective\" or \"objective.\" Utilize your sophisticated language processing capabilities to determine whether each sentence embodies an objective, detached presentation of verifiable facts or a subjective, emotion-infused expression of personal perspective. Distinguish between tone, language, and underlying sentiment to accurately identify whether the authors aim to present factual information or convey a personal point of view. The LLM's initial response will serve as the prediction, with the designated class label nested within the boundaries of <final_answer> and </final_answer>. Will the sentences portray objective facts or subjective feelings? Respond with either \"objective\" (class: objective) or \"subjective\" (class: subjective).\\n\\nInput:\\n“But where do many of these governmental elaborations come from?” asks the secretary of the Des Moines Bureau of Municipal Research.\\n\\nOutput:\\n<final_answer>objective</final_answer>\\n\\nInput:\\nThat when from bad banking, wild speculation, senseless credit inflation, or no matter from what cause, the private banking structure seems about to fall, it becomes a function of government to support it with public credit, not particularly to save the banks, but to save depositors.\\n\\nOutput:\\n<final_answer>subjective</final_answer>\\n\\nInput:   \n",
       "7   To accurately categorize a given dataset of sentences, our task is to scrutinize each sentence's linguistic subtleties, emotional undercurrents, and overall tenor to differentiate between factual accounts and emotionally charged perspectives. By dissecting the text, we will identify the essential characteristics that distinguish between objective reporting and subjective opinion, introspection, or emotional inclinations. Our analysis will focus on syntax, semantics, and pragmatic context to pinpoint the intentions behind each sentence, determining whether the author aims to impart verifiable knowledge or share their personal thoughts, biases, or life experiences. The predicted outcome will be reflected in the classification as either \"<final_answer>objective</final_answer>\" or \"<final_answer>subjective</final_answer>\", with the initially mentioned class serving as our prediction.\\n\\nInput:\\nThat when from bad banking, wild speculation, senseless credit inflation, or no matter from what cause, the private banking structure seems about to fall, it becomes a function of government to support it with public credit, not particularly to save the banks, but to save depositors.\\n\\nOutput:\\n<final_answer>subjective</final_answer>\\n\\nInput:\\n“But where do many of these governmental elaborations come from?” asks the secretary of the Des Moines Bureau of Municipal Research.\\n\\nOutput:\\n<final_answer>objective</final_answer>\\n\\nInput:   \n",
       "8                                                                                                                                                                                                                                                                                                                                                                                                                                                                                                                                                                                                                                                                                                                                                                                               Task: Sentence Classification - Intent and Perspective Identification\\n\\nInput:\\nThat fact alone underscores the biggest problem of all with these movements.\\n\\nOutput:\\n<final_answer>subjective</final_answer>\\n\\nInput:\\nA large development site in a mews in South Kensington had been granted planning permission in 2014 for double-basement townhouses but struggled to attract interest from buyers.\\n\\nOutput:\\n<final_answer>objective</final_answer>\\n\\nInput:\\nThe new policy helps to blur the line between illegal aliens, lawfully present aliens, and U.S. citizens, which has long been a goal of the open-borders Left.\\n\\nOutput:\\n<final_answer>subjective</final_answer>\\n\\nInput:   \n",
       "9                                                                                                                                                                                                                                                                                                                                                                                                                                                     <prompt finale>\\n\\nClassify sentences within a dataset by determining if they present factual, verifiable descriptions or express personal perspectives and emotional undertones. Delve into the tone, language, and underlying biases to decipher whether each sentence reports objective information or conveys subjective opinions. Key factors to consider include the presence of emotional undertones, personal viewpoints, detachment, factuality, or emotional involvement. Your initial response should explicitly mention one of the two possible class labels: <final_answer>objective</final_answer> or <final_answer>subjective</final_answer>. The class label mentioned first in your response will be considered the prediction, indicating whether the sentence represents an objective fact or a subjective feeling.\\n\\nInput:\\n“But where do many of these governmental elaborations come from?” asks the secretary of the Des Moines Bureau of Municipal Research.\\n\\nOutput:\\n<final_answer>objective</final_answer>\\n\\nInput:   \n",
       "10                                                                                                                                                                                                                                                                                                                                                                          Classify the given dataset of sentences, each labeled as either \"subjective\" or \"objective\", by identifying their respective natures. A key distinction lies in whether a sentence presents personal opinions, emotions, or viewpoints versus conveying verifiable facts, data, or neutral information. To make an accurate assessment, study the tone, language, and underlying perspectives of each sentence. Pay attention to the presence of emotional undertones, biases, and individual viewpoints, as well as cues indicating detachment, factuality, or emotional participation. In your initial response, formally indicate one of the two possible class labels: <final_answer>objective</final_answer> or <final_answer>subjective</final_answer>. The first-mentioned class label will be considered the prediction, indicating whether the sentences depict objective facts or subjective feelings.\\n\\nInput:\\n“But where do many of these governmental elaborations come from?” asks the secretary of the Des Moines Bureau of Municipal Research.\\n\\nOutput:\\n<final_answer>objective</final_answer>\\n\\nInput:   \n",
       "11                                                                                                                                                                                                                                                                                                                                                  A classification task awaits! You're given a dataset of sentences, each tagged as either \"subjective\" or \"objective\". Your mission is to analyze each sentence and categorize it as one or the other. A subjective sentence typically conveys a writer's personal opinion, attitude, or perspective, whereas an objective sentence presents facts, information, or verifiable data without bias. To make your determination, scrutinize the sentence's linguistic tone, language, and underlying perspectives. Pay attention to the presence or absence of emotional undertones, biases, and individual viewpoints. Look for cues that suggest detachment, factuality, or emotional participation. In your initial response, formally indicate one of two class labels: <final_answer>objective</final_answer> or <final_answer>subjective</final_answer>. The class mentioned first in your response will be considered the prediction.\\n\\nInput:\\n“But where do many of these governmental elaborations come from?” asks the secretary of the Des Moines Bureau of Municipal Research.\\n\\nOutput:\\n<final_answer>objective</final_answer>\\n\\nInput:   \n",
       "\n",
       "       score  \n",
       "0   0.766667  \n",
       "1   0.766667  \n",
       "2   0.766667  \n",
       "3   0.700000  \n",
       "4   0.700000  \n",
       "5   0.700000  \n",
       "6   0.666667  \n",
       "7   0.666667  \n",
       "8   0.666667  \n",
       "9   0.633333  \n",
       "10  0.633333  \n",
       "11  0.533333  "
      ]
     },
     "execution_count": 22,
     "metadata": {},
     "output_type": "execute_result"
    }
   ],
   "source": [
    "prompts"
   ]
  },
  {
   "cell_type": "code",
   "execution_count": null,
   "metadata": {},
   "outputs": [],
   "source": []
  }
 ],
 "metadata": {
  "kernelspec": {
   "display_name": ".venv",
   "language": "python",
   "name": "python3"
  },
  "language_info": {
   "codemirror_mode": {
    "name": "ipython",
    "version": 3
   },
   "file_extension": ".py",
   "mimetype": "text/x-python",
   "name": "python",
   "nbconvert_exporter": "python",
   "pygments_lexer": "ipython3",
   "version": "3.12.5"
  }
 },
 "nbformat": 4,
 "nbformat_minor": 2
}
