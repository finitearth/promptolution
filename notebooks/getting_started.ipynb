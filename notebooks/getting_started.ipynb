{
 "cells": [
  {
   "cell_type": "markdown",
   "metadata": {},
   "source": [
    "# Getting started"
   ]
  },
  {
   "cell_type": "markdown",
   "metadata": {},
   "source": [
    "## Before you start"
   ]
  },
  {
   "cell_type": "markdown",
   "metadata": {},
   "source": [
    "### Custom Dataset\n",
    "If you want to run prompt optimization on your own dataset, follow these steps:\n",
    "\n",
    "1. Create a folder.\n",
    "1. Create a .txt file in the folder named \"prompts.txt\". It should contain 8-12 initial prompts from where you can start the optimization. Add line breaks between each of the prompts\n",
    "1. Create two .txt files in another folder, which contain the dev set \"dev.txt\" and test set \"test.txt\" of your data points. Convert the classes of your file into integers. \n",
    "Make sure to seperate the input from the expected output with a tab!\n",
    "1. Create a description.json file that contains a dictionary, specifying:\n",
    "    - \"seed\": the folder in which you find the dev and test files\n",
    "    - \"init_prompts\": the name of the .txt file pointing to the prompts\n",
    "    - \"description\": A short description of your task, that is fed to the meta-llm in order to optimize the prompts. \n",
    "    (TIP: Include \"The class mentioned first in the response of the LLM will be the prediction.\" in the description if this is how you evaluate the models responses)\n",
    "    - \"classes\": A list of the names of the classes you are trying to predict\n",
    "\n",
    "You can find examples of how this needs to be set up in our repo at data_sets/"
   ]
  },
  {
   "cell_type": "markdown",
   "metadata": {},
   "source": [
    "## Installs"
   ]
  },
  {
   "cell_type": "code",
   "execution_count": null,
   "metadata": {},
   "outputs": [],
   "source": [
    "! pip install promptolution"
   ]
  },
  {
   "cell_type": "markdown",
   "metadata": {
    "vscode": {
     "languageId": "plaintext"
    }
   },
   "source": [
    "## Imports"
   ]
  },
  {
   "cell_type": "code",
   "execution_count": 1,
   "metadata": {},
   "outputs": [
    {
     "name": "stderr",
     "output_type": "stream",
     "text": [
      "c:\\Users\\tzehl\\Documents\\programming\\promptolution\\.venv\\Lib\\site-packages\\tqdm\\auto.py:21: TqdmWarning: IProgress not found. Please update jupyter and ipywidgets. See https://ipywidgets.readthedocs.io/en/stable/user_install.html\n",
      "  from .autonotebook import tqdm as notebook_tqdm\n"
     ]
    }
   ],
   "source": [
    "from promptolution.helpers import run_experiment\n",
    "from promptolution.config import Config"
   ]
  },
  {
   "cell_type": "markdown",
   "metadata": {},
   "source": [
    "## set up llms, predictor, tasks and optimizer"
   ]
  },
  {
   "cell_type": "code",
   "execution_count": 2,
   "metadata": {},
   "outputs": [],
   "source": [
    "token = open(\"../deepinfratoken.txt\", \"r\").read()"
   ]
  },
  {
   "cell_type": "code",
   "execution_count": 25,
   "metadata": {},
   "outputs": [],
   "source": [
    "config = Config(\n",
    "    task_name=\"subj\",\n",
    "    ds_path=\"../data_sets/cls/subj/\",\n",
    "    n_steps=8,\n",
    "    optimizer=\"evopromptde\",\n",
    "    meta_llm=\"meta-llama/Meta-Llama-3-8B-Instruct\",\n",
    "    evaluation_llm=\"meta-llama/Meta-Llama-3-8B-Instruct\",\n",
    "    downstream_llm=\"meta-llama/Meta-Llama-3-8B-Instruct\",\n",
    "    api_token=token,\n",
    "    prepend_exemplars=True,\n",
    "    exemplar_selector=\"random_search\",\n",
    "    n_exemplars=3,\n",
    ")"
   ]
  },
  {
   "cell_type": "code",
   "execution_count": 26,
   "metadata": {},
   "outputs": [],
   "source": [
    "df = run_experiment(config)"
   ]
  },
  {
   "cell_type": "code",
   "execution_count": 5,
   "metadata": {},
   "outputs": [
    {
     "data": {
      "text/html": [
       "<div>\n",
       "<style scoped>\n",
       "    .dataframe tbody tr th:only-of-type {\n",
       "        vertical-align: middle;\n",
       "    }\n",
       "\n",
       "    .dataframe tbody tr th {\n",
       "        vertical-align: top;\n",
       "    }\n",
       "\n",
       "    .dataframe thead th {\n",
       "        text-align: right;\n",
       "    }\n",
       "</style>\n",
       "<table border=\"1\" class=\"dataframe\">\n",
       "  <thead>\n",
       "    <tr style=\"text-align: right;\">\n",
       "      <th></th>\n",
       "      <th>prompt</th>\n",
       "      <th>score</th>\n",
       "    </tr>\n",
       "  </thead>\n",
       "  <tbody>\n",
       "    <tr>\n",
       "      <th>1</th>\n",
       "      <td>evaluate each sentence as either objective or ...</td>\n",
       "      <td>0.80</td>\n",
       "    </tr>\n",
       "    <tr>\n",
       "      <th>8</th>\n",
       "      <td>As a linguist, analyze a statement from a movi...</td>\n",
       "      <td>0.80</td>\n",
       "    </tr>\n",
       "    <tr>\n",
       "      <th>3</th>\n",
       "      <td>identify whether the given sentence was expres...</td>\n",
       "      <td>0.65</td>\n",
       "    </tr>\n",
       "    <tr>\n",
       "      <th>5</th>\n",
       "      <td>Analyze the textual content of a given stateme...</td>\n",
       "      <td>0.65</td>\n",
       "    </tr>\n",
       "    <tr>\n",
       "      <th>9</th>\n",
       "      <td>determine the classification of each sentence ...</td>\n",
       "      <td>0.60</td>\n",
       "    </tr>\n",
       "    <tr>\n",
       "      <th>0</th>\n",
       "      <td>evaluate each statement as either subjective o...</td>\n",
       "      <td>0.50</td>\n",
       "    </tr>\n",
       "    <tr>\n",
       "      <th>2</th>\n",
       "      <td>Classify the sentence according to its subject...</td>\n",
       "      <td>0.40</td>\n",
       "    </tr>\n",
       "    <tr>\n",
       "      <th>6</th>\n",
       "      <td>As a classifier, interpret phrases in movie re...</td>\n",
       "      <td>0.35</td>\n",
       "    </tr>\n",
       "    <tr>\n",
       "      <th>7</th>\n",
       "      <td>and\\n\\nshae is about to return to bed when she...</td>\n",
       "      <td>0.35</td>\n",
       "    </tr>\n",
       "    <tr>\n",
       "      <th>4</th>\n",
       "      <td>Analyze reviews and label them as subjective o...</td>\n",
       "      <td>0.30</td>\n",
       "    </tr>\n",
       "  </tbody>\n",
       "</table>\n",
       "</div>"
      ],
      "text/plain": [
       "                                              prompt  score\n",
       "1  evaluate each sentence as either objective or ...   0.80\n",
       "8  As a linguist, analyze a statement from a movi...   0.80\n",
       "3  identify whether the given sentence was expres...   0.65\n",
       "5  Analyze the textual content of a given stateme...   0.65\n",
       "9  determine the classification of each sentence ...   0.60\n",
       "0  evaluate each statement as either subjective o...   0.50\n",
       "2  Classify the sentence according to its subject...   0.40\n",
       "6  As a classifier, interpret phrases in movie re...   0.35\n",
       "7  and\\n\\nshae is about to return to bed when she...   0.35\n",
       "4  Analyze reviews and label them as subjective o...   0.30"
      ]
     },
     "execution_count": 5,
     "metadata": {},
     "output_type": "execute_result"
    }
   ],
   "source": [
    "df"
   ]
  }
 ],
 "metadata": {
  "kernelspec": {
   "display_name": "ds",
   "language": "python",
   "name": "python3"
  },
  "language_info": {
   "codemirror_mode": {
    "name": "ipython",
    "version": 3
   },
   "file_extension": ".py",
   "mimetype": "text/x-python",
   "name": "python",
   "nbconvert_exporter": "python",
   "pygments_lexer": "ipython3",
   "version": "3.12.5"
  }
 },
 "nbformat": 4,
 "nbformat_minor": 2
}
