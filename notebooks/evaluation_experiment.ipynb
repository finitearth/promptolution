{
 "cells": [
  {
   "cell_type": "markdown",
   "metadata": {},
   "source": [
    "# Result Analysis\n",
    "This notebook converts the extracted csv files produced by the experiments into dataframes and calculates central metrics on them as well as visualizing them. Our experiment tries out different Llama models on the Evoprompt tasks with two different al"
   ]
  },
  {
   "cell_type": "code",
   "execution_count": 381,
   "metadata": {},
   "outputs": [],
   "source": [
    "from typing import List\n",
    "import pandas as pd\n",
    "from pathlib import Path\n",
    "\n",
    "import seaborn as sns\n",
    "import matplotlib.pyplot as plt"
   ]
  },
  {
   "cell_type": "code",
   "execution_count": 382,
   "metadata": {},
   "outputs": [],
   "source": [
    "plt.style.use('mpl_stylesheet.mplstyle')"
   ]
  },
  {
   "cell_type": "code",
   "execution_count": 383,
   "metadata": {},
   "outputs": [
    {
     "name": "stderr",
     "output_type": "stream",
     "text": [
      "<>:67: SyntaxWarning: invalid escape sequence '\\M'\n",
      "<>:69: SyntaxWarning: invalid escape sequence '\\M'\n",
      "<>:67: SyntaxWarning: invalid escape sequence '\\M'\n",
      "<>:69: SyntaxWarning: invalid escape sequence '\\M'\n",
      "C:\\Users\\tzehl\\AppData\\Local\\Temp\\ipykernel_7740\\22673084.py:67: SyntaxWarning: invalid escape sequence '\\M'\n",
      "  \"meta-llama\\Meta-Llama-3-70B-Instruct\": \"Llama-3-70B\",\n",
      "C:\\Users\\tzehl\\AppData\\Local\\Temp\\ipykernel_7740\\22673084.py:69: SyntaxWarning: invalid escape sequence '\\M'\n",
      "  \"meta-llama\\Meta-Llama-3-8B-Instruct\": \"Llama-3-8B\",\n"
     ]
    }
   ],
   "source": [
    "def read_prompts(target_experiment: str, tasks: List[str]):\n",
    "    results = pd.DataFrame()\n",
    "    for logging_dir in Path(f\"../logs/{target_experiment}\").rglob(\"*.csv\"):\n",
    "        if \"best_scores\" in str(logging_dir) or not any(task in str(logging_dir) for task in tasks):\n",
    "            continue\n",
    "\n",
    "        result = pd.read_csv(logging_dir)\n",
    "\n",
    "        logging_dir = str(logging_dir)\n",
    "\n",
    "        logging_dir = logging_dir.replace(f\"..\\\\logs\\\\{target_experiment}\\\\\", \"\")\n",
    "        logging_dir = logging_dir.replace(\".csv\", \"\")\n",
    "\n",
    "        task_name, optimizer, meta_llm, evaluation_llm, random_seed = logging_dir.split(\"_\")\n",
    "\n",
    "        metainformation = pd.DataFrame(\n",
    "            {\n",
    "                \"task\": [task_name]*len(result),\n",
    "                \"optimizer\": [optimizer]*len(result),\n",
    "                \"meta_llm\": [meta_llm]*len(result),\n",
    "                \"evaluation_llm\": [evaluation_llm]*len(result),\n",
    "                \"random_seed\": [random_seed]*len(result),\n",
    "            }\n",
    "        )\n",
    "\n",
    "        result = pd.concat([result, metainformation], axis=1)\n",
    "\n",
    "        results = pd.concat([result, results], axis=0)\n",
    "\n",
    "    return results\n",
    "\n",
    "def read_best_scores(target_experiment: str):\n",
    "    return pd.read_csv(f\"../logs/{target_experiment}/best_scores.csv\")\n",
    "\n",
    "def get_mean_std(df):\n",
    "    group_cols = [\"task\", \"optimizer\", \"meta_llm\", \"downstream_llm\", \"use_task_desc\"]\n",
    "    df_copy = df.groupby(group_cols).agg(\"mean\", numeric_only=True).drop(columns=\"random_seed\")\n",
    "    df_copy[\"test_score_std\"] = df.groupby(group_cols).agg(\"std\", numeric_only=True).drop(columns=\"random_seed\")[\"test_score\"]\n",
    "    df_copy = df_copy.reset_index()\n",
    "\n",
    "    return df_copy\n",
    "\n",
    "def get_avg_across_tasks(df):\n",
    "    df_avg = df.groupby(['optimizer', 'meta_llm', \"downstream_llm\", \"use_task_desc\"]).agg({\n",
    "        'test_score': 'mean',\n",
    "    }).reset_index()\n",
    "\n",
    "    df_avg[\"task\"] = \"Average\"\n",
    "\n",
    "    df = pd.concat([df, df_avg], axis=\"index\")\n",
    "\n",
    "    return df\n",
    "\n",
    "def clean_names(df):\n",
    "    def map_task_desc(row):\n",
    "        if row is None:\n",
    "            return False\n",
    "        if type(row) is not str:\n",
    "            return False\n",
    "        return  \".txt\" in row\n",
    "        \n",
    "    llm_cols = [\"meta_llm\", \"downstream_llm\"]\n",
    "    df[llm_cols] =\\\n",
    "        df[llm_cols]\\\n",
    "            .replace({c: {\n",
    "                \"meta-llama/Meta-Llama-3-70B-Instruct\": \"Llama-3-70B\",\n",
    "                \"meta-llama\\Meta-Llama-3-70B-Instruct\": \"Llama-3-70B\",\n",
    "                \"meta-llama/Meta-Llama-3-8B-Instruct\": \"Llama-3-8B\",\n",
    "                \"meta-llama\\Meta-Llama-3-8B-Instruct\": \"Llama-3-8B\",\n",
    "                \"gpt-4o-2024-05-13\": \"gpt-4o\"\n",
    "            } for c in llm_cols})\n",
    "\n",
    "    df[\"optimizer\"] = df[\"optimizer\"].map({\n",
    "        \"evopromptde\": \"DE\",\n",
    "        \"evopromptga\": \"GA\",\n",
    "        \"init\": \"init\"\n",
    "    })\n",
    "\n",
    "    df[\"use_task_desc\"] = df[\"use_task_desc\"].map(map_task_desc)\n",
    "\n",
    "    return df\n",
    "\n",
    "def format_score(df):\n",
    "    df = df.copy()\n",
    "    def format_score_(row):\n",
    "        if pd.isna(row['test_score_std']):\n",
    "            return f\"{row['test_score']:.2f}\"\n",
    "        else:\n",
    "            return f\"{row['test_score']:.2f} ± {row['test_score_std']:.2f}\"\n",
    "\n",
    "    # Apply the formatting\n",
    "    df['test_score'] = df.apply(lambda row: format_score_({\n",
    "        'test_score': row['test_score'] * 100,\n",
    "        'test_score_std': row['test_score_std'] * 100\n",
    "    }), axis=1)\n",
    "\n",
    "    # Drop the test_score_std column as it's no longer needed\n",
    "    df = df.drop('test_score_std', axis=1)\n",
    "\n",
    "    return df\n",
    "\n",
    "\n",
    "def get_result_table(df):\n",
    "    df = df.copy()\n",
    "    return df.groupby([\"meta_llm\", \"downstream_llm\", \"optimizer\", \"task\", \"use_task_desc\"], as_index=False)\\\n",
    "        .first()\\\n",
    "        .pivot(index=['meta_llm', \"downstream_llm\", 'optimizer', \"use_task_desc\"], columns='task', values='test_score')"
   ]
  },
  {
   "cell_type": "code",
   "execution_count": 458,
   "metadata": {},
   "outputs": [],
   "source": [
    "def plot_bar(df_plot, hue=None):\n",
    "    df_plot = df_plot.loc[df_plot[\"task\"]!=\"Average\", :].copy()\n",
    "    df_plot = df_plot.sort_values(by=[\"task\", \"meta_llm\", \"use_task_desc\"], ascending=[True, False, True])\n",
    "\n",
    "    df_plot.loc[:, 'test_score'] = df_plot.loc[:, 'test_score'] * 100\n",
    "    df_plot.loc[:, 'test_score_std'] = df_plot.loc[:, 'test_score_std'] * 100\n",
    "\n",
    "    plt.figure(figsize=(14, 7))\n",
    "    plt.gcf().set_dpi(70)\n",
    "    sns.barplot(x='task', y='test_score', hue=hue, data=df_plot,\n",
    "                     capsize=0.3, errorbar=None, palette=\"Set2\")\n",
    "\n",
    "    for i, task in enumerate(df_plot['task'].unique()):\n",
    "        task_data = df_plot[df_plot['task'] == task]\n",
    "        for j, (_, row) in enumerate(task_data.iterrows()):\n",
    "            x = i + (j - (len(task_data) - 1) / 2) * (0.8 / len(task_data))\n",
    "            plt.errorbar(x, row['test_score'], yerr=row['test_score_std'],\n",
    "                         fmt='none', color='black', capsize=5)\n",
    "    plt.xlabel('Task', fontsize=12)\n",
    "    plt.ylabel('Test Score (%)', fontsize=12)\n",
    "    plt.ylim(0, 100)\n",
    "\n",
    "    plt.xticks(rotation=45, ha='right')\n",
    "\n",
    "    plt.tight_layout()\n",
    "    plt.show()"
   ]
  },
  {
   "cell_type": "markdown",
   "metadata": {},
   "source": [
    "# Big vs Small"
   ]
  },
  {
   "cell_type": "code",
   "execution_count": 459,
   "metadata": {},
   "outputs": [],
   "source": [
    "best_scores_exp = read_best_scores(\"experiment\")\n",
    "best_scores_all = get_mean_std(best_scores_exp)\n",
    "\n",
    "bestestestes = best_scores_all.copy()"
   ]
  },
  {
   "cell_type": "code",
   "execution_count": 460,
   "metadata": {},
   "outputs": [],
   "source": [
    "best_scores_init = read_best_scores(\"experiment-initial-prompts\")\n",
    "best_scores_init = best_scores_init[best_scores_init[\"downstream_llm\"].isin([\"meta-llama/Meta-Llama-3-70B-Instruct\", \"meta-llama/Meta-Llama-3-8B-Instruct\"])]\n",
    "best_scores_init[[\"meta_llm\", \"evaluation_llm\", \"use_task_desc\", \"optimizer\"]] = \"init\"\n",
    "best_scores_init = get_mean_std(best_scores_init)\n",
    "\n",
    "best_scores_all = pd.concat([best_scores_init, best_scores_all])"
   ]
  },
  {
   "cell_type": "code",
   "execution_count": 461,
   "metadata": {},
   "outputs": [],
   "source": [
    "best_scores_all = get_avg_across_tasks(best_scores_all)\n",
    "best_scores_all = clean_names(best_scores_all)"
   ]
  },
  {
   "cell_type": "code",
   "execution_count": 463,
   "metadata": {},
   "outputs": [
    {
     "data": {
      "image/png": "[encoded data removed]",
      "text/plain": [
       "<Figure size 980x490 with 1 Axes>"
      ]
     },
     "metadata": {},
     "output_type": "display_data"
    }
   ],
   "source": [
    "df_plot = best_scores_all[best_scores_all['optimizer'] == 'GA'].copy()\n",
    "init_prompts = best_scores_all[best_scores_all[\"optimizer\"]==\"init\"]\n",
    "\n",
    "df_plot = pd.concat([df_plot, init_prompts])\n",
    "plot_bar(df_plot, \"meta_llm\")\n"
   ]
  },
  {
   "cell_type": "code",
   "execution_count": 464,
   "metadata": {},
   "outputs": [],
   "source": [
    "df_plot = best_scores_all[best_scores_all['optimizer'] == 'DE'].copy()\n",
    "init_prompts = best_scores_all[(best_scores_all[\"optimizer\"]==\"init\")]\n",
    "\n",
    "df_plot = pd.concat([df_plot, init_prompts])\n"
   ]
  },
  {
   "cell_type": "code",
   "execution_count": 465,
   "metadata": {},
   "outputs": [
    {
     "data": {
      "image/png": "[encoded data removed]",
      "text/plain": [
       "<Figure size 980x490 with 1 Axes>"
      ]
     },
     "metadata": {},
     "output_type": "display_data"
    }
   ],
   "source": [
    "plot_bar(df_plot, \"meta_llm\")\n"
   ]
  },
  {
   "cell_type": "code",
   "execution_count": 466,
   "metadata": {},
   "outputs": [
    {
     "data": {
      "text/html": [
       "<div>\n",
       "<style scoped>\n",
       "    .dataframe tbody tr th:only-of-type {\n",
       "        vertical-align: middle;\n",
       "    }\n",
       "\n",
       "    .dataframe tbody tr th {\n",
       "        vertical-align: top;\n",
       "    }\n",
       "\n",
       "    .dataframe thead th {\n",
       "        text-align: right;\n",
       "    }\n",
       "</style>\n",
       "<table border=\"1\" class=\"dataframe\">\n",
       "  <thead>\n",
       "    <tr style=\"text-align: right;\">\n",
       "      <th></th>\n",
       "      <th></th>\n",
       "      <th></th>\n",
       "      <th>task</th>\n",
       "      <th>Average</th>\n",
       "      <th>agnews</th>\n",
       "      <th>cr</th>\n",
       "      <th>mr</th>\n",
       "      <th>sst-5</th>\n",
       "      <th>sst2</th>\n",
       "      <th>subj</th>\n",
       "      <th>trec</th>\n",
       "    </tr>\n",
       "    <tr>\n",
       "      <th>meta_llm</th>\n",
       "      <th>downstream_llm</th>\n",
       "      <th>optimizer</th>\n",
       "      <th>use_task_desc</th>\n",
       "      <th></th>\n",
       "      <th></th>\n",
       "      <th></th>\n",
       "      <th></th>\n",
       "      <th></th>\n",
       "      <th></th>\n",
       "      <th></th>\n",
       "      <th></th>\n",
       "    </tr>\n",
       "  </thead>\n",
       "  <tbody>\n",
       "    <tr>\n",
       "      <th rowspan=\"2\" valign=\"top\">Llama-3-70B</th>\n",
       "      <th rowspan=\"2\" valign=\"top\">Llama-3-70B</th>\n",
       "      <th>DE</th>\n",
       "      <th>False</th>\n",
       "      <td>79.74</td>\n",
       "      <td>86.67 ± 0.29</td>\n",
       "      <td>91.83 ± 0.76</td>\n",
       "      <td>91.50 ± 0.87</td>\n",
       "      <td>50.17 ± 3.25</td>\n",
       "      <td>95.17 ± 3.69</td>\n",
       "      <td>70.67 ± 6.83</td>\n",
       "      <td>72.17 ± 3.69</td>\n",
       "    </tr>\n",
       "    <tr>\n",
       "      <th>GA</th>\n",
       "      <th>False</th>\n",
       "      <td>78.26</td>\n",
       "      <td>85.50 ± 2.29</td>\n",
       "      <td>89.83 ± 2.25</td>\n",
       "      <td>88.83 ± 4.65</td>\n",
       "      <td>51.67 ± 2.25</td>\n",
       "      <td>95.33 ± 2.02</td>\n",
       "      <td>68.83 ± 8.75</td>\n",
       "      <td>67.83 ± 5.77</td>\n",
       "    </tr>\n",
       "    <tr>\n",
       "      <th rowspan=\"2\" valign=\"top\">Llama-3-8B</th>\n",
       "      <th rowspan=\"2\" valign=\"top\">Llama-3-70B</th>\n",
       "      <th>DE</th>\n",
       "      <th>False</th>\n",
       "      <td>74.52</td>\n",
       "      <td>85.00 ± 1.80</td>\n",
       "      <td>91.67 ± 1.15</td>\n",
       "      <td>90.67 ± 2.36</td>\n",
       "      <td>38.00 ± 14.31</td>\n",
       "      <td>92.00 ± 8.67</td>\n",
       "      <td>58.00 ± 10.44</td>\n",
       "      <td>66.33 ± 16.74</td>\n",
       "    </tr>\n",
       "    <tr>\n",
       "      <th>GA</th>\n",
       "      <th>False</th>\n",
       "      <td>74.50</td>\n",
       "      <td>86.50 ± 1.50</td>\n",
       "      <td>83.00 ± 5.07</td>\n",
       "      <td>84.33 ± 5.30</td>\n",
       "      <td>51.67 ± 2.36</td>\n",
       "      <td>91.33 ± 3.79</td>\n",
       "      <td>61.00 ± 7.00</td>\n",
       "      <td>63.67 ± 10.05</td>\n",
       "    </tr>\n",
       "    <tr>\n",
       "      <th>init</th>\n",
       "      <th>Llama-3-70B</th>\n",
       "      <th>init</th>\n",
       "      <th>False</th>\n",
       "      <td>72.81</td>\n",
       "      <td>86.67 ± 2.02</td>\n",
       "      <td>93.17 ± 1.76</td>\n",
       "      <td>89.67 ± 4.48</td>\n",
       "      <td>39.83 ± 31.32</td>\n",
       "      <td>93.17 ± 3.69</td>\n",
       "      <td>54.00 ± 7.26</td>\n",
       "      <td>53.17 ± 17.86</td>\n",
       "    </tr>\n",
       "  </tbody>\n",
       "</table>\n",
       "</div>"
      ],
      "text/plain": [
       "task                                               Average        agnews  \\\n",
       "meta_llm    downstream_llm optimizer use_task_desc                         \n",
       "Llama-3-70B Llama-3-70B    DE        False           79.74  86.67 ± 0.29   \n",
       "                           GA        False           78.26  85.50 ± 2.29   \n",
       "Llama-3-8B  Llama-3-70B    DE        False           74.52  85.00 ± 1.80   \n",
       "                           GA        False           74.50  86.50 ± 1.50   \n",
       "init        Llama-3-70B    init      False           72.81  86.67 ± 2.02   \n",
       "\n",
       "task                                                          cr  \\\n",
       "meta_llm    downstream_llm optimizer use_task_desc                 \n",
       "Llama-3-70B Llama-3-70B    DE        False          91.83 ± 0.76   \n",
       "                           GA        False          89.83 ± 2.25   \n",
       "Llama-3-8B  Llama-3-70B    DE        False          91.67 ± 1.15   \n",
       "                           GA        False          83.00 ± 5.07   \n",
       "init        Llama-3-70B    init      False          93.17 ± 1.76   \n",
       "\n",
       "task                                                          mr  \\\n",
       "meta_llm    downstream_llm optimizer use_task_desc                 \n",
       "Llama-3-70B Llama-3-70B    DE        False          91.50 ± 0.87   \n",
       "                           GA        False          88.83 ± 4.65   \n",
       "Llama-3-8B  Llama-3-70B    DE        False          90.67 ± 2.36   \n",
       "                           GA        False          84.33 ± 5.30   \n",
       "init        Llama-3-70B    init      False          89.67 ± 4.48   \n",
       "\n",
       "task                                                        sst-5  \\\n",
       "meta_llm    downstream_llm optimizer use_task_desc                  \n",
       "Llama-3-70B Llama-3-70B    DE        False           50.17 ± 3.25   \n",
       "                           GA        False           51.67 ± 2.25   \n",
       "Llama-3-8B  Llama-3-70B    DE        False          38.00 ± 14.31   \n",
       "                           GA        False           51.67 ± 2.36   \n",
       "init        Llama-3-70B    init      False          39.83 ± 31.32   \n",
       "\n",
       "task                                                        sst2  \\\n",
       "meta_llm    downstream_llm optimizer use_task_desc                 \n",
       "Llama-3-70B Llama-3-70B    DE        False          95.17 ± 3.69   \n",
       "                           GA        False          95.33 ± 2.02   \n",
       "Llama-3-8B  Llama-3-70B    DE        False          92.00 ± 8.67   \n",
       "                           GA        False          91.33 ± 3.79   \n",
       "init        Llama-3-70B    init      False          93.17 ± 3.69   \n",
       "\n",
       "task                                                         subj  \\\n",
       "meta_llm    downstream_llm optimizer use_task_desc                  \n",
       "Llama-3-70B Llama-3-70B    DE        False           70.67 ± 6.83   \n",
       "                           GA        False           68.83 ± 8.75   \n",
       "Llama-3-8B  Llama-3-70B    DE        False          58.00 ± 10.44   \n",
       "                           GA        False           61.00 ± 7.00   \n",
       "init        Llama-3-70B    init      False           54.00 ± 7.26   \n",
       "\n",
       "task                                                         trec  \n",
       "meta_llm    downstream_llm optimizer use_task_desc                 \n",
       "Llama-3-70B Llama-3-70B    DE        False           72.17 ± 3.69  \n",
       "                           GA        False           67.83 ± 5.77  \n",
       "Llama-3-8B  Llama-3-70B    DE        False          66.33 ± 16.74  \n",
       "                           GA        False          63.67 ± 10.05  \n",
       "init        Llama-3-70B    init      False          53.17 ± 17.86  "
      ]
     },
     "execution_count": 466,
     "metadata": {},
     "output_type": "execute_result"
    }
   ],
   "source": [
    "fancy_pants = format_score(best_scores_all)\n",
    "get_result_table(fancy_pants)"
   ]
  },
  {
   "cell_type": "markdown",
   "metadata": {},
   "source": [
    "## Results\n",
    "- we can get worse than initial prompts in certain tasks\n",
    "- variance of small model almost always higher"
   ]
  },
  {
   "cell_type": "markdown",
   "metadata": {},
   "source": [
    "# Task Description"
   ]
  },
  {
   "cell_type": "code",
   "execution_count": 467,
   "metadata": {},
   "outputs": [],
   "source": [
    "df_comparison = read_best_scores(\"experiment\")\n",
    "df_comparison = clean_names(df_comparison)\n",
    "df_comparison = df_comparison[df_comparison.meta_llm == \"Llama-3-8B\"]\n",
    "df_comparison = get_mean_std(df_comparison)\n",
    "df_comparison = get_avg_across_tasks(df_comparison)"
   ]
  },
  {
   "cell_type": "code",
   "execution_count": 468,
   "metadata": {},
   "outputs": [],
   "source": [
    "best_scores_td = read_best_scores(\"experiment-task-descr\")\n",
    "best_scores_td = get_mean_std(best_scores_td)\n",
    "best_scores_td = get_avg_across_tasks(best_scores_td)\n",
    "best_scores_td = clean_names(best_scores_td)"
   ]
  },
  {
   "cell_type": "code",
   "execution_count": 469,
   "metadata": {},
   "outputs": [
    {
     "data": {
      "text/html": [
       "<div>\n",
       "<style scoped>\n",
       "    .dataframe tbody tr th:only-of-type {\n",
       "        vertical-align: middle;\n",
       "    }\n",
       "\n",
       "    .dataframe tbody tr th {\n",
       "        vertical-align: top;\n",
       "    }\n",
       "\n",
       "    .dataframe thead th {\n",
       "        text-align: right;\n",
       "    }\n",
       "</style>\n",
       "<table border=\"1\" class=\"dataframe\">\n",
       "  <thead>\n",
       "    <tr style=\"text-align: right;\">\n",
       "      <th></th>\n",
       "      <th></th>\n",
       "      <th></th>\n",
       "      <th>task</th>\n",
       "      <th>Average</th>\n",
       "      <th>agnews</th>\n",
       "      <th>cr</th>\n",
       "      <th>mr</th>\n",
       "      <th>sst-5</th>\n",
       "      <th>sst2</th>\n",
       "      <th>subj</th>\n",
       "      <th>trec</th>\n",
       "    </tr>\n",
       "    <tr>\n",
       "      <th>meta_llm</th>\n",
       "      <th>downstream_llm</th>\n",
       "      <th>optimizer</th>\n",
       "      <th>use_task_desc</th>\n",
       "      <th></th>\n",
       "      <th></th>\n",
       "      <th></th>\n",
       "      <th></th>\n",
       "      <th></th>\n",
       "      <th></th>\n",
       "      <th></th>\n",
       "      <th></th>\n",
       "    </tr>\n",
       "  </thead>\n",
       "  <tbody>\n",
       "    <tr>\n",
       "      <th rowspan=\"4\" valign=\"top\">Llama-3-8B</th>\n",
       "      <th rowspan=\"4\" valign=\"top\">Llama-3-70B</th>\n",
       "      <th rowspan=\"2\" valign=\"top\">DE</th>\n",
       "      <th>False</th>\n",
       "      <td>74.52</td>\n",
       "      <td>85.00 ± 1.80</td>\n",
       "      <td>91.67 ± 1.15</td>\n",
       "      <td>90.67 ± 2.36</td>\n",
       "      <td>38.00 ± 14.31</td>\n",
       "      <td>92.00 ± 8.67</td>\n",
       "      <td>58.00 ± 10.44</td>\n",
       "      <td>66.33 ± 16.74</td>\n",
       "    </tr>\n",
       "    <tr>\n",
       "      <th>True</th>\n",
       "      <td>78.12</td>\n",
       "      <td>87.33 ± 0.76</td>\n",
       "      <td>93.00 ± 0.00</td>\n",
       "      <td>87.33 ± 1.04</td>\n",
       "      <td>51.33 ± 3.40</td>\n",
       "      <td>94.17 ± 4.65</td>\n",
       "      <td>59.17 ± 9.25</td>\n",
       "      <td>74.50 ± 5.41</td>\n",
       "    </tr>\n",
       "    <tr>\n",
       "      <th rowspan=\"2\" valign=\"top\">GA</th>\n",
       "      <th>False</th>\n",
       "      <td>74.50</td>\n",
       "      <td>86.50 ± 1.50</td>\n",
       "      <td>83.00 ± 5.07</td>\n",
       "      <td>84.33 ± 5.30</td>\n",
       "      <td>51.67 ± 2.36</td>\n",
       "      <td>91.33 ± 3.79</td>\n",
       "      <td>61.00 ± 7.00</td>\n",
       "      <td>63.67 ± 10.05</td>\n",
       "    </tr>\n",
       "    <tr>\n",
       "      <th>True</th>\n",
       "      <td>76.50</td>\n",
       "      <td>85.67 ± 1.04</td>\n",
       "      <td>89.83 ± 3.18</td>\n",
       "      <td>91.17 ± 3.01</td>\n",
       "      <td>46.67 ± 2.25</td>\n",
       "      <td>91.50 ± 8.26</td>\n",
       "      <td>66.33 ± 6.25</td>\n",
       "      <td>64.33 ± 2.25</td>\n",
       "    </tr>\n",
       "  </tbody>\n",
       "</table>\n",
       "</div>"
      ],
      "text/plain": [
       "task                                              Average        agnews  \\\n",
       "meta_llm   downstream_llm optimizer use_task_desc                         \n",
       "Llama-3-8B Llama-3-70B    DE        False           74.52  85.00 ± 1.80   \n",
       "                                    True            78.12  87.33 ± 0.76   \n",
       "                          GA        False           74.50  86.50 ± 1.50   \n",
       "                                    True            76.50  85.67 ± 1.04   \n",
       "\n",
       "task                                                         cr            mr  \\\n",
       "meta_llm   downstream_llm optimizer use_task_desc                               \n",
       "Llama-3-8B Llama-3-70B    DE        False          91.67 ± 1.15  90.67 ± 2.36   \n",
       "                                    True           93.00 ± 0.00  87.33 ± 1.04   \n",
       "                          GA        False          83.00 ± 5.07  84.33 ± 5.30   \n",
       "                                    True           89.83 ± 3.18  91.17 ± 3.01   \n",
       "\n",
       "task                                                       sst-5  \\\n",
       "meta_llm   downstream_llm optimizer use_task_desc                  \n",
       "Llama-3-8B Llama-3-70B    DE        False          38.00 ± 14.31   \n",
       "                                    True            51.33 ± 3.40   \n",
       "                          GA        False           51.67 ± 2.36   \n",
       "                                    True            46.67 ± 2.25   \n",
       "\n",
       "task                                                       sst2  \\\n",
       "meta_llm   downstream_llm optimizer use_task_desc                 \n",
       "Llama-3-8B Llama-3-70B    DE        False          92.00 ± 8.67   \n",
       "                                    True           94.17 ± 4.65   \n",
       "                          GA        False          91.33 ± 3.79   \n",
       "                                    True           91.50 ± 8.26   \n",
       "\n",
       "task                                                        subj  \\\n",
       "meta_llm   downstream_llm optimizer use_task_desc                  \n",
       "Llama-3-8B Llama-3-70B    DE        False          58.00 ± 10.44   \n",
       "                                    True            59.17 ± 9.25   \n",
       "                          GA        False           61.00 ± 7.00   \n",
       "                                    True            66.33 ± 6.25   \n",
       "\n",
       "task                                                        trec  \n",
       "meta_llm   downstream_llm optimizer use_task_desc                 \n",
       "Llama-3-8B Llama-3-70B    DE        False          66.33 ± 16.74  \n",
       "                                    True            74.50 ± 5.41  \n",
       "                          GA        False          63.67 ± 10.05  \n",
       "                                    True            64.33 ± 2.25  "
      ]
     },
     "execution_count": 469,
     "metadata": {},
     "output_type": "execute_result"
    }
   ],
   "source": [
    "df_plot = pd.concat([best_scores_td, df_comparison])\n",
    "fancy_pants = format_score(df_plot)\n",
    "get_result_table(fancy_pants)"
   ]
  },
  {
   "cell_type": "code",
   "execution_count": 470,
   "metadata": {},
   "outputs": [
    {
     "data": {
      "image/png": "[encoded data removed]",
      "text/plain": [
       "<Figure size 980x490 with 1 Axes>"
      ]
     },
     "metadata": {},
     "output_type": "display_data"
    }
   ],
   "source": [
    "df_plot = pd.concat([best_scores_td, df_comparison])\n",
    "df_plot = df_plot[df_plot.optimizer == \"DE\"]\n",
    "plot_bar(df_plot, \"use_task_desc\")"
   ]
  },
  {
   "cell_type": "code",
   "execution_count": 472,
   "metadata": {},
   "outputs": [
    {
     "data": {
      "image/png": "[encoded data removed]",
      "text/plain": [
       "<Figure size 980x490 with 1 Axes>"
      ]
     },
     "metadata": {},
     "output_type": "display_data"
    }
   ],
   "source": [
    "df_plot = pd.concat([best_scores_td, df_comparison])\n",
    "df_plot = df_plot[df_plot.optimizer == \"GA\"]\n",
    "plot_bar(df_plot, \"use_task_desc\")"
   ]
  },
  {
   "cell_type": "markdown",
   "metadata": {},
   "source": [
    "# Different model families"
   ]
  },
  {
   "cell_type": "code",
   "execution_count": 473,
   "metadata": {},
   "outputs": [],
   "source": [
    "df_experiment = read_best_scores(\"experiment_gpt\")\n",
    "df_experiment = df_experiment.drop(\"train_score\", axis=\"columns\")\n",
    "df_experiment[\"use_task_desc\"] = False\n",
    "df_experiment = clean_names(df_experiment)\n",
    "df_experiment = get_mean_std(df_experiment)\n",
    "df_experiment = get_avg_across_tasks(df_experiment)"
   ]
  },
  {
   "cell_type": "code",
   "execution_count": 474,
   "metadata": {},
   "outputs": [],
   "source": [
    "df_comparison = read_best_scores(\"experiment\")\n",
    "df_comparison = clean_names(df_comparison)\n",
    "df_comparison = df_comparison[df_comparison[\"meta_llm\"]==\"Llama-3-70B\"]\n",
    "df_comparison = df_comparison[df_comparison[\"use_task_desc\"]==False]\n",
    "df_comparison = df_comparison[df_comparison[\"optimizer\"]==\"DE\"]\n",
    "df_comparison = df_comparison[df_comparison[\"task\"].isin(df_experiment.task.unique())]\n",
    "\n",
    "df_comparison = get_mean_std(df_comparison)\n",
    "df_comparison = get_avg_across_tasks(df_comparison)"
   ]
  },
  {
   "cell_type": "code",
   "execution_count": 475,
   "metadata": {},
   "outputs": [
    {
     "data": {
      "image/png": "[encoded data removed]",
      "text/plain": [
       "<Figure size 980x490 with 1 Axes>"
      ]
     },
     "metadata": {},
     "output_type": "display_data"
    }
   ],
   "source": [
    "df_plot = pd.concat([df_experiment, df_comparison])\n",
    "plot_bar(df_plot, hue=\"downstream_llm\")"
   ]
  },
  {
   "cell_type": "code",
   "execution_count": 476,
   "metadata": {},
   "outputs": [
    {
     "data": {
      "text/html": [
       "<div>\n",
       "<style scoped>\n",
       "    .dataframe tbody tr th:only-of-type {\n",
       "        vertical-align: middle;\n",
       "    }\n",
       "\n",
       "    .dataframe tbody tr th {\n",
       "        vertical-align: top;\n",
       "    }\n",
       "\n",
       "    .dataframe thead th {\n",
       "        text-align: right;\n",
       "    }\n",
       "</style>\n",
       "<table border=\"1\" class=\"dataframe\">\n",
       "  <thead>\n",
       "    <tr style=\"text-align: right;\">\n",
       "      <th></th>\n",
       "      <th></th>\n",
       "      <th></th>\n",
       "      <th>task</th>\n",
       "      <th>Average</th>\n",
       "      <th>agnews</th>\n",
       "      <th>cr</th>\n",
       "      <th>sst-5</th>\n",
       "      <th>subj</th>\n",
       "    </tr>\n",
       "    <tr>\n",
       "      <th>meta_llm</th>\n",
       "      <th>downstream_llm</th>\n",
       "      <th>optimizer</th>\n",
       "      <th>use_task_desc</th>\n",
       "      <th></th>\n",
       "      <th></th>\n",
       "      <th></th>\n",
       "      <th></th>\n",
       "      <th></th>\n",
       "    </tr>\n",
       "  </thead>\n",
       "  <tbody>\n",
       "    <tr>\n",
       "      <th rowspan=\"2\" valign=\"top\">Llama-3-70B</th>\n",
       "      <th>Llama-3-70B</th>\n",
       "      <th>DE</th>\n",
       "      <th>False</th>\n",
       "      <td>74.83</td>\n",
       "      <td>86.67 ± 0.29</td>\n",
       "      <td>91.83 ± 0.76</td>\n",
       "      <td>50.17 ± 3.25</td>\n",
       "      <td>70.67 ± 6.83</td>\n",
       "    </tr>\n",
       "    <tr>\n",
       "      <th>gpt-4o</th>\n",
       "      <th>DE</th>\n",
       "      <th>False</th>\n",
       "      <td>73.92</td>\n",
       "      <td>82.17 ± 0.58</td>\n",
       "      <td>92.67 ± 3.33</td>\n",
       "      <td>51.33 ± 1.53</td>\n",
       "      <td>69.50 ± 2.60</td>\n",
       "    </tr>\n",
       "  </tbody>\n",
       "</table>\n",
       "</div>"
      ],
      "text/plain": [
       "task                                               Average        agnews  \\\n",
       "meta_llm    downstream_llm optimizer use_task_desc                         \n",
       "Llama-3-70B Llama-3-70B    DE        False           74.83  86.67 ± 0.29   \n",
       "            gpt-4o         DE        False           73.92  82.17 ± 0.58   \n",
       "\n",
       "task                                                          cr  \\\n",
       "meta_llm    downstream_llm optimizer use_task_desc                 \n",
       "Llama-3-70B Llama-3-70B    DE        False          91.83 ± 0.76   \n",
       "            gpt-4o         DE        False          92.67 ± 3.33   \n",
       "\n",
       "task                                                       sst-5          subj  \n",
       "meta_llm    downstream_llm optimizer use_task_desc                              \n",
       "Llama-3-70B Llama-3-70B    DE        False          50.17 ± 3.25  70.67 ± 6.83  \n",
       "            gpt-4o         DE        False          51.33 ± 1.53  69.50 ± 2.60  "
      ]
     },
     "execution_count": 476,
     "metadata": {},
     "output_type": "execute_result"
    }
   ],
   "source": [
    "fancy_pants = format_score(df_plot)\n",
    "get_result_table(fancy_pants)"
   ]
  },
  {
   "cell_type": "markdown",
   "metadata": {},
   "source": [
    "# DE vs GA (70 B only)"
   ]
  },
  {
   "cell_type": "code",
   "execution_count": 477,
   "metadata": {},
   "outputs": [
    {
     "data": {
      "image/png": "[encoded data removed]",
      "text/plain": [
       "<Figure size 980x490 with 1 Axes>"
      ]
     },
     "metadata": {},
     "output_type": "display_data"
    }
   ],
   "source": [
    "df_comparison = read_best_scores(\"experiment\")\n",
    "df_comparison = clean_names(df_comparison)\n",
    "df_comparison = df_comparison[df_comparison[\"meta_llm\"]==\"Llama-3-70B\"]\n",
    "\n",
    "df_comparison = get_mean_std(df_comparison)\n",
    "df_comparison = get_avg_across_tasks(df_comparison)\n",
    "\n",
    "plot_bar(df_comparison, hue=\"optimizer\")"
   ]
  },
  {
   "cell_type": "code",
   "execution_count": 478,
   "metadata": {},
   "outputs": [
    {
     "data": {
      "text/html": [
       "<div>\n",
       "<style scoped>\n",
       "    .dataframe tbody tr th:only-of-type {\n",
       "        vertical-align: middle;\n",
       "    }\n",
       "\n",
       "    .dataframe tbody tr th {\n",
       "        vertical-align: top;\n",
       "    }\n",
       "\n",
       "    .dataframe thead th {\n",
       "        text-align: right;\n",
       "    }\n",
       "</style>\n",
       "<table border=\"1\" class=\"dataframe\">\n",
       "  <thead>\n",
       "    <tr style=\"text-align: right;\">\n",
       "      <th></th>\n",
       "      <th></th>\n",
       "      <th></th>\n",
       "      <th>task</th>\n",
       "      <th>Average</th>\n",
       "      <th>agnews</th>\n",
       "      <th>cr</th>\n",
       "      <th>mr</th>\n",
       "      <th>sst-5</th>\n",
       "      <th>sst2</th>\n",
       "      <th>subj</th>\n",
       "      <th>trec</th>\n",
       "    </tr>\n",
       "    <tr>\n",
       "      <th>meta_llm</th>\n",
       "      <th>downstream_llm</th>\n",
       "      <th>optimizer</th>\n",
       "      <th>use_task_desc</th>\n",
       "      <th></th>\n",
       "      <th></th>\n",
       "      <th></th>\n",
       "      <th></th>\n",
       "      <th></th>\n",
       "      <th></th>\n",
       "      <th></th>\n",
       "      <th></th>\n",
       "    </tr>\n",
       "  </thead>\n",
       "  <tbody>\n",
       "    <tr>\n",
       "      <th rowspan=\"2\" valign=\"top\">Llama-3-70B</th>\n",
       "      <th rowspan=\"2\" valign=\"top\">Llama-3-70B</th>\n",
       "      <th>DE</th>\n",
       "      <th>False</th>\n",
       "      <td>79.74</td>\n",
       "      <td>86.67 ± 0.29</td>\n",
       "      <td>91.83 ± 0.76</td>\n",
       "      <td>91.50 ± 0.87</td>\n",
       "      <td>50.17 ± 3.25</td>\n",
       "      <td>95.17 ± 3.69</td>\n",
       "      <td>70.67 ± 6.83</td>\n",
       "      <td>72.17 ± 3.69</td>\n",
       "    </tr>\n",
       "    <tr>\n",
       "      <th>GA</th>\n",
       "      <th>False</th>\n",
       "      <td>78.26</td>\n",
       "      <td>85.50 ± 2.29</td>\n",
       "      <td>89.83 ± 2.25</td>\n",
       "      <td>88.83 ± 4.65</td>\n",
       "      <td>51.67 ± 2.25</td>\n",
       "      <td>95.33 ± 2.02</td>\n",
       "      <td>68.83 ± 8.75</td>\n",
       "      <td>67.83 ± 5.77</td>\n",
       "    </tr>\n",
       "  </tbody>\n",
       "</table>\n",
       "</div>"
      ],
      "text/plain": [
       "task                                               Average        agnews  \\\n",
       "meta_llm    downstream_llm optimizer use_task_desc                         \n",
       "Llama-3-70B Llama-3-70B    DE        False           79.74  86.67 ± 0.29   \n",
       "                           GA        False           78.26  85.50 ± 2.29   \n",
       "\n",
       "task                                                          cr  \\\n",
       "meta_llm    downstream_llm optimizer use_task_desc                 \n",
       "Llama-3-70B Llama-3-70B    DE        False          91.83 ± 0.76   \n",
       "                           GA        False          89.83 ± 2.25   \n",
       "\n",
       "task                                                          mr  \\\n",
       "meta_llm    downstream_llm optimizer use_task_desc                 \n",
       "Llama-3-70B Llama-3-70B    DE        False          91.50 ± 0.87   \n",
       "                           GA        False          88.83 ± 4.65   \n",
       "\n",
       "task                                                       sst-5  \\\n",
       "meta_llm    downstream_llm optimizer use_task_desc                 \n",
       "Llama-3-70B Llama-3-70B    DE        False          50.17 ± 3.25   \n",
       "                           GA        False          51.67 ± 2.25   \n",
       "\n",
       "task                                                        sst2  \\\n",
       "meta_llm    downstream_llm optimizer use_task_desc                 \n",
       "Llama-3-70B Llama-3-70B    DE        False          95.17 ± 3.69   \n",
       "                           GA        False          95.33 ± 2.02   \n",
       "\n",
       "task                                                        subj          trec  \n",
       "meta_llm    downstream_llm optimizer use_task_desc                              \n",
       "Llama-3-70B Llama-3-70B    DE        False          70.67 ± 6.83  72.17 ± 3.69  \n",
       "                           GA        False          68.83 ± 8.75  67.83 ± 5.77  "
      ]
     },
     "execution_count": 478,
     "metadata": {},
     "output_type": "execute_result"
    }
   ],
   "source": [
    "fancy_pants = format_score(df_comparison)\n",
    "get_result_table(fancy_pants)"
   ]
  },
  {
   "cell_type": "code",
   "execution_count": 479,
   "metadata": {},
   "outputs": [
    {
     "data": {
      "image/png": "[encoded data removed]",
      "text/plain": [
       "<Figure size 980x490 with 1 Axes>"
      ]
     },
     "metadata": {},
     "output_type": "display_data"
    }
   ],
   "source": [
    "df_comparison = read_best_scores(\"experiment\")\n",
    "df_comparison = clean_names(df_comparison)\n",
    "df_comparison = df_comparison[df_comparison[\"meta_llm\"]==\"Llama-3-8B\"]\n",
    "\n",
    "df_comparison = get_mean_std(df_comparison)\n",
    "df_comparison = get_avg_across_tasks(df_comparison)\n",
    "\n",
    "plot_bar(df_comparison, hue=\"optimizer\")"
   ]
  },
  {
   "cell_type": "code",
   "execution_count": 480,
   "metadata": {},
   "outputs": [
    {
     "data": {
      "text/html": [
       "<div>\n",
       "<style scoped>\n",
       "    .dataframe tbody tr th:only-of-type {\n",
       "        vertical-align: middle;\n",
       "    }\n",
       "\n",
       "    .dataframe tbody tr th {\n",
       "        vertical-align: top;\n",
       "    }\n",
       "\n",
       "    .dataframe thead th {\n",
       "        text-align: right;\n",
       "    }\n",
       "</style>\n",
       "<table border=\"1\" class=\"dataframe\">\n",
       "  <thead>\n",
       "    <tr style=\"text-align: right;\">\n",
       "      <th></th>\n",
       "      <th></th>\n",
       "      <th></th>\n",
       "      <th>task</th>\n",
       "      <th>Average</th>\n",
       "      <th>agnews</th>\n",
       "      <th>cr</th>\n",
       "      <th>mr</th>\n",
       "      <th>sst-5</th>\n",
       "      <th>sst2</th>\n",
       "      <th>subj</th>\n",
       "      <th>trec</th>\n",
       "    </tr>\n",
       "    <tr>\n",
       "      <th>meta_llm</th>\n",
       "      <th>downstream_llm</th>\n",
       "      <th>optimizer</th>\n",
       "      <th>use_task_desc</th>\n",
       "      <th></th>\n",
       "      <th></th>\n",
       "      <th></th>\n",
       "      <th></th>\n",
       "      <th></th>\n",
       "      <th></th>\n",
       "      <th></th>\n",
       "      <th></th>\n",
       "    </tr>\n",
       "  </thead>\n",
       "  <tbody>\n",
       "    <tr>\n",
       "      <th rowspan=\"2\" valign=\"top\">Llama-3-8B</th>\n",
       "      <th rowspan=\"2\" valign=\"top\">Llama-3-70B</th>\n",
       "      <th>DE</th>\n",
       "      <th>False</th>\n",
       "      <td>74.52</td>\n",
       "      <td>85.00 ± 1.80</td>\n",
       "      <td>91.67 ± 1.15</td>\n",
       "      <td>90.67 ± 2.36</td>\n",
       "      <td>38.00 ± 14.31</td>\n",
       "      <td>92.00 ± 8.67</td>\n",
       "      <td>58.00 ± 10.44</td>\n",
       "      <td>66.33 ± 16.74</td>\n",
       "    </tr>\n",
       "    <tr>\n",
       "      <th>GA</th>\n",
       "      <th>False</th>\n",
       "      <td>74.50</td>\n",
       "      <td>86.50 ± 1.50</td>\n",
       "      <td>83.00 ± 5.07</td>\n",
       "      <td>84.33 ± 5.30</td>\n",
       "      <td>51.67 ± 2.36</td>\n",
       "      <td>91.33 ± 3.79</td>\n",
       "      <td>61.00 ± 7.00</td>\n",
       "      <td>63.67 ± 10.05</td>\n",
       "    </tr>\n",
       "  </tbody>\n",
       "</table>\n",
       "</div>"
      ],
      "text/plain": [
       "task                                              Average        agnews  \\\n",
       "meta_llm   downstream_llm optimizer use_task_desc                         \n",
       "Llama-3-8B Llama-3-70B    DE        False           74.52  85.00 ± 1.80   \n",
       "                          GA        False           74.50  86.50 ± 1.50   \n",
       "\n",
       "task                                                         cr            mr  \\\n",
       "meta_llm   downstream_llm optimizer use_task_desc                               \n",
       "Llama-3-8B Llama-3-70B    DE        False          91.67 ± 1.15  90.67 ± 2.36   \n",
       "                          GA        False          83.00 ± 5.07  84.33 ± 5.30   \n",
       "\n",
       "task                                                       sst-5  \\\n",
       "meta_llm   downstream_llm optimizer use_task_desc                  \n",
       "Llama-3-8B Llama-3-70B    DE        False          38.00 ± 14.31   \n",
       "                          GA        False           51.67 ± 2.36   \n",
       "\n",
       "task                                                       sst2  \\\n",
       "meta_llm   downstream_llm optimizer use_task_desc                 \n",
       "Llama-3-8B Llama-3-70B    DE        False          92.00 ± 8.67   \n",
       "                          GA        False          91.33 ± 3.79   \n",
       "\n",
       "task                                                        subj  \\\n",
       "meta_llm   downstream_llm optimizer use_task_desc                  \n",
       "Llama-3-8B Llama-3-70B    DE        False          58.00 ± 10.44   \n",
       "                          GA        False           61.00 ± 7.00   \n",
       "\n",
       "task                                                        trec  \n",
       "meta_llm   downstream_llm optimizer use_task_desc                 \n",
       "Llama-3-8B Llama-3-70B    DE        False          66.33 ± 16.74  \n",
       "                          GA        False          63.67 ± 10.05  "
      ]
     },
     "execution_count": 480,
     "metadata": {},
     "output_type": "execute_result"
    }
   ],
   "source": [
    "fancy_pants = format_score(df_comparison)\n",
    "get_result_table(fancy_pants)"
   ]
  },
  {
   "cell_type": "markdown",
   "metadata": {},
   "source": [
    "# GPT 4o vs initial prompts"
   ]
  },
  {
   "cell_type": "code",
   "execution_count": 481,
   "metadata": {},
   "outputs": [],
   "source": [
    "df_comparison = read_best_scores(\"experiment-initial-prompts\")\n",
    "df_comparison[[\"meta_llm\", \"optimizer\", \"use_task_desc\", \"evaluation_llm\"]] = \"init\"\n",
    "df_comparison=df_comparison.drop(\"prompt\", axis=\"columns\")\n",
    "df_comparison = clean_names(df_comparison)\n",
    "df_comparison = df_comparison[df_comparison[\"downstream_llm\"]==\"gpt-4o\"]\n",
    "df_comparison = df_comparison[df_comparison[\"task\"].isin(df_experiment.task.unique())]\n",
    "df_comparison = get_mean_std(df_comparison)\n",
    "df_comparison = get_avg_across_tasks(df_comparison)"
   ]
  },
  {
   "cell_type": "code",
   "execution_count": 482,
   "metadata": {},
   "outputs": [
    {
     "data": {
      "image/png": "[encoded data removed]",
      "text/plain": [
       "<Figure size 980x490 with 1 Axes>"
      ]
     },
     "metadata": {},
     "output_type": "display_data"
    }
   ],
   "source": [
    "df_plot = pd.concat([df_experiment, df_comparison])\n",
    "plot_bar(df_plot, hue=\"meta_llm\")"
   ]
  },
  {
   "cell_type": "code",
   "execution_count": 483,
   "metadata": {},
   "outputs": [
    {
     "data": {
      "text/html": [
       "<div>\n",
       "<style scoped>\n",
       "    .dataframe tbody tr th:only-of-type {\n",
       "        vertical-align: middle;\n",
       "    }\n",
       "\n",
       "    .dataframe tbody tr th {\n",
       "        vertical-align: top;\n",
       "    }\n",
       "\n",
       "    .dataframe thead th {\n",
       "        text-align: right;\n",
       "    }\n",
       "</style>\n",
       "<table border=\"1\" class=\"dataframe\">\n",
       "  <thead>\n",
       "    <tr style=\"text-align: right;\">\n",
       "      <th></th>\n",
       "      <th></th>\n",
       "      <th></th>\n",
       "      <th>task</th>\n",
       "      <th>Average</th>\n",
       "      <th>agnews</th>\n",
       "      <th>cr</th>\n",
       "      <th>sst-5</th>\n",
       "      <th>subj</th>\n",
       "    </tr>\n",
       "    <tr>\n",
       "      <th>meta_llm</th>\n",
       "      <th>downstream_llm</th>\n",
       "      <th>optimizer</th>\n",
       "      <th>use_task_desc</th>\n",
       "      <th></th>\n",
       "      <th></th>\n",
       "      <th></th>\n",
       "      <th></th>\n",
       "      <th></th>\n",
       "    </tr>\n",
       "  </thead>\n",
       "  <tbody>\n",
       "    <tr>\n",
       "      <th>Llama-3-70B</th>\n",
       "      <th>gpt-4o</th>\n",
       "      <th>DE</th>\n",
       "      <th>False</th>\n",
       "      <td>73.92</td>\n",
       "      <td>82.17 ± 0.58</td>\n",
       "      <td>92.67 ± 3.33</td>\n",
       "      <td>51.33 ± 1.53</td>\n",
       "      <td>69.50 ± 2.60</td>\n",
       "    </tr>\n",
       "    <tr>\n",
       "      <th>init</th>\n",
       "      <th>gpt-4o</th>\n",
       "      <th>init</th>\n",
       "      <th>False</th>\n",
       "      <td>65.71</td>\n",
       "      <td>85.50 ± 0.87</td>\n",
       "      <td>82.33 ± 20.71</td>\n",
       "      <td>37.83 ± 19.43</td>\n",
       "      <td>57.17 ± 12.10</td>\n",
       "    </tr>\n",
       "  </tbody>\n",
       "</table>\n",
       "</div>"
      ],
      "text/plain": [
       "task                                               Average        agnews  \\\n",
       "meta_llm    downstream_llm optimizer use_task_desc                         \n",
       "Llama-3-70B gpt-4o         DE        False           73.92  82.17 ± 0.58   \n",
       "init        gpt-4o         init      False           65.71  85.50 ± 0.87   \n",
       "\n",
       "task                                                           cr  \\\n",
       "meta_llm    downstream_llm optimizer use_task_desc                  \n",
       "Llama-3-70B gpt-4o         DE        False           92.67 ± 3.33   \n",
       "init        gpt-4o         init      False          82.33 ± 20.71   \n",
       "\n",
       "task                                                        sst-5  \\\n",
       "meta_llm    downstream_llm optimizer use_task_desc                  \n",
       "Llama-3-70B gpt-4o         DE        False           51.33 ± 1.53   \n",
       "init        gpt-4o         init      False          37.83 ± 19.43   \n",
       "\n",
       "task                                                         subj  \n",
       "meta_llm    downstream_llm optimizer use_task_desc                 \n",
       "Llama-3-70B gpt-4o         DE        False           69.50 ± 2.60  \n",
       "init        gpt-4o         init      False          57.17 ± 12.10  "
      ]
     },
     "execution_count": 483,
     "metadata": {},
     "output_type": "execute_result"
    }
   ],
   "source": [
    "fancy_pants = format_score(df_plot)\n",
    "get_result_table(fancy_pants)"
   ]
  },
  {
   "cell_type": "markdown",
   "metadata": {},
   "source": [
    "# Results\n",
    "- gpt-4o seems to be more sensitive to prompt than llama"
   ]
  },
  {
   "cell_type": "markdown",
   "metadata": {},
   "source": []
  },
  {
   "cell_type": "markdown",
   "metadata": {},
   "source": []
  },
  {
   "cell_type": "markdown",
   "metadata": {},
   "source": []
  }
 ],
 "metadata": {
  "kernelspec": {
   "display_name": "promptolution-BSFNTM07-py3.11",
   "language": "python",
   "name": "python3"
  },
  "language_info": {
   "codemirror_mode": {
    "name": "ipython",
    "version": 3
   },
   "file_extension": ".py",
   "mimetype": "text/x-python",
   "name": "python",
   "nbconvert_exporter": "python",
   "pygments_lexer": "ipython3",
   "version": "3.12.5"
  }
 },
 "nbformat": 4,
 "nbformat_minor": 2
}
